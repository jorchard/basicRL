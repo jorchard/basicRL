{
 "cells": [
  {
   "cell_type": "markdown",
   "metadata": {},
   "source": [
    "# Basic Reinforcement Learning\n",
    "Purpose: To learn about RL from its most basic instantiation."
   ]
  },
  {
   "cell_type": "code",
   "execution_count": 215,
   "metadata": {},
   "outputs": [],
   "source": [
    "import numpy as np\n",
    "import matplotlib.pyplot as plt\n",
    "import torch\n",
    "import time\n",
    "from copy import deepcopy\n",
    "\n",
    "dtype = torch.float32\n",
    "if torch.cuda.is_available():\n",
    "    device = torch.device(\"cuda:6\") # Uncomment this to run on GPU\n",
    "else:\n",
    "    device = torch.device(\"cpu\")"
   ]
  },
  {
   "cell_type": "code",
   "execution_count": 2,
   "metadata": {},
   "outputs": [
    {
     "data": {
      "text/plain": [
       "device(type='cpu')"
      ]
     },
     "execution_count": 2,
     "metadata": {},
     "output_type": "execute_result"
    }
   ],
   "source": [
    "device"
   ]
  },
  {
   "cell_type": "code",
   "execution_count": 3,
   "metadata": {},
   "outputs": [],
   "source": [
    "import gym"
   ]
  },
  {
   "cell_type": "code",
   "execution_count": 15,
   "metadata": {},
   "outputs": [],
   "source": [
    "env = gym.make('LunarLander-v2')"
   ]
  },
  {
   "cell_type": "code",
   "execution_count": 4,
   "metadata": {},
   "outputs": [],
   "source": [
    "env = gym.make('CartPole-v0')"
   ]
  },
  {
   "cell_type": "markdown",
   "metadata": {},
   "source": [
    "# Agent"
   ]
  },
  {
   "cell_type": "code",
   "execution_count": 466,
   "metadata": {},
   "outputs": [],
   "source": [
    "class Vector_env(gym.Wrapper):\n",
    "    '''\n",
    "     class Vector_env\n",
    "     \n",
    "     Acts as a wrapper for the OpenAI gym environments.\n",
    "    '''\n",
    "    def __init__(self, env, n=1):\n",
    "        '''\n",
    "         venv = Vector_env(env, n=1)\n",
    "         \n",
    "         Creates n copies of env.\n",
    "        '''\n",
    "        super().__init__(env)\n",
    "        self.envs = []\n",
    "        self.n_envs = n\n",
    "        for k in range(n):\n",
    "            env_r = deepcopy(env)\n",
    "            env_r.seed(np.random.randint(10000))\n",
    "            self.envs.append(env_r)\n",
    "    \n",
    "    def reset(self):\n",
    "        '''\n",
    "         states = venv.reset()\n",
    "         \n",
    "         Resets all the environments, and returns an array with the\n",
    "         reset states in each row.\n",
    "        '''\n",
    "        states = []\n",
    "        for e in self.envs:\n",
    "            state = e.reset()\n",
    "            states.append(state)\n",
    "        self.S = np.array(states)\n",
    "        return np.array(states)\n",
    "    \n",
    "    def step(self, actions):\n",
    "        '''\n",
    "         S, R, done, info = venv.step(actions)\n",
    "         \n",
    "         Takes one step in each of the environments, and returns an array\n",
    "         for each of the resulting outputs.\n",
    "         \n",
    "         Inputs:\n",
    "           actions   an array of actions\n",
    "           \n",
    "         Outputs:\n",
    "           S    array of states after the step\n",
    "           R    array of rewards from the step\n",
    "           done array of Boolean flags:\n",
    "                  False means episode continues\n",
    "                  True means episode is done\n",
    "        '''\n",
    "        S, R, dones = [], [], []\n",
    "        for e,a in zip(self.envs, actions):\n",
    "            next_s, r, done, inf = e.step(a)\n",
    "            if done:\n",
    "                S.append(e.reset())\n",
    "            else:\n",
    "                S.append(next_s)\n",
    "            R.append(r)\n",
    "            dones.append(done)\n",
    "        return np.array(S), np.array(R), np.array(dones)\n",
    "    \n",
    "    def state(self):\n",
    "        S = []\n",
    "        for e in self.envs:\n",
    "            S.append(e.state)\n",
    "        return np.array(S)"
   ]
  },
  {
   "cell_type": "code",
   "execution_count": 1537,
   "metadata": {},
   "outputs": [],
   "source": [
    "class Agent():\n",
    "    '''\n",
    "     class Agent\n",
    "     \n",
    "     Represents an RL agent. Its Q function is represented by a neural network, so that\n",
    "       agent.Q(s) returns a vector of probabilities over action-space.\n",
    "    '''\n",
    "    def __init__(self, envs):\n",
    "        '''\n",
    "         ag = Agent(envs)\n",
    "         \n",
    "         Instantiates an Agent object.\n",
    "         \n",
    "         Inputs:\n",
    "           envs  a Vector_env object, containing the environments for the task\n",
    "        '''\n",
    "        self.envs = envs\n",
    "        self.state_dim = self.envs.observation_space.shape[0]  #state_dim\n",
    "        self.n_actions = self.envs.action_space.n  #n_actions\n",
    "        #self.state = torch.zeros(self.state_dim)\n",
    "        self._max_episode_steps = 100\n",
    "        \n",
    "        #**** DEBUG ****\n",
    "        #self.a_pointer = 0\n",
    "        #***************\n",
    "        \n",
    "        # Policy\n",
    "        self.hidden = 100\n",
    "        self.Pi_net = torch.nn.Sequential(\n",
    "                    torch.nn.Linear(self.state_dim, self.hidden),\n",
    "                    torch.nn.Sigmoid(),\n",
    "                    torch.nn.Linear(self.hidden, self.n_actions)).to(device)\n",
    "        \n",
    "        \n",
    "        # Value function\n",
    "        self.V_hidden = 80\n",
    "        self.V_net = torch.nn.Sequential(\n",
    "                    torch.nn.Linear(self.state_dim, self.V_hidden),\n",
    "                    torch.nn.Sigmoid(),\n",
    "                    torch.nn.Linear(self.V_hidden, 1)).to(device)\n",
    "        \n",
    "        # Eligibility-trace buffer for Pi_net\n",
    "        self.Piz = []\n",
    "        for p in self.Pi_net.parameters():\n",
    "            self.Piz.append(torch.zeros_like(p))\n",
    "            \n",
    "        # Eligibility-trace buffer for V_net\n",
    "        self.Vz = []\n",
    "        for p in self.V_net.parameters():\n",
    "            self.Vz.append(torch.zeros_like(p))\n",
    "        \n",
    "    def Pi(self, states=None):\n",
    "        if states is None:\n",
    "            S = torch.tensor(self.envs.state(), dtype=torch.float, device=device)\n",
    "        else:\n",
    "            S = torch.tensor(states, dtype=torch.float, device=device)\n",
    "        return torch.distributions.Categorical(logits=self.Pi_net(S))\n",
    "    \n",
    "    def V(self, states=None):\n",
    "        if states is None:\n",
    "            S = torch.from_numpy(self.envs.state()).to(device)\n",
    "        else:\n",
    "            S = torch.tensor(states, dtype=torch.float).to(device)\n",
    "        return self.V_net(S)\n",
    "    \n",
    "    \n",
    "    def ChooseAction(self, state=None, eps=0.):\n",
    "        '''\n",
    "         A = ag.ChooseAction(state, eps=0.)\n",
    "         \n",
    "         Choose an action, given the state.\n",
    "         With probability eps, it will choose an action randomly.\n",
    "         Otherwise, it will choose an action that yields the highest Q-value.\n",
    "        '''\n",
    "        #self.a_pointer += 1\n",
    "        #return global_A[self.a_pointer-1,:]\n",
    "    \n",
    "        if state is None:\n",
    "            state = self.envs.state()\n",
    "            \n",
    "        batchsize = len(state)\n",
    "        \n",
    "        with torch.no_grad():\n",
    "            Pa = self.Pi(state)\n",
    "        A = Pa.sample().detach().cpu().numpy()\n",
    "        \n",
    "        # With prob eps, choose random action\n",
    "        #A_random = np.array(np.random.randint(0, high=self.n_actions, size=batchsize), dtype=np.float)\n",
    "        A_random = np.random.choice(self.n_actions, batchsize)\n",
    "        r = np.random.rand(batchsize)\n",
    "        ridx = r<eps\n",
    "        A[ridx] = A_random[ridx]\n",
    "        \n",
    "        return A\n",
    "  \n",
    "    def Episode(self, T=200, gamma=1., eps=0.):\n",
    "        '''\n",
    "         traj = ag.Episode(gamma=1.)\n",
    "         \n",
    "         Runs one episode, and returns the trajectory. The environment is\n",
    "         automatically reset at the beginning of the episode.\n",
    "                 \n",
    "         Inputs:\n",
    "           T      number of action steps\n",
    "           gamma  reward discount\n",
    "         \n",
    "         Outputs:\n",
    "           traj trajectory, as a list of lists of the form\n",
    "                [A, S, Snext, R, G, done, info]\n",
    "                A     action taken at state S\n",
    "                S     state\n",
    "                Snext state after taking action A\n",
    "                R     reward\n",
    "                G     future return (discounted)\n",
    "                done  flag to indicate episode is done\n",
    "                info  not sure ?\n",
    "        '''\n",
    "        #S = self.envs.reset()\n",
    "        S = self.envs.S\n",
    "        traj = []\n",
    "        bs = len(S)  # batchsize\n",
    "        for k in range(T):\n",
    "            action = self.ChooseAction(state=S, eps=eps)\n",
    "            Snext, r, done = self.envs.step(action)\n",
    "            traj.append(dict(action=action, S=S, Snext=Snext, r=r, G=np.zeros(bs), done=done))\n",
    "            S = Snext\n",
    "            if False: #done.all():\n",
    "                break\n",
    "                \n",
    "        self.envs.S = S\n",
    "        # Use that trajectory (and rewards) to update the policy parameters\n",
    "        # Process the return for all visited states\n",
    "        traj[-1]['G'] = traj[-1]['r']\n",
    "        for k in range(len(traj)-2, -1, -1):\n",
    "            traj[k]['G'] = traj[k]['r'] + (1.-traj[k]['done'])*gamma*traj[k+1]['G']\n",
    "        return traj\n",
    "    \n",
    "    def ComputeReturns(self, R, dones, gamma=1.):\n",
    "        G = np.zeros_like(R)\n",
    "        G[-1] = R[-1]\n",
    "        for k in range(len(R)-2, -1, -1):\n",
    "            G[k] = R[k] + (1.-dones[k])*G[k+1]\n",
    "        return G\n",
    "\n",
    "    def Simulate(self, trials=1, eps=0.):\n",
    "        time.sleep(1)\n",
    "        avg_k = 0.\n",
    "        for trial in range(trials):\n",
    "            observation = self.envs.envs[0].reset()\n",
    "            for k in range(self._max_episode_steps):\n",
    "                self.envs.envs[0].render()\n",
    "                action = self.ChooseAction(state=[observation], eps=eps)\n",
    "\n",
    "                observation, reward, done, info = self.envs.envs[0].step(action[0])\n",
    "\n",
    "                if done:\n",
    "                    print('Done after '+str(k))\n",
    "                    avg_k += k\n",
    "                    break\n",
    "        print('Average reward: '+str(avg_k/trials))\n",
    "        time.sleep(1)\n",
    "        self.envs.envs[0].close()\n",
    "        \n",
    "        \n",
    "    \n",
    "    def orig_REINFORCE_baseline(self, T=200, gamma=1.0, alpha=0.0001, alpha_v=0.0001, eps=0.1):\n",
    "        # Perform an episode and record the trajectory\n",
    "        traj = self.Episode(T=T, eps=eps(0))\n",
    "        bs = len(traj[0]['action'])\n",
    "                \n",
    "        # Update policy parameters\n",
    "        gamma_t = torch.tensor(gamma).to(device)\n",
    "        Pa_loss = torch.tensor(0.).to(device)\n",
    "        V_loss = torch.tensor(0.).to(device)\n",
    "        \n",
    "        Gmax = np.zeros(bs, dtype=float)\n",
    "        Gbest = traj[0]['G']\n",
    "        Ghist = []\n",
    "        \n",
    "        for k,blah in enumerate(traj):\n",
    "            A = torch.from_numpy(blah['action']).to(device)\n",
    "            S = blah['S']\n",
    "            G = torch.from_numpy(blah['G']).float().to(device)  # future return\n",
    "            G.requires_grad = False\n",
    "            dones = blah['done']\n",
    "            \n",
    "            Gmax = np.maximum(Gmax, blah['G'])\n",
    "            Ghist.append(blah['G'])\n",
    "            \n",
    "            # Policy network\n",
    "            Pa = self.Pi(S)  # returns a distribution object\n",
    "            \n",
    "            # Value network\n",
    "            V = self.V(S).squeeze()\n",
    "            \n",
    "            # Error\n",
    "            with torch.no_grad():\n",
    "                err = G - V\n",
    "            \n",
    "            # Recall that d(log(Pi)) = dPi / Pi\n",
    "            logPa_x_err = Pa.log_prob(A) * err  # * gamma_t\n",
    "            Pa_loss = Pa_loss + torch.mean(logPa_x_err)\n",
    "            V_loss = V_loss + torch.mean( (G-V)**2 ) * gamma_t\n",
    "            \n",
    "            gamma_t = gamma_t*gamma\n",
    "        \n",
    "        # Backproject gradient\n",
    "        self.Pi_net.zero_grad()\n",
    "        self.V_net.zero_grad()\n",
    "        Pa_loss.backward()\n",
    "        V_loss.backward()\n",
    "        with torch.no_grad():\n",
    "            #print(self.Pi_net[-1].weight.grad)\n",
    "            for p in self.Pi_net.parameters():\n",
    "                #print(torch.sum(p.grad**2))\n",
    "                p += alpha * p.grad\n",
    "            for p in self.V_net.parameters():\n",
    "                #print(torch.sum(p.grad**2))\n",
    "                p -= alpha_v * p.grad\n",
    "            \n",
    "        #return traj\n",
    "        #return torch.mean( torch.max(G, dim=0)[0] ).cpu().item()\n",
    "        return Gmax\n",
    "        #return np.array(Ghist)\n",
    "\n",
    "\n",
    "    def REINFORCE_baseline(self, T=200, gamma=1.0, alpha=0.0001, alpha_v=0.0001, eps=0.1):\n",
    "        \n",
    "        # Run and record a batch of rollouts\n",
    "        states = np.empty((T, self.envs.n_envs, self.state_dim))\n",
    "        actions = np.empty((T, self.envs.n_envs))\n",
    "        rewards = np.empty((T, self.envs.n_envs))\n",
    "        dones = np.empty((T, self.envs.n_envs))\n",
    "        #S = self.envs.reset()\n",
    "        S = self.envs.S\n",
    "        for t in range(T):\n",
    "            A = self.ChooseAction(state=S, eps=eps(t))\n",
    "            Snext, r, done = self.envs.step(A)\n",
    "            states[t] = S\n",
    "            actions[t] = A\n",
    "            rewards[t] = r\n",
    "            dones[t] = done\n",
    "            S = Snext\n",
    "            \n",
    "        self.envs.S = S\n",
    "        \n",
    "        A = torch.from_numpy(actions).to(device)\n",
    "        \n",
    "        # Calculate returns\n",
    "        G = self.ComputeReturns(rewards, dones, gamma=gamma)\n",
    "        G = torch.from_numpy(G).to(device)\n",
    "        G.requires_grad = False\n",
    "        \n",
    "        # Run the policy network and value network on the rollout\n",
    "        Pa = self.Pi(states)\n",
    "        V = self.V(states).squeeze()\n",
    "        \n",
    "        # Calculate error\n",
    "        with torch.no_grad():\n",
    "            delta = G - V\n",
    "\n",
    "        # Policy loss\n",
    "        logPa_x_err = torch.mean(Pa.log_prob(A) * delta, dim=1)\n",
    "        Pa_loss = torch.sum( logPa_x_err )\n",
    "        \n",
    "        # Critic loss\n",
    "        V_loss = torch.sum( torch.mean((G-V)**2, dim=1) )        \n",
    "        \n",
    "        # Backproject gradient\n",
    "        self.Pi_net.zero_grad()\n",
    "        self.V_net.zero_grad()\n",
    "        Pa_loss.backward()\n",
    "        V_loss.backward()\n",
    "        \n",
    "        # Gradient step\n",
    "        with torch.no_grad():\n",
    "            #print(self.Pi_net[-1].weight.grad)\n",
    "            for p in self.Pi_net.parameters():\n",
    "                #print(torch.sum(p.grad**2))\n",
    "                p += alpha * p.grad\n",
    "            for p in self.V_net.parameters():\n",
    "                #print(torch.sum(p.grad**2))\n",
    "                p -= alpha_v * p.grad\n",
    "\n",
    "        return torch.max(G, dim=0)[0].cpu().numpy()\n",
    "        #return G.cpu().numpy()"
   ]
  },
  {
   "cell_type": "markdown",
   "metadata": {},
   "source": [
    "### Cart-Pole"
   ]
  },
  {
   "cell_type": "code",
   "execution_count": 1546,
   "metadata": {},
   "outputs": [],
   "source": [
    "env = gym.make('CartPole-v0')\n",
    "#env = gym.make('LunarLander-v2')\n",
    "S = env.reset()\n",
    "T = 200\n",
    "envs = Vector_env(env, n=32)\n",
    "global_A = np.random.choice(2, (2*T,len(envs.envs)))\n",
    "ag = Agent(envs)\n",
    "ag.envs.reset()\n",
    "ag0 = deepcopy(ag)\n",
    "ag1 = deepcopy(ag)"
   ]
  },
  {
   "cell_type": "code",
   "execution_count": 1547,
   "metadata": {},
   "outputs": [],
   "source": [
    "score = []\n",
    "counter = 0"
   ]
  },
  {
   "cell_type": "code",
   "execution_count": 1548,
   "metadata": {},
   "outputs": [],
   "source": [
    "interval = 10\n",
    "iters = 1000"
   ]
  },
  {
   "cell_type": "code",
   "execution_count": 1541,
   "metadata": {},
   "outputs": [
    {
     "name": "stdout",
     "output_type": "stream",
     "text": [
      "10: 44.425\n",
      "20: 47.71875\n",
      "30: 50.6\n",
      "40: 50.671875\n",
      "50: 54.496875\n",
      "60: 55.70625\n",
      "70: 57.61875\n",
      "80: 59.2875\n",
      "90: 59.990625\n",
      "100: 64.8625\n"
     ]
    }
   ],
   "source": [
    "mysum = 0.\n",
    "for i_episode in range(iters):\n",
    "    Gmax = ag0.orig_REINFORCE_baseline(T=T, alpha=0.0001, alpha_v=0.0001, eps=(lambda x: 0.))\n",
    "    counter += 1\n",
    "    mysum += np.mean(Gmax)\n",
    "    if counter%interval==0:\n",
    "        print(f'{counter}: {mysum/interval}')\n",
    "        score.append(mysum/interval)\n",
    "        mysum = 0."
   ]
  },
  {
   "cell_type": "code",
   "execution_count": 1549,
   "metadata": {},
   "outputs": [
    {
     "name": "stdout",
     "output_type": "stream",
     "text": [
      "10: 45.975\n",
      "20: 48.603125\n",
      "30: 51.953125\n",
      "40: 54.45625\n",
      "50: 56.25625\n",
      "60: 61.425\n",
      "70: 61.51875\n",
      "80: 62.996875\n",
      "90: 61.346875\n",
      "100: 63.50625\n",
      "110: 64.95625\n",
      "120: 67.834375\n",
      "130: 68.128125\n",
      "140: 71.34375\n",
      "150: 73.9625\n",
      "160: 69.48125\n",
      "170: 73.45\n",
      "180: 72.7125\n",
      "190: 72.046875\n",
      "200: 76.1\n",
      "210: 77.94375\n",
      "220: 81.06875\n",
      "230: 77.296875\n",
      "240: 80.75\n",
      "250: 87.315625\n",
      "260: 83.640625\n",
      "270: 83.76875\n",
      "280: 82.9\n",
      "290: 86.5625\n",
      "300: 88.628125\n",
      "310: 85.98125\n",
      "320: 89.546875\n",
      "330: 88.715625\n",
      "340: 84.221875\n",
      "350: 91.040625\n",
      "360: 85.3125\n",
      "370: 88.50625\n",
      "380: 92.50625\n",
      "390: 90.615625\n",
      "400: 89.715625\n",
      "410: 95.090625\n",
      "420: 96.115625\n",
      "430: 105.415625\n",
      "440: 106.921875\n",
      "450: 98.20625\n",
      "460: 97.51875\n",
      "470: 110.83125\n",
      "480: 114.078125\n",
      "490: 118.559375\n",
      "500: 115.371875\n",
      "510: 109.025\n",
      "520: 132.021875\n",
      "530: 124.040625\n",
      "540: 135.225\n",
      "550: 130.5\n",
      "560: 124.46875\n",
      "570: 137.765625\n",
      "580: 138.071875\n",
      "590: 140.990625\n",
      "600: 139.534375\n",
      "610: 145.98125\n",
      "620: 146.45\n",
      "630: 146.890625\n",
      "640: 145.384375\n",
      "650: 144.546875\n",
      "660: 144.625\n",
      "670: 143.521875\n",
      "680: 140.34375\n",
      "690: 147.73125\n",
      "700: 144.696875\n",
      "710: 148.33125\n",
      "720: 146.365625\n",
      "730: 147.825\n",
      "740: 141.43125\n",
      "750: 147.06875\n",
      "760: 153.14375\n",
      "770: 144.18125\n",
      "780: 146.50625\n",
      "790: 148.38125\n",
      "800: 145.415625\n",
      "810: 150.4125\n",
      "820: 148.071875\n",
      "830: 148.596875\n",
      "840: 152.8625\n",
      "850: 147.303125\n",
      "860: 145.2875\n",
      "870: 150.2625\n",
      "880: 148.85625\n",
      "890: 149.95625\n",
      "900: 145.8625\n",
      "910: 151.446875\n",
      "920: 146.871875\n",
      "930: 146.253125\n",
      "940: 148.94375\n",
      "950: 158.546875\n",
      "960: 153.903125\n",
      "970: 149.528125\n",
      "980: 151.134375\n",
      "990: 146.928125\n",
      "1000: 149.21875\n"
     ]
    }
   ],
   "source": [
    "mysum = 0.\n",
    "for i_episode in range(iters):\n",
    "    Gmax = ag1.REINFORCE_baseline(T=T, alpha=0.0001, alpha_v=0.0001, eps=(lambda x: 0.))\n",
    "    counter += 1\n",
    "    mysum += np.mean(Gmax)\n",
    "    if counter%interval==0:\n",
    "        print(f'{counter}: {mysum/interval}')\n",
    "        score.append(mysum/interval)\n",
    "        mysum = 0."
   ]
  },
  {
   "cell_type": "code",
   "execution_count": null,
   "metadata": {},
   "outputs": [],
   "source": [
    "ag0.Pi(ag0.envs.S).probs"
   ]
  },
  {
   "cell_type": "code",
   "execution_count": null,
   "metadata": {},
   "outputs": [],
   "source": [
    "ag1.Pi(ag1.envs.S).probs"
   ]
  },
  {
   "cell_type": "code",
   "execution_count": 1550,
   "metadata": {},
   "outputs": [
    {
     "data": {
      "image/png": "[encoded data removed]",
      "text/plain": [
       "<Figure size 432x288 with 1 Axes>"
      ]
     },
     "metadata": {
      "needs_background": "light"
     },
     "output_type": "display_data"
    }
   ],
   "source": [
    "plt.plot(score);"
   ]
  },
  {
   "cell_type": "code",
   "execution_count": 1551,
   "metadata": {},
   "outputs": [
    {
     "name": "stdout",
     "output_type": "stream",
     "text": [
      "Done after 123\n",
      "Done after 133\n",
      "Done after 199\n",
      "Average reward: 151.66666666666666\n"
     ]
    }
   ],
   "source": [
    "ag_r.Simulate(3, eps=0.)"
   ]
  },
  {
   "cell_type": "code",
   "execution_count": 32,
   "metadata": {},
   "outputs": [],
   "source": [
    "ag_r.envs.envs[0].close()"
   ]
  },
  {
   "cell_type": "markdown",
   "metadata": {},
   "source": [
    "## REINFORCE with Baseline"
   ]
  },
  {
   "cell_type": "code",
   "execution_count": 61,
   "metadata": {
    "collapsed": true,
    "jupyter": {
     "outputs_hidden": true
    }
   },
   "outputs": [],
   "source": [
    "env = gym.make('CartPole-v0')\n",
    "\n",
    "S = env.reset()\n",
    "ag_rb = Agent(env)\n",
    "ag_rb.env._max_episode_steps = 500"
   ]
  },
  {
   "cell_type": "code",
   "execution_count": 62,
   "metadata": {
    "collapsed": true,
    "jupyter": {
     "outputs_hidden": true
    }
   },
   "outputs": [],
   "source": [
    "score2 = []\n",
    "counter = 0\n",
    "mysum = 0\n",
    "interval = 50"
   ]
  },
  {
   "cell_type": "code",
   "execution_count": 76,
   "metadata": {
    "collapsed": true,
    "jupyter": {
     "outputs_hidden": true
    }
   },
   "outputs": [],
   "source": [
    "for i_episode in range(200):\n",
    "    traj = traj = ag_rb.REINFORCE_baseline(alpha=0.0001, alpha_v=0.0001)\n",
    "    counter += 1\n",
    "    mysum += len(traj)\n",
    "    if counter%interval==0:\n",
    "        score2.append(mysum/interval)\n",
    "        mysum = 0"
   ]
  },
  {
   "cell_type": "code",
   "execution_count": 77,
   "metadata": {
    "collapsed": true,
    "jupyter": {
     "outputs_hidden": true
    }
   },
   "outputs": [
    {
     "data": {
      "image/png": "[encoded data removed]",
      "text/plain": [
       "<Figure size 432x288 with 1 Axes>"
      ]
     },
     "metadata": {
      "needs_background": "light"
     },
     "output_type": "display_data"
    }
   ],
   "source": [
    "plt.plot(score2);"
   ]
  },
  {
   "cell_type": "code",
   "execution_count": 75,
   "metadata": {
    "collapsed": true,
    "jupyter": {
     "outputs_hidden": true
    }
   },
   "outputs": [
    {
     "name": "stdout",
     "output_type": "stream",
     "text": [
      "[-0.0245504   0.0344018  -0.00279386  0.02541287]\n"
     ]
    },
    {
     "data": {
      "text/plain": [
       "tensor([1.8533], grad_fn=<AddBackward0>)"
      ]
     },
     "execution_count": 75,
     "metadata": {},
     "output_type": "execute_result"
    }
   ],
   "source": [
    "S = ag_rb.env.reset()\n",
    "print(S)\n",
    "ag_rb.V(torch.tensor(S, dtype=torch.float))"
   ]
  },
  {
   "cell_type": "code",
   "execution_count": 63,
   "metadata": {
    "collapsed": true,
    "jupyter": {
     "outputs_hidden": true
    }
   },
   "outputs": [
    {
     "data": {
      "text/plain": [
       "tensor([17.9258], grad_fn=<AddBackward0>)"
      ]
     },
     "execution_count": 63,
     "metadata": {},
     "output_type": "execute_result"
    }
   ],
   "source": [
    "ag_rb.V(torch.tensor([0, 0, 0, 0], dtype=torch.float))"
   ]
  },
  {
   "cell_type": "code",
   "execution_count": null,
   "metadata": {},
   "outputs": [],
   "source": []
  }
 ],
 "metadata": {
  "kernelspec": {
   "display_name": "Python 3",
   "language": "python",
   "name": "python3"
  },
  "language_info": {
   "codemirror_mode": {
    "name": "ipython",
    "version": 3
   },
   "file_extension": ".py",
   "mimetype": "text/x-python",
   "name": "python",
   "nbconvert_exporter": "python",
   "pygments_lexer": "ipython3",
   "version": "3.8.3"
  }
 },
 "nbformat": 4,
 "nbformat_minor": 4
}
