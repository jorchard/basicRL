{
 "cells": [
  {
   "cell_type": "markdown",
   "metadata": {},
   "source": [
    "# Basic Reinforcement Learning\n",
    "Purpose: To learn about RL from its most basic instantiation."
   ]
  },
  {
   "cell_type": "code",
   "execution_count": 1,
   "metadata": {},
   "outputs": [],
   "source": [
    "import numpy as np\n",
    "import matplotlib.pyplot as plt\n",
    "import torch\n",
    "import time\n",
    "from copy import deepcopy\n",
    "\n",
    "dtype = torch.float32\n",
    "if torch.cuda.is_available():\n",
    "    device = torch.device(\"cuda:6\") # Uncomment this to run on GPU\n",
    "else:\n",
    "    device = torch.device(\"cpu\")"
   ]
  },
  {
   "cell_type": "code",
   "execution_count": 2,
   "metadata": {},
   "outputs": [
    {
     "data": {
      "text/plain": [
       "device(type='cpu')"
      ]
     },
     "execution_count": 2,
     "metadata": {},
     "output_type": "execute_result"
    }
   ],
   "source": [
    "device"
   ]
  },
  {
   "cell_type": "code",
   "execution_count": 3,
   "metadata": {},
   "outputs": [],
   "source": [
    "import gym"
   ]
  },
  {
   "cell_type": "code",
   "execution_count": 4,
   "metadata": {},
   "outputs": [],
   "source": [
    "env = gym.make('LunarLander-v2')"
   ]
  },
  {
   "cell_type": "code",
   "execution_count": 4,
   "metadata": {},
   "outputs": [],
   "source": [
    "env = gym.make('CartPole-v0')"
   ]
  },
  {
   "cell_type": "code",
   "execution_count": 12,
   "metadata": {},
   "outputs": [
    {
     "ename": "AttributeError",
     "evalue": "'CartPoleEnv' object has no attribute 'clone'",
     "output_type": "error",
     "traceback": [
      "\u001b[0;31m---------------------------------------------------------------------------\u001b[0m",
      "\u001b[0;31mAttributeError\u001b[0m                            Traceback (most recent call last)",
      "\u001b[0;32m<ipython-input-12-bf589e2cb706>\u001b[0m in \u001b[0;36m<module>\u001b[0;34m\u001b[0m\n\u001b[0;32m----> 1\u001b[0;31m \u001b[0menv2\u001b[0m \u001b[0;34m=\u001b[0m \u001b[0menv\u001b[0m\u001b[0;34m.\u001b[0m\u001b[0mclone\u001b[0m\u001b[0;34m(\u001b[0m\u001b[0;34m)\u001b[0m\u001b[0;34m\u001b[0m\u001b[0;34m\u001b[0m\u001b[0m\n\u001b[0m",
      "\u001b[0;32m~/opt/anaconda3/lib/python3.8/site-packages/gym/core.py\u001b[0m in \u001b[0;36m__getattr__\u001b[0;34m(self, name)\u001b[0m\n\u001b[1;32m    221\u001b[0m         \u001b[0;32mif\u001b[0m \u001b[0mname\u001b[0m\u001b[0;34m.\u001b[0m\u001b[0mstartswith\u001b[0m\u001b[0;34m(\u001b[0m\u001b[0;34m'_'\u001b[0m\u001b[0;34m)\u001b[0m\u001b[0;34m:\u001b[0m\u001b[0;34m\u001b[0m\u001b[0;34m\u001b[0m\u001b[0m\n\u001b[1;32m    222\u001b[0m             \u001b[0;32mraise\u001b[0m \u001b[0mAttributeError\u001b[0m\u001b[0;34m(\u001b[0m\u001b[0;34m\"attempted to get missing private attribute '{}'\"\u001b[0m\u001b[0;34m.\u001b[0m\u001b[0mformat\u001b[0m\u001b[0;34m(\u001b[0m\u001b[0mname\u001b[0m\u001b[0;34m)\u001b[0m\u001b[0;34m)\u001b[0m\u001b[0;34m\u001b[0m\u001b[0;34m\u001b[0m\u001b[0m\n\u001b[0;32m--> 223\u001b[0;31m         \u001b[0;32mreturn\u001b[0m \u001b[0mgetattr\u001b[0m\u001b[0;34m(\u001b[0m\u001b[0mself\u001b[0m\u001b[0;34m.\u001b[0m\u001b[0menv\u001b[0m\u001b[0;34m,\u001b[0m \u001b[0mname\u001b[0m\u001b[0;34m)\u001b[0m\u001b[0;34m\u001b[0m\u001b[0;34m\u001b[0m\u001b[0m\n\u001b[0m\u001b[1;32m    224\u001b[0m \u001b[0;34m\u001b[0m\u001b[0m\n\u001b[1;32m    225\u001b[0m     \u001b[0;34m@\u001b[0m\u001b[0mproperty\u001b[0m\u001b[0;34m\u001b[0m\u001b[0;34m\u001b[0m\u001b[0m\n",
      "\u001b[0;31mAttributeError\u001b[0m: 'CartPoleEnv' object has no attribute 'clone'"
     ]
    }
   ],
   "source": [
    "env2 = env.clone()"
   ]
  },
  {
   "cell_type": "markdown",
   "metadata": {},
   "source": [
    "# Agent"
   ]
  },
  {
   "cell_type": "code",
   "execution_count": 7,
   "metadata": {},
   "outputs": [],
   "source": [
    "class Vector_env(gym.Wrapper):\n",
    "    '''\n",
    "     class Vector_env\n",
    "     \n",
    "     Acts as a wrapper for the OpenAI gym environments.\n",
    "    '''\n",
    "    def __init__(self, env, n=1):\n",
    "        '''\n",
    "         venv = Vector_env(env, n=1)\n",
    "         \n",
    "         Creates n copies of env.\n",
    "        '''\n",
    "        super().__init__(env)\n",
    "        self.envs = []\n",
    "        self.n_envs = n\n",
    "        for k in range(n):\n",
    "            env_r = deepcopy(env)\n",
    "            env_r.seed(np.random.randint(10000))\n",
    "            self.envs.append(env_r)\n",
    "    \n",
    "    def reset(self):\n",
    "        '''\n",
    "         states = venv.reset()\n",
    "         \n",
    "         Resets all the environments, and returns an array with the\n",
    "         reset states in each row.\n",
    "        '''\n",
    "        states = []\n",
    "        for e in self.envs:\n",
    "            state = e.reset()\n",
    "            states.append(state)\n",
    "        self.S = np.array(states)\n",
    "        return np.array(states)\n",
    "    \n",
    "    def step(self, actions):\n",
    "        '''\n",
    "         S, R, done, info = venv.step(actions)\n",
    "         \n",
    "         Takes one step in each of the environments, and returns an array\n",
    "         for each of the resulting outputs.\n",
    "         \n",
    "         Inputs:\n",
    "           actions   an array of actions\n",
    "           \n",
    "         Outputs:\n",
    "           S    array of states after the step\n",
    "           R    array of rewards from the step\n",
    "           done array of Boolean flags:\n",
    "                  False means episode continues\n",
    "                  True means episode is done\n",
    "        '''\n",
    "        S, R, dones = [], [], []\n",
    "        for e,a in zip(self.envs, actions):\n",
    "            next_s, r, done, inf = e.step(a)\n",
    "            if done:\n",
    "                S.append(e.reset())\n",
    "            else:\n",
    "                S.append(next_s)\n",
    "            R.append(r)\n",
    "            dones.append(done)\n",
    "        return np.array(S), np.array(R), np.array(dones)\n",
    "    \n",
    "    def state(self):\n",
    "        S = []\n",
    "        for e in self.envs:\n",
    "            S.append(e.state)\n",
    "        return np.array(S)"
   ]
  },
  {
   "cell_type": "code",
   "execution_count": 59,
   "metadata": {},
   "outputs": [],
   "source": [
    "class Agent():\n",
    "    '''\n",
    "     class Agent\n",
    "     \n",
    "     Represents an RL agent. Its Q function is represented by a neural network, so that\n",
    "       agent.Q(s) returns a vector of probabilities over action-space.\n",
    "    '''\n",
    "    def __init__(self, envs):\n",
    "        '''\n",
    "         ag = Agent(envs)\n",
    "         \n",
    "         Instantiates an Agent object.\n",
    "         \n",
    "         Inputs:\n",
    "           envs  a Vector_env object, containing the environments for the task\n",
    "        '''\n",
    "        self.envs = envs\n",
    "        self.state_dim = self.envs.observation_space.shape[0]  #state_dim\n",
    "        self.n_actions = self.envs.action_space.n  #n_actions\n",
    "        #self.state = torch.zeros(self.state_dim)\n",
    "        self._max_episode_steps = 100\n",
    "        \n",
    "        #**** DEBUG ****\n",
    "        #self.a_pointer = 0\n",
    "        #***************\n",
    "        \n",
    "        # Policy\n",
    "        self.hidden = 512\n",
    "        self.Pi_net = torch.nn.Sequential(\n",
    "                    torch.nn.Linear(self.state_dim, self.hidden),\n",
    "                    torch.nn.ReLU(),\n",
    "                    torch.nn.Linear(self.hidden, 256),\n",
    "                    torch.nn.ReLU(),\n",
    "                    torch.nn.Linear(256, self.n_actions),\n",
    "                    torch.nn.LogSoftmax(dim=-1)).to(device)\n",
    "        \n",
    "        \n",
    "        # Value function\n",
    "        self.V_hidden = 512\n",
    "        self.V_net = torch.nn.Sequential(\n",
    "                    torch.nn.Linear(self.state_dim, self.V_hidden),\n",
    "                    torch.nn.ReLU(),\n",
    "                    torch.nn.Linear(self.V_hidden, 256),\n",
    "                    torch.nn.ReLU(),\n",
    "                    torch.nn.Linear(256, 1)).to(device)\n",
    "        \n",
    "        # Eligibility-trace buffer for Pi_net\n",
    "        self.Piz = []\n",
    "        for p in self.Pi_net.parameters():\n",
    "            self.Piz.append(torch.zeros_like(p))\n",
    "            \n",
    "        # Eligibility-trace buffer for V_net\n",
    "        self.Vz = []\n",
    "        for p in self.V_net.parameters():\n",
    "            self.Vz.append(torch.zeros_like(p))\n",
    "        \n",
    "    def Pi(self, states=None):\n",
    "        if states is None:\n",
    "            S = torch.tensor(self.envs.state(), dtype=torch.float, device=device)\n",
    "        else:\n",
    "            S = torch.tensor(states, dtype=torch.float, device=device)\n",
    "        return torch.distributions.Categorical(logits=self.Pi_net(S))\n",
    "    \n",
    "    def V(self, states=None):\n",
    "        if states is None:\n",
    "            S = torch.from_numpy(self.envs.state()).to(device)\n",
    "        else:\n",
    "            S = torch.tensor(states, dtype=torch.float).to(device)\n",
    "        return self.V_net(S)\n",
    "    \n",
    "    \n",
    "    def ChooseAction(self, state=None, eps=0.):\n",
    "        '''\n",
    "         A = ag.ChooseAction(state, eps=0.)\n",
    "         \n",
    "         Choose an action, given the state.\n",
    "         With probability eps, it will choose an action randomly.\n",
    "         Otherwise, it will choose an action that yields the highest Q-value.\n",
    "        '''\n",
    "        #self.a_pointer += 1\n",
    "        #return global_A[self.a_pointer-1,:]\n",
    "    \n",
    "        if state is None:\n",
    "            state = self.envs.state()\n",
    "            \n",
    "        batchsize = len(state)\n",
    "        \n",
    "        with torch.no_grad():\n",
    "            Pa = self.Pi(state)\n",
    "        A = Pa.sample().detach().cpu().numpy()\n",
    "        \n",
    "        # With prob eps, choose random action\n",
    "        #A_random = np.array(np.random.randint(0, high=self.n_actions, size=batchsize), dtype=np.float)\n",
    "        A_random = np.random.choice(self.n_actions, batchsize)\n",
    "        r = np.random.rand(batchsize)\n",
    "        ridx = r<eps\n",
    "        A[ridx] = A_random[ridx]\n",
    "        \n",
    "        return A\n",
    "  \n",
    "    def Episode(self, T=200, gamma=1., eps=0.):\n",
    "        '''\n",
    "         traj = ag.Episode(gamma=1.)\n",
    "         \n",
    "         Runs one episode, and returns the trajectory. The environment is\n",
    "         automatically reset at the beginning of the episode.\n",
    "                 \n",
    "         Inputs:\n",
    "           T      number of action steps\n",
    "           gamma  reward discount\n",
    "         \n",
    "         Outputs:\n",
    "           traj trajectory, as a list of lists of the form\n",
    "                [A, S, Snext, R, G, done, info]\n",
    "                A     action taken at state S\n",
    "                S     state\n",
    "                Snext state after taking action A\n",
    "                R     reward\n",
    "                G     future return (discounted)\n",
    "                done  flag to indicate episode is done\n",
    "                info  not sure ?\n",
    "        '''\n",
    "        #S = self.envs.reset()\n",
    "        S = self.envs.S\n",
    "        traj = []\n",
    "        bs = len(S)  # batchsize\n",
    "        for k in range(T):\n",
    "            action = self.ChooseAction(state=S, eps=eps)\n",
    "            Snext, r, done = self.envs.step(action)\n",
    "            traj.append(dict(action=action, S=S, Snext=Snext, r=r, G=np.zeros(bs), done=done))\n",
    "            S = Snext\n",
    "            if False: #done.all():\n",
    "                break\n",
    "                \n",
    "        self.envs.S = S\n",
    "        # Use that trajectory (and rewards) to update the policy parameters\n",
    "        # Process the return for all visited states\n",
    "        traj[-1]['G'] = traj[-1]['r']\n",
    "        for k in range(len(traj)-2, -1, -1):\n",
    "            traj[k]['G'] = traj[k]['r'] + (1.-traj[k]['done'])*gamma*traj[k+1]['G']\n",
    "        return traj\n",
    "    \n",
    "    def ComputeReturns(self, R, dones, gamma=1.):\n",
    "        G = np.zeros_like(R)\n",
    "        G[-1] = R[-1]\n",
    "        for k in range(len(R)-2, -1, -1):\n",
    "            G[k] = R[k] + (1.-dones[k])*G[k+1]\n",
    "        return G\n",
    "\n",
    "    def Simulate(self, trials=1, eps=0.):\n",
    "        time.sleep(1)\n",
    "        avg_k = 0.\n",
    "        for trial in range(trials):\n",
    "            observation = self.envs.envs[0].reset()\n",
    "            for k in range(self._max_episode_steps):\n",
    "                self.envs.envs[0].render()\n",
    "                action = self.ChooseAction(state=[observation], eps=eps)\n",
    "\n",
    "                observation, reward, done, info = self.envs.envs[0].step(action[0])\n",
    "\n",
    "                if done:\n",
    "                    print('Done after '+str(k))\n",
    "                    avg_k += k\n",
    "                    break\n",
    "        print('Average reward: '+str(avg_k/trials))\n",
    "        time.sleep(1)\n",
    "        self.envs.envs[0].close()\n",
    "        \n",
    "        \n",
    "    \n",
    "    def orig_REINFORCE_baseline(self, T=200, gamma=1.0, alpha=0.0001, alpha_v=0.0001, eps=0.1):\n",
    "        # Perform an episode and record the trajectory\n",
    "        traj = self.Episode(T=T, eps=eps(0))\n",
    "        bs = len(traj[0]['action'])\n",
    "                \n",
    "        # Update policy parameters\n",
    "        gamma_t = torch.tensor(gamma).to(device)\n",
    "        Pa_loss = torch.tensor(0.).to(device)\n",
    "        V_loss = torch.tensor(0.).to(device)\n",
    "        \n",
    "        Gmax = np.zeros(bs, dtype=float)\n",
    "        Gbest = traj[0]['G']\n",
    "        Ghist = []\n",
    "        \n",
    "        for k,blah in enumerate(traj):\n",
    "            A = torch.from_numpy(blah['action']).to(device)\n",
    "            S = blah['S']\n",
    "            G = torch.from_numpy(blah['G']).float().to(device)  # future return\n",
    "            G.requires_grad = False\n",
    "            dones = blah['done']\n",
    "            \n",
    "            Gmax = np.maximum(Gmax, blah['G'])\n",
    "            Ghist.append(blah['G'])\n",
    "            \n",
    "            # Policy network\n",
    "            Pa = self.Pi(S)  # returns a distribution object\n",
    "            \n",
    "            # Value network\n",
    "            V = self.V(S).squeeze()\n",
    "            \n",
    "            # Error\n",
    "            with torch.no_grad():\n",
    "                err = G - V\n",
    "            \n",
    "            # Recall that d(log(Pi)) = dPi / Pi\n",
    "            logPa_x_err = Pa.log_prob(A) * err  # * gamma_t\n",
    "            Pa_loss = Pa_loss + torch.mean(logPa_x_err)\n",
    "            V_loss = V_loss + torch.mean( (G-V)**2 ) * gamma_t\n",
    "            \n",
    "            gamma_t = gamma_t*gamma\n",
    "        \n",
    "        # Backproject gradient\n",
    "        self.Pi_net.zero_grad()\n",
    "        self.V_net.zero_grad()\n",
    "        Pa_loss.backward()\n",
    "        V_loss.backward()\n",
    "        with torch.no_grad():\n",
    "            #print(self.Pi_net[-1].weight.grad)\n",
    "            for p in self.Pi_net.parameters():\n",
    "                #print(torch.sum(p.grad**2))\n",
    "                p += alpha * p.grad\n",
    "            for p in self.V_net.parameters():\n",
    "                #print(torch.sum(p.grad**2))\n",
    "                p -= alpha_v * p.grad\n",
    "            \n",
    "        #return traj\n",
    "        #return torch.mean( torch.max(G, dim=0)[0] ).cpu().item()\n",
    "        return Gmax\n",
    "        #return np.array(Ghist)\n",
    "\n",
    "\n",
    "    def REINFORCE_baseline(self, T=200, gamma=1.0, alpha=0.0001, alpha_v=0.0001, eps=0.1):\n",
    "        \n",
    "        # Run and record a batch of rollouts\n",
    "        states = np.empty((T, self.envs.n_envs, self.state_dim))\n",
    "        actions = np.empty((T, self.envs.n_envs))\n",
    "        rewards = np.empty((T, self.envs.n_envs))\n",
    "        dones = np.empty((T, self.envs.n_envs))\n",
    "        #S = self.envs.reset()\n",
    "        S = self.envs.S\n",
    "        for t in range(T):\n",
    "            A = self.ChooseAction(state=S, eps=eps(t))\n",
    "            Snext, r, done = self.envs.step(A)\n",
    "            states[t] = S\n",
    "            actions[t] = A\n",
    "            rewards[t] = r\n",
    "            dones[t] = done\n",
    "            S = Snext\n",
    "            \n",
    "        self.envs.S = S\n",
    "        \n",
    "        A = torch.from_numpy(actions).to(device)\n",
    "        \n",
    "        # Calculate returns\n",
    "        G = self.ComputeReturns(rewards, dones, gamma=gamma)\n",
    "        G = torch.from_numpy(G).to(device)\n",
    "        G.requires_grad = False\n",
    "        \n",
    "        # Run the policy network and value network on the rollout\n",
    "        Pa = self.Pi(states)\n",
    "        V = self.V(states).squeeze()\n",
    "        \n",
    "        # Calculate error\n",
    "        with torch.no_grad():\n",
    "            delta = G - V\n",
    "\n",
    "        # Policy loss\n",
    "        logPa_x_err = torch.mean(Pa.log_prob(A) * delta, dim=1)\n",
    "        Pa_loss = torch.sum( logPa_x_err )\n",
    "        \n",
    "        # Critic loss\n",
    "        V_loss = torch.sum( torch.mean((G-V)**2, dim=1) )        \n",
    "        \n",
    "        # Backproject gradient\n",
    "        self.Pi_net.zero_grad()\n",
    "        self.V_net.zero_grad()\n",
    "        Pa_loss.backward()\n",
    "        V_loss.backward()\n",
    "        \n",
    "        # Gradient step\n",
    "        with torch.no_grad():\n",
    "            #print(self.Pi_net[-1].weight.grad)\n",
    "            for p in self.Pi_net.parameters():\n",
    "                #print(torch.sum(p.grad**2))\n",
    "                p += alpha * p.grad\n",
    "            for p in self.V_net.parameters():\n",
    "                #print(torch.sum(p.grad**2))\n",
    "                p -= alpha_v * p.grad\n",
    "\n",
    "        return torch.max(G, dim=0)[0].cpu().numpy()\n",
    "        #return G.cpu().numpy()"
   ]
  },
  {
   "cell_type": "markdown",
   "metadata": {},
   "source": [
    "### Cart-Pole"
   ]
  },
  {
   "cell_type": "code",
   "execution_count": 53,
   "metadata": {},
   "outputs": [],
   "source": [
    "#env = gym.make('CartPole-v0')\n",
    "env = gym.make('LunarLander-v2')\n",
    "S = env.reset()\n",
    "T = 100\n",
    "envs = Vector_env(env, n=3)\n",
    "global_A = np.random.choice(2, (2*T,len(envs.envs)))\n",
    "ag = Agent(envs)\n",
    "ag.envs.reset()\n",
    "ag0 = deepcopy(ag)\n",
    "ag1 = deepcopy(ag)"
   ]
  },
  {
   "cell_type": "code",
   "execution_count": 54,
   "metadata": {},
   "outputs": [],
   "source": [
    "score = []\n",
    "counter = 0"
   ]
  },
  {
   "cell_type": "code",
   "execution_count": 55,
   "metadata": {},
   "outputs": [],
   "source": [
    "interval = 10\n",
    "iters = 400"
   ]
  },
  {
   "cell_type": "code",
   "execution_count": null,
   "metadata": {},
   "outputs": [],
   "source": [
    "mysum = 0.\n",
    "for i_episode in range(iters):\n",
    "    Gmax = ag0.orig_REINFORCE_baseline(T=T, alpha=0.0001, alpha_v=0.0001, eps=(lambda x: 0.8))\n",
    "    counter += 1\n",
    "    mysum += np.mean(Gmax)\n",
    "    if counter%interval==0:\n",
    "        print(f'{counter}: {mysum/interval}')\n",
    "        score.append(mysum/interval)\n",
    "        mysum = 0."
   ]
  },
  {
   "cell_type": "code",
   "execution_count": 43,
   "metadata": {},
   "outputs": [
    {
     "data": {
      "text/plain": [
       "tensor([[-1.4342, -1.3963, -1.3655, -1.3513],\n",
       "        [-1.4435, -1.3868, -1.3462, -1.3713],\n",
       "        [-1.4447, -1.3783, -1.3664, -1.3580]], grad_fn=<SubBackward0>)"
      ]
     },
     "execution_count": 43,
     "metadata": {},
     "output_type": "execute_result"
    }
   ],
   "source": [
    "ag1.Pi(ag1.envs.S).logits"
   ]
  },
  {
   "cell_type": "code",
   "execution_count": 56,
   "metadata": {},
   "outputs": [
    {
     "name": "stdout",
     "output_type": "stream",
     "text": [
      "10: 27.34761611911149\n",
      "20: 3.0302463184835657\n",
      "30: 2.1947891321657154\n",
      "40: 0.3261674283950934\n",
      "50: 1.7415845909162346\n",
      "60: 5.161302393013194\n",
      "70: 3.8814019645798217\n",
      "80: 1.2995642039405257\n",
      "90: 7.124609706876109\n",
      "100: 1.5958808440999093\n"
     ]
    },
    {
     "ename": "RuntimeError",
     "evalue": "invalid multinomial distribution (encountering probability entry < 0)",
     "output_type": "error",
     "traceback": [
      "\u001b[0;31m---------------------------------------------------------------------------\u001b[0m",
      "\u001b[0;31mRuntimeError\u001b[0m                              Traceback (most recent call last)",
      "\u001b[0;32m<ipython-input-56-4a9a7f0be228>\u001b[0m in \u001b[0;36m<module>\u001b[0;34m\u001b[0m\n\u001b[1;32m      1\u001b[0m \u001b[0mmysum\u001b[0m \u001b[0;34m=\u001b[0m \u001b[0;36m0.\u001b[0m\u001b[0;34m\u001b[0m\u001b[0;34m\u001b[0m\u001b[0m\n\u001b[1;32m      2\u001b[0m \u001b[0;32mfor\u001b[0m \u001b[0mi_episode\u001b[0m \u001b[0;32min\u001b[0m \u001b[0mrange\u001b[0m\u001b[0;34m(\u001b[0m\u001b[0miters\u001b[0m\u001b[0;34m)\u001b[0m\u001b[0;34m:\u001b[0m\u001b[0;34m\u001b[0m\u001b[0;34m\u001b[0m\u001b[0m\n\u001b[0;32m----> 3\u001b[0;31m     \u001b[0mGmax\u001b[0m \u001b[0;34m=\u001b[0m \u001b[0mag1\u001b[0m\u001b[0;34m.\u001b[0m\u001b[0mREINFORCE_baseline\u001b[0m\u001b[0;34m(\u001b[0m\u001b[0mT\u001b[0m\u001b[0;34m=\u001b[0m\u001b[0mT\u001b[0m\u001b[0;34m,\u001b[0m \u001b[0malpha\u001b[0m\u001b[0;34m=\u001b[0m\u001b[0;36m0.00001\u001b[0m\u001b[0;34m,\u001b[0m \u001b[0malpha_v\u001b[0m\u001b[0;34m=\u001b[0m\u001b[0;36m0.00001\u001b[0m\u001b[0;34m,\u001b[0m \u001b[0meps\u001b[0m\u001b[0;34m=\u001b[0m\u001b[0;34m(\u001b[0m\u001b[0;32mlambda\u001b[0m \u001b[0mx\u001b[0m\u001b[0;34m:\u001b[0m \u001b[0;36m0.9\u001b[0m\u001b[0;34m)\u001b[0m\u001b[0;34m)\u001b[0m\u001b[0;34m\u001b[0m\u001b[0;34m\u001b[0m\u001b[0m\n\u001b[0m\u001b[1;32m      4\u001b[0m     \u001b[0mcounter\u001b[0m \u001b[0;34m+=\u001b[0m \u001b[0;36m1\u001b[0m\u001b[0;34m\u001b[0m\u001b[0;34m\u001b[0m\u001b[0m\n\u001b[1;32m      5\u001b[0m     \u001b[0mmysum\u001b[0m \u001b[0;34m+=\u001b[0m \u001b[0mnp\u001b[0m\u001b[0;34m.\u001b[0m\u001b[0mmean\u001b[0m\u001b[0;34m(\u001b[0m\u001b[0mGmax\u001b[0m\u001b[0;34m)\u001b[0m\u001b[0;34m\u001b[0m\u001b[0;34m\u001b[0m\u001b[0m\n",
      "\u001b[0;32m<ipython-input-38-60fd77bdfada>\u001b[0m in \u001b[0;36mREINFORCE_baseline\u001b[0;34m(self, T, gamma, alpha, alpha_v, eps)\u001b[0m\n\u001b[1;32m    240\u001b[0m         \u001b[0mS\u001b[0m \u001b[0;34m=\u001b[0m \u001b[0mself\u001b[0m\u001b[0;34m.\u001b[0m\u001b[0menvs\u001b[0m\u001b[0;34m.\u001b[0m\u001b[0mS\u001b[0m\u001b[0;34m\u001b[0m\u001b[0;34m\u001b[0m\u001b[0m\n\u001b[1;32m    241\u001b[0m         \u001b[0;32mfor\u001b[0m \u001b[0mt\u001b[0m \u001b[0;32min\u001b[0m \u001b[0mrange\u001b[0m\u001b[0;34m(\u001b[0m\u001b[0mT\u001b[0m\u001b[0;34m)\u001b[0m\u001b[0;34m:\u001b[0m\u001b[0;34m\u001b[0m\u001b[0;34m\u001b[0m\u001b[0m\n\u001b[0;32m--> 242\u001b[0;31m             \u001b[0mA\u001b[0m \u001b[0;34m=\u001b[0m \u001b[0mself\u001b[0m\u001b[0;34m.\u001b[0m\u001b[0mChooseAction\u001b[0m\u001b[0;34m(\u001b[0m\u001b[0mstate\u001b[0m\u001b[0;34m=\u001b[0m\u001b[0mS\u001b[0m\u001b[0;34m,\u001b[0m \u001b[0meps\u001b[0m\u001b[0;34m=\u001b[0m\u001b[0meps\u001b[0m\u001b[0;34m(\u001b[0m\u001b[0mt\u001b[0m\u001b[0;34m)\u001b[0m\u001b[0;34m)\u001b[0m\u001b[0;34m\u001b[0m\u001b[0;34m\u001b[0m\u001b[0m\n\u001b[0m\u001b[1;32m    243\u001b[0m             \u001b[0mSnext\u001b[0m\u001b[0;34m,\u001b[0m \u001b[0mr\u001b[0m\u001b[0;34m,\u001b[0m \u001b[0mdone\u001b[0m \u001b[0;34m=\u001b[0m \u001b[0mself\u001b[0m\u001b[0;34m.\u001b[0m\u001b[0menvs\u001b[0m\u001b[0;34m.\u001b[0m\u001b[0mstep\u001b[0m\u001b[0;34m(\u001b[0m\u001b[0mA\u001b[0m\u001b[0;34m)\u001b[0m\u001b[0;34m\u001b[0m\u001b[0;34m\u001b[0m\u001b[0m\n\u001b[1;32m    244\u001b[0m             \u001b[0mstates\u001b[0m\u001b[0;34m[\u001b[0m\u001b[0mt\u001b[0m\u001b[0;34m]\u001b[0m \u001b[0;34m=\u001b[0m \u001b[0mS\u001b[0m\u001b[0;34m\u001b[0m\u001b[0;34m\u001b[0m\u001b[0m\n",
      "\u001b[0;32m<ipython-input-38-60fd77bdfada>\u001b[0m in \u001b[0;36mChooseAction\u001b[0;34m(self, state, eps)\u001b[0m\n\u001b[1;32m     88\u001b[0m         \u001b[0;32mwith\u001b[0m \u001b[0mtorch\u001b[0m\u001b[0;34m.\u001b[0m\u001b[0mno_grad\u001b[0m\u001b[0;34m(\u001b[0m\u001b[0;34m)\u001b[0m\u001b[0;34m:\u001b[0m\u001b[0;34m\u001b[0m\u001b[0;34m\u001b[0m\u001b[0m\n\u001b[1;32m     89\u001b[0m             \u001b[0mPa\u001b[0m \u001b[0;34m=\u001b[0m \u001b[0mself\u001b[0m\u001b[0;34m.\u001b[0m\u001b[0mPi\u001b[0m\u001b[0;34m(\u001b[0m\u001b[0mstate\u001b[0m\u001b[0;34m)\u001b[0m\u001b[0;34m\u001b[0m\u001b[0;34m\u001b[0m\u001b[0m\n\u001b[0;32m---> 90\u001b[0;31m         \u001b[0mA\u001b[0m \u001b[0;34m=\u001b[0m \u001b[0mPa\u001b[0m\u001b[0;34m.\u001b[0m\u001b[0msample\u001b[0m\u001b[0;34m(\u001b[0m\u001b[0;34m)\u001b[0m\u001b[0;34m.\u001b[0m\u001b[0mdetach\u001b[0m\u001b[0;34m(\u001b[0m\u001b[0;34m)\u001b[0m\u001b[0;34m.\u001b[0m\u001b[0mcpu\u001b[0m\u001b[0;34m(\u001b[0m\u001b[0;34m)\u001b[0m\u001b[0;34m.\u001b[0m\u001b[0mnumpy\u001b[0m\u001b[0;34m(\u001b[0m\u001b[0;34m)\u001b[0m\u001b[0;34m\u001b[0m\u001b[0;34m\u001b[0m\u001b[0m\n\u001b[0m\u001b[1;32m     91\u001b[0m \u001b[0;34m\u001b[0m\u001b[0m\n\u001b[1;32m     92\u001b[0m         \u001b[0;31m# With prob eps, choose random action\u001b[0m\u001b[0;34m\u001b[0m\u001b[0;34m\u001b[0m\u001b[0;34m\u001b[0m\u001b[0m\n",
      "\u001b[0;32m~/opt/anaconda3/lib/python3.8/site-packages/torch/distributions/categorical.py\u001b[0m in \u001b[0;36msample\u001b[0;34m(self, sample_shape)\u001b[0m\n\u001b[1;32m    105\u001b[0m             \u001b[0msample_shape\u001b[0m \u001b[0;34m=\u001b[0m \u001b[0mtorch\u001b[0m\u001b[0;34m.\u001b[0m\u001b[0mSize\u001b[0m\u001b[0;34m(\u001b[0m\u001b[0msample_shape\u001b[0m\u001b[0;34m)\u001b[0m\u001b[0;34m\u001b[0m\u001b[0;34m\u001b[0m\u001b[0m\n\u001b[1;32m    106\u001b[0m         \u001b[0mprobs_2d\u001b[0m \u001b[0;34m=\u001b[0m \u001b[0mself\u001b[0m\u001b[0;34m.\u001b[0m\u001b[0mprobs\u001b[0m\u001b[0;34m.\u001b[0m\u001b[0mreshape\u001b[0m\u001b[0;34m(\u001b[0m\u001b[0;34m-\u001b[0m\u001b[0;36m1\u001b[0m\u001b[0;34m,\u001b[0m \u001b[0mself\u001b[0m\u001b[0;34m.\u001b[0m\u001b[0m_num_events\u001b[0m\u001b[0;34m)\u001b[0m\u001b[0;34m\u001b[0m\u001b[0;34m\u001b[0m\u001b[0m\n\u001b[0;32m--> 107\u001b[0;31m         \u001b[0msamples_2d\u001b[0m \u001b[0;34m=\u001b[0m \u001b[0mtorch\u001b[0m\u001b[0;34m.\u001b[0m\u001b[0mmultinomial\u001b[0m\u001b[0;34m(\u001b[0m\u001b[0mprobs_2d\u001b[0m\u001b[0;34m,\u001b[0m \u001b[0msample_shape\u001b[0m\u001b[0;34m.\u001b[0m\u001b[0mnumel\u001b[0m\u001b[0;34m(\u001b[0m\u001b[0;34m)\u001b[0m\u001b[0;34m,\u001b[0m \u001b[0;32mTrue\u001b[0m\u001b[0;34m)\u001b[0m\u001b[0;34m.\u001b[0m\u001b[0mT\u001b[0m\u001b[0;34m\u001b[0m\u001b[0;34m\u001b[0m\u001b[0m\n\u001b[0m\u001b[1;32m    108\u001b[0m         \u001b[0;32mreturn\u001b[0m \u001b[0msamples_2d\u001b[0m\u001b[0;34m.\u001b[0m\u001b[0mreshape\u001b[0m\u001b[0;34m(\u001b[0m\u001b[0mself\u001b[0m\u001b[0;34m.\u001b[0m\u001b[0m_extended_shape\u001b[0m\u001b[0;34m(\u001b[0m\u001b[0msample_shape\u001b[0m\u001b[0;34m)\u001b[0m\u001b[0;34m)\u001b[0m\u001b[0;34m\u001b[0m\u001b[0;34m\u001b[0m\u001b[0m\n\u001b[1;32m    109\u001b[0m \u001b[0;34m\u001b[0m\u001b[0m\n",
      "\u001b[0;31mRuntimeError\u001b[0m: invalid multinomial distribution (encountering probability entry < 0)"
     ]
    }
   ],
   "source": [
    "mysum = 0.\n",
    "for i_episode in range(iters):\n",
    "    Gmax = ag1.REINFORCE_baseline(T=T, alpha=0.00001, alpha_v=0.00001, eps=(lambda x: 0.9))\n",
    "    counter += 1\n",
    "    mysum += np.mean(Gmax)\n",
    "    if counter%interval==0:\n",
    "        print(f'{counter}: {mysum/interval}')\n",
    "        score.append(mysum/interval)\n",
    "        mysum = 0."
   ]
  },
  {
   "cell_type": "code",
   "execution_count": 57,
   "metadata": {},
   "outputs": [
    {
     "data": {
      "text/plain": [
       "tensor([[0.2608, 0.2586, 0.2418, 0.2388],\n",
       "        [0.2620, 0.2577, 0.2415, 0.2388],\n",
       "        [0.2640, 0.2569, 0.2415, 0.2377]], grad_fn=<SoftmaxBackward>)"
      ]
     },
     "execution_count": 57,
     "metadata": {},
     "output_type": "execute_result"
    }
   ],
   "source": [
    "ag0.Pi(ag0.envs.S).probs"
   ]
  },
  {
   "cell_type": "code",
   "execution_count": 58,
   "metadata": {},
   "outputs": [
    {
     "data": {
      "text/plain": [
       "tensor([[nan, nan, nan, nan],\n",
       "        [nan, nan, nan, nan],\n",
       "        [nan, nan, nan, nan]], grad_fn=<SoftmaxBackward>)"
      ]
     },
     "execution_count": 58,
     "metadata": {},
     "output_type": "execute_result"
    }
   ],
   "source": [
    "ag1.Pi(ag1.envs.S).probs"
   ]
  },
  {
   "cell_type": "code",
   "execution_count": 24,
   "metadata": {},
   "outputs": [
    {
     "data": {
      "image/png": "[encoded data removed]",
      "text/plain": [
       "<Figure size 432x288 with 1 Axes>"
      ]
     },
     "metadata": {
      "needs_background": "light"
     },
     "output_type": "display_data"
    }
   ],
   "source": [
    "plt.plot(score);"
   ]
  },
  {
   "cell_type": "code",
   "execution_count": 25,
   "metadata": {},
   "outputs": [
    {
     "name": "stdout",
     "output_type": "stream",
     "text": [
      "Done after 84\n",
      "Average reward: 28.0\n"
     ]
    }
   ],
   "source": [
    "ag1.Simulate(3, eps=0.5)"
   ]
  },
  {
   "cell_type": "code",
   "execution_count": 32,
   "metadata": {},
   "outputs": [],
   "source": [
    "ag_r.envs.envs[0].close()"
   ]
  },
  {
   "cell_type": "markdown",
   "metadata": {},
   "source": [
    "## REINFORCE with Baseline"
   ]
  },
  {
   "cell_type": "code",
   "execution_count": 61,
   "metadata": {
    "collapsed": true,
    "jupyter": {
     "outputs_hidden": true
    }
   },
   "outputs": [],
   "source": [
    "env = gym.make('CartPole-v0')\n",
    "\n",
    "S = env.reset()\n",
    "ag_rb = Agent(env)\n",
    "ag_rb.env._max_episode_steps = 500"
   ]
  },
  {
   "cell_type": "code",
   "execution_count": 62,
   "metadata": {
    "collapsed": true,
    "jupyter": {
     "outputs_hidden": true
    }
   },
   "outputs": [],
   "source": [
    "score2 = []\n",
    "counter = 0\n",
    "mysum = 0\n",
    "interval = 50"
   ]
  },
  {
   "cell_type": "code",
   "execution_count": 76,
   "metadata": {
    "collapsed": true,
    "jupyter": {
     "outputs_hidden": true
    }
   },
   "outputs": [],
   "source": [
    "for i_episode in range(200):\n",
    "    traj = traj = ag_rb.REINFORCE_baseline(alpha=0.0001, alpha_v=0.0001)\n",
    "    counter += 1\n",
    "    mysum += len(traj)\n",
    "    if counter%interval==0:\n",
    "        score2.append(mysum/interval)\n",
    "        mysum = 0"
   ]
  },
  {
   "cell_type": "code",
   "execution_count": 77,
   "metadata": {
    "collapsed": true,
    "jupyter": {
     "outputs_hidden": true
    }
   },
   "outputs": [
    {
     "data": {
      "image/png": "[encoded data removed]",
      "text/plain": [
       "<Figure size 432x288 with 1 Axes>"
      ]
     },
     "metadata": {
      "needs_background": "light"
     },
     "output_type": "display_data"
    }
   ],
   "source": [
    "plt.plot(score2);"
   ]
  },
  {
   "cell_type": "code",
   "execution_count": 75,
   "metadata": {
    "collapsed": true,
    "jupyter": {
     "outputs_hidden": true
    }
   },
   "outputs": [
    {
     "name": "stdout",
     "output_type": "stream",
     "text": [
      "[-0.0245504   0.0344018  -0.00279386  0.02541287]\n"
     ]
    },
    {
     "data": {
      "text/plain": [
       "tensor([1.8533], grad_fn=<AddBackward0>)"
      ]
     },
     "execution_count": 75,
     "metadata": {},
     "output_type": "execute_result"
    }
   ],
   "source": [
    "S = ag_rb.env.reset()\n",
    "print(S)\n",
    "ag_rb.V(torch.tensor(S, dtype=torch.float))"
   ]
  },
  {
   "cell_type": "code",
   "execution_count": 63,
   "metadata": {
    "collapsed": true,
    "jupyter": {
     "outputs_hidden": true
    }
   },
   "outputs": [
    {
     "data": {
      "text/plain": [
       "tensor([17.9258], grad_fn=<AddBackward0>)"
      ]
     },
     "execution_count": 63,
     "metadata": {},
     "output_type": "execute_result"
    }
   ],
   "source": [
    "ag_rb.V(torch.tensor([0, 0, 0, 0], dtype=torch.float))"
   ]
  },
  {
   "cell_type": "code",
   "execution_count": null,
   "metadata": {},
   "outputs": [],
   "source": []
  }
 ],
 "metadata": {
  "kernelspec": {
   "display_name": "Python 3",
   "language": "python",
   "name": "python3"
  },
  "language_info": {
   "codemirror_mode": {
    "name": "ipython",
    "version": 3
   },
   "file_extension": ".py",
   "mimetype": "text/x-python",
   "name": "python",
   "nbconvert_exporter": "python",
   "pygments_lexer": "ipython3",
   "version": "3.8.3"
  }
 },
 "nbformat": 4,
 "nbformat_minor": 4
}
