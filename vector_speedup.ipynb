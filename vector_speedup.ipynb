{
 "cells": [
  {
   "cell_type": "markdown",
   "metadata": {},
   "source": [
    "# Basic Reinforcement Learning\n",
    "Purpose: To learn about RL from its most basic instantiation."
   ]
  },
  {
   "cell_type": "code",
   "execution_count": 17,
   "metadata": {},
   "outputs": [],
   "source": [
    "import numpy as np\n",
    "import matplotlib.pyplot as plt\n",
    "import torch\n",
    "import time\n",
    "from copy import deepcopy\n",
    "\n",
    "dtype = torch.float32\n",
    "if torch.cuda.is_available():\n",
    "    device = torch.device(\"cuda:6\") # Uncomment this to run on GPU\n",
    "else:\n",
    "    device = torch.device(\"cpu\")"
   ]
  },
  {
   "cell_type": "code",
   "execution_count": 18,
   "metadata": {},
   "outputs": [
    {
     "data": {
      "text/plain": [
       "device(type='cpu')"
      ]
     },
     "execution_count": 18,
     "metadata": {},
     "output_type": "execute_result"
    }
   ],
   "source": [
    "device"
   ]
  },
  {
   "cell_type": "code",
   "execution_count": 19,
   "metadata": {},
   "outputs": [],
   "source": [
    "import gym"
   ]
  },
  {
   "cell_type": "code",
   "execution_count": 15,
   "metadata": {},
   "outputs": [],
   "source": [
    "env = gym.make('LunarLander-v2')"
   ]
  },
  {
   "cell_type": "code",
   "execution_count": 4,
   "metadata": {},
   "outputs": [],
   "source": [
    "env = gym.make('CartPole-v0')"
   ]
  },
  {
   "cell_type": "markdown",
   "metadata": {},
   "source": [
    "# Agent"
   ]
  },
  {
   "cell_type": "code",
   "execution_count": 20,
   "metadata": {},
   "outputs": [],
   "source": [
    "class Vector_env(gym.Wrapper):\n",
    "    '''\n",
    "     class Vector_env\n",
    "     \n",
    "     Acts as a wrapper for the OpenAI gym environments.\n",
    "    '''\n",
    "    def __init__(self, env, n=1):\n",
    "        '''\n",
    "         venv = Vector_env(env, n=1)\n",
    "         \n",
    "         Creates n copies of env.\n",
    "        '''\n",
    "        super().__init__(env)\n",
    "        self.envs = []\n",
    "        self.n_envs = n\n",
    "        for k in range(n):\n",
    "            env_r = deepcopy(env)\n",
    "            env_r.seed(np.random.randint(10000))\n",
    "            self.envs.append(env_r)\n",
    "    \n",
    "    def reset(self):\n",
    "        '''\n",
    "         states = venv.reset()\n",
    "         \n",
    "         Resets all the environments, and returns an array with the\n",
    "         reset states in each row.\n",
    "        '''\n",
    "        states = []\n",
    "        for e in self.envs:\n",
    "            state = e.reset()\n",
    "            states.append(state)\n",
    "        self.S = np.array(states)\n",
    "        return np.array(states)\n",
    "    \n",
    "    def step(self, actions):\n",
    "        '''\n",
    "         S, R, done, info = venv.step(actions)\n",
    "         \n",
    "         Takes one step in each of the environments, and returns an array\n",
    "         for each of the resulting outputs.\n",
    "         \n",
    "         Inputs:\n",
    "           actions   an array of actions\n",
    "           \n",
    "         Outputs:\n",
    "           S    array of states after the step\n",
    "           R    array of rewards from the step\n",
    "           done array of Boolean flags:\n",
    "                  False means episode continues\n",
    "                  True means episode is done\n",
    "        '''\n",
    "        S, R, dones = [], [], []\n",
    "        for e,a in zip(self.envs, actions):\n",
    "            next_s, r, done, inf = e.step(a)\n",
    "            if done:\n",
    "                S.append(e.reset())\n",
    "            else:\n",
    "                S.append(next_s)\n",
    "            R.append(r)\n",
    "            dones.append(done)\n",
    "        return np.array(S), np.array(R), np.array(dones)\n",
    "    \n",
    "    def state(self):\n",
    "        S = []\n",
    "        for e in self.envs:\n",
    "            S.append(e.state)\n",
    "        return np.array(S)"
   ]
  },
  {
   "cell_type": "code",
   "execution_count": 38,
   "metadata": {},
   "outputs": [],
   "source": [
    "class Agent():\n",
    "    '''\n",
    "     class Agent\n",
    "     \n",
    "     Represents an RL agent. Its Q function is represented by a neural network, so that\n",
    "       agent.Q(s) returns a vector of probabilities over action-space.\n",
    "    '''\n",
    "    def __init__(self, envs):\n",
    "        '''\n",
    "         ag = Agent(envs)\n",
    "         \n",
    "         Instantiates an Agent object.\n",
    "         \n",
    "         Inputs:\n",
    "           envs  a Vector_env object, containing the environments for the task\n",
    "        '''\n",
    "        self.envs = envs\n",
    "        self.state_dim = self.envs.observation_space.shape[0]  #state_dim\n",
    "        self.n_actions = self.envs.action_space.n  #n_actions\n",
    "        #self.state = torch.zeros(self.state_dim)\n",
    "        self._max_episode_steps = 100\n",
    "        \n",
    "        #**** DEBUG ****\n",
    "        #self.a_pointer = 0\n",
    "        #***************\n",
    "        \n",
    "        # Policy\n",
    "        self.hidden = 512\n",
    "        self.Pi_net = torch.nn.Sequential(\n",
    "                    torch.nn.Linear(self.state_dim, self.hidden),\n",
    "                    torch.nn.ReLU(),\n",
    "                    torch.nn.Linear(self.hidden, 256),\n",
    "                    torch.nn.ReLU(),\n",
    "                    torch.nn.Linear(256, self.n_actions)).to(device)\n",
    "        \n",
    "        \n",
    "        # Value function\n",
    "        self.V_hidden = 512\n",
    "        self.V_net = torch.nn.Sequential(\n",
    "                    torch.nn.Linear(self.state_dim, self.V_hidden),\n",
    "                    torch.nn.ReLU(),\n",
    "                    torch.nn.Linear(self.V_hidden, 256),\n",
    "                    torch.nn.ReLU(),\n",
    "                    torch.nn.Linear(256, 1)).to(device)\n",
    "        \n",
    "        # Eligibility-trace buffer for Pi_net\n",
    "        self.Piz = []\n",
    "        for p in self.Pi_net.parameters():\n",
    "            self.Piz.append(torch.zeros_like(p))\n",
    "            \n",
    "        # Eligibility-trace buffer for V_net\n",
    "        self.Vz = []\n",
    "        for p in self.V_net.parameters():\n",
    "            self.Vz.append(torch.zeros_like(p))\n",
    "        \n",
    "    def Pi(self, states=None):\n",
    "        if states is None:\n",
    "            S = torch.tensor(self.envs.state(), dtype=torch.float, device=device)\n",
    "        else:\n",
    "            S = torch.tensor(states, dtype=torch.float, device=device)\n",
    "        return torch.distributions.Categorical(logits=self.Pi_net(S))\n",
    "    \n",
    "    def V(self, states=None):\n",
    "        if states is None:\n",
    "            S = torch.from_numpy(self.envs.state()).to(device)\n",
    "        else:\n",
    "            S = torch.tensor(states, dtype=torch.float).to(device)\n",
    "        return self.V_net(S)\n",
    "    \n",
    "    \n",
    "    def ChooseAction(self, state=None, eps=0.):\n",
    "        '''\n",
    "         A = ag.ChooseAction(state, eps=0.)\n",
    "         \n",
    "         Choose an action, given the state.\n",
    "         With probability eps, it will choose an action randomly.\n",
    "         Otherwise, it will choose an action that yields the highest Q-value.\n",
    "        '''\n",
    "        #self.a_pointer += 1\n",
    "        #return global_A[self.a_pointer-1,:]\n",
    "    \n",
    "        if state is None:\n",
    "            state = self.envs.state()\n",
    "            \n",
    "        batchsize = len(state)\n",
    "        \n",
    "        with torch.no_grad():\n",
    "            Pa = self.Pi(state)\n",
    "        A = Pa.sample().detach().cpu().numpy()\n",
    "        \n",
    "        # With prob eps, choose random action\n",
    "        #A_random = np.array(np.random.randint(0, high=self.n_actions, size=batchsize), dtype=np.float)\n",
    "        A_random = np.random.choice(self.n_actions, batchsize)\n",
    "        r = np.random.rand(batchsize)\n",
    "        ridx = r<eps\n",
    "        A[ridx] = A_random[ridx]\n",
    "        \n",
    "        return A\n",
    "  \n",
    "    def Episode(self, T=200, gamma=1., eps=0.):\n",
    "        '''\n",
    "         traj = ag.Episode(gamma=1.)\n",
    "         \n",
    "         Runs one episode, and returns the trajectory. The environment is\n",
    "         automatically reset at the beginning of the episode.\n",
    "                 \n",
    "         Inputs:\n",
    "           T      number of action steps\n",
    "           gamma  reward discount\n",
    "         \n",
    "         Outputs:\n",
    "           traj trajectory, as a list of lists of the form\n",
    "                [A, S, Snext, R, G, done, info]\n",
    "                A     action taken at state S\n",
    "                S     state\n",
    "                Snext state after taking action A\n",
    "                R     reward\n",
    "                G     future return (discounted)\n",
    "                done  flag to indicate episode is done\n",
    "                info  not sure ?\n",
    "        '''\n",
    "        #S = self.envs.reset()\n",
    "        S = self.envs.S\n",
    "        traj = []\n",
    "        bs = len(S)  # batchsize\n",
    "        for k in range(T):\n",
    "            action = self.ChooseAction(state=S, eps=eps)\n",
    "            Snext, r, done = self.envs.step(action)\n",
    "            traj.append(dict(action=action, S=S, Snext=Snext, r=r, G=np.zeros(bs), done=done))\n",
    "            S = Snext\n",
    "            if False: #done.all():\n",
    "                break\n",
    "                \n",
    "        self.envs.S = S\n",
    "        # Use that trajectory (and rewards) to update the policy parameters\n",
    "        # Process the return for all visited states\n",
    "        traj[-1]['G'] = traj[-1]['r']\n",
    "        for k in range(len(traj)-2, -1, -1):\n",
    "            traj[k]['G'] = traj[k]['r'] + (1.-traj[k]['done'])*gamma*traj[k+1]['G']\n",
    "        return traj\n",
    "    \n",
    "    def ComputeReturns(self, R, dones, gamma=1.):\n",
    "        G = np.zeros_like(R)\n",
    "        G[-1] = R[-1]\n",
    "        for k in range(len(R)-2, -1, -1):\n",
    "            G[k] = R[k] + (1.-dones[k])*G[k+1]\n",
    "        return G\n",
    "\n",
    "    def Simulate(self, trials=1, eps=0.):\n",
    "        time.sleep(1)\n",
    "        avg_k = 0.\n",
    "        for trial in range(trials):\n",
    "            observation = self.envs.envs[0].reset()\n",
    "            for k in range(self._max_episode_steps):\n",
    "                self.envs.envs[0].render()\n",
    "                action = self.ChooseAction(state=[observation], eps=eps)\n",
    "\n",
    "                observation, reward, done, info = self.envs.envs[0].step(action[0])\n",
    "\n",
    "                if done:\n",
    "                    print('Done after '+str(k))\n",
    "                    avg_k += k\n",
    "                    break\n",
    "        print('Average reward: '+str(avg_k/trials))\n",
    "        time.sleep(1)\n",
    "        self.envs.envs[0].close()\n",
    "        \n",
    "        \n",
    "    \n",
    "    def orig_REINFORCE_baseline(self, T=200, gamma=1.0, alpha=0.0001, alpha_v=0.0001, eps=0.1):\n",
    "        # Perform an episode and record the trajectory\n",
    "        traj = self.Episode(T=T, eps=eps(0))\n",
    "        bs = len(traj[0]['action'])\n",
    "                \n",
    "        # Update policy parameters\n",
    "        gamma_t = torch.tensor(gamma).to(device)\n",
    "        Pa_loss = torch.tensor(0.).to(device)\n",
    "        V_loss = torch.tensor(0.).to(device)\n",
    "        \n",
    "        Gmax = np.zeros(bs, dtype=float)\n",
    "        Gbest = traj[0]['G']\n",
    "        Ghist = []\n",
    "        \n",
    "        for k,blah in enumerate(traj):\n",
    "            A = torch.from_numpy(blah['action']).to(device)\n",
    "            S = blah['S']\n",
    "            G = torch.from_numpy(blah['G']).float().to(device)  # future return\n",
    "            G.requires_grad = False\n",
    "            dones = blah['done']\n",
    "            \n",
    "            Gmax = np.maximum(Gmax, blah['G'])\n",
    "            Ghist.append(blah['G'])\n",
    "            \n",
    "            # Policy network\n",
    "            Pa = self.Pi(S)  # returns a distribution object\n",
    "            \n",
    "            # Value network\n",
    "            V = self.V(S).squeeze()\n",
    "            \n",
    "            # Error\n",
    "            with torch.no_grad():\n",
    "                err = G - V\n",
    "            \n",
    "            # Recall that d(log(Pi)) = dPi / Pi\n",
    "            logPa_x_err = Pa.log_prob(A) * err  # * gamma_t\n",
    "            Pa_loss = Pa_loss + torch.mean(logPa_x_err)\n",
    "            V_loss = V_loss + torch.mean( (G-V)**2 ) * gamma_t\n",
    "            \n",
    "            gamma_t = gamma_t*gamma\n",
    "        \n",
    "        # Backproject gradient\n",
    "        self.Pi_net.zero_grad()\n",
    "        self.V_net.zero_grad()\n",
    "        Pa_loss.backward()\n",
    "        V_loss.backward()\n",
    "        with torch.no_grad():\n",
    "            #print(self.Pi_net[-1].weight.grad)\n",
    "            for p in self.Pi_net.parameters():\n",
    "                #print(torch.sum(p.grad**2))\n",
    "                p += alpha * p.grad\n",
    "            for p in self.V_net.parameters():\n",
    "                #print(torch.sum(p.grad**2))\n",
    "                p -= alpha_v * p.grad\n",
    "            \n",
    "        #return traj\n",
    "        #return torch.mean( torch.max(G, dim=0)[0] ).cpu().item()\n",
    "        return Gmax\n",
    "        #return np.array(Ghist)\n",
    "\n",
    "\n",
    "    def REINFORCE_baseline(self, T=200, gamma=1.0, alpha=0.0001, alpha_v=0.0001, eps=0.1):\n",
    "        \n",
    "        # Run and record a batch of rollouts\n",
    "        states = np.empty((T, self.envs.n_envs, self.state_dim))\n",
    "        actions = np.empty((T, self.envs.n_envs))\n",
    "        rewards = np.empty((T, self.envs.n_envs))\n",
    "        dones = np.empty((T, self.envs.n_envs))\n",
    "        #S = self.envs.reset()\n",
    "        S = self.envs.S\n",
    "        for t in range(T):\n",
    "            A = self.ChooseAction(state=S, eps=eps(t))\n",
    "            Snext, r, done = self.envs.step(A)\n",
    "            states[t] = S\n",
    "            actions[t] = A\n",
    "            rewards[t] = r\n",
    "            dones[t] = done\n",
    "            S = Snext\n",
    "            \n",
    "        self.envs.S = S\n",
    "        \n",
    "        A = torch.from_numpy(actions).to(device)\n",
    "        \n",
    "        # Calculate returns\n",
    "        G = self.ComputeReturns(rewards, dones, gamma=gamma)\n",
    "        G = torch.from_numpy(G).to(device)\n",
    "        G.requires_grad = False\n",
    "        \n",
    "        # Run the policy network and value network on the rollout\n",
    "        Pa = self.Pi(states)\n",
    "        V = self.V(states).squeeze()\n",
    "        \n",
    "        # Calculate error\n",
    "        with torch.no_grad():\n",
    "            delta = G - V\n",
    "\n",
    "        # Policy loss\n",
    "        logPa_x_err = torch.mean(Pa.log_prob(A) * delta, dim=1)\n",
    "        Pa_loss = torch.sum( logPa_x_err )\n",
    "        \n",
    "        # Critic loss\n",
    "        V_loss = torch.sum( torch.mean((G-V)**2, dim=1) )        \n",
    "        \n",
    "        # Backproject gradient\n",
    "        self.Pi_net.zero_grad()\n",
    "        self.V_net.zero_grad()\n",
    "        Pa_loss.backward()\n",
    "        V_loss.backward()\n",
    "        \n",
    "        # Gradient step\n",
    "        with torch.no_grad():\n",
    "            #print(self.Pi_net[-1].weight.grad)\n",
    "            for p in self.Pi_net.parameters():\n",
    "                #print(torch.sum(p.grad**2))\n",
    "                p += alpha * p.grad\n",
    "            for p in self.V_net.parameters():\n",
    "                #print(torch.sum(p.grad**2))\n",
    "                p -= alpha_v * p.grad\n",
    "\n",
    "        return torch.max(G, dim=0)[0].cpu().numpy()\n",
    "        #return G.cpu().numpy()"
   ]
  },
  {
   "cell_type": "markdown",
   "metadata": {},
   "source": [
    "### Cart-Pole"
   ]
  },
  {
   "cell_type": "code",
   "execution_count": 52,
   "metadata": {},
   "outputs": [],
   "source": [
    "#env = gym.make('CartPole-v0')\n",
    "env = gym.make('LunarLander-v2')\n",
    "S = env.reset()\n",
    "T = 100\n",
    "envs = Vector_env(env, n=3)\n",
    "global_A = np.random.choice(2, (2*T,len(envs.envs)))\n",
    "ag = Agent(envs)\n",
    "ag.envs.reset()\n",
    "ag0 = deepcopy(ag)\n",
    "ag1 = deepcopy(ag)"
   ]
  },
  {
   "cell_type": "code",
   "execution_count": 53,
   "metadata": {},
   "outputs": [],
   "source": [
    "score = []\n",
    "counter = 0"
   ]
  },
  {
   "cell_type": "code",
   "execution_count": 54,
   "metadata": {},
   "outputs": [],
   "source": [
    "interval = 10\n",
    "iters = 400"
   ]
  },
  {
   "cell_type": "code",
   "execution_count": 49,
   "metadata": {},
   "outputs": [
    {
     "name": "stdout",
     "output_type": "stream",
     "text": [
      "20: 11.280347920963532\n"
     ]
    },
    {
     "ename": "RuntimeError",
     "evalue": "invalid multinomial distribution (encountering probability entry < 0)",
     "output_type": "error",
     "traceback": [
      "\u001b[0;31m---------------------------------------------------------------------------\u001b[0m",
      "\u001b[0;31mRuntimeError\u001b[0m                              Traceback (most recent call last)",
      "\u001b[0;32m<ipython-input-49-6743388bc6c3>\u001b[0m in \u001b[0;36m<module>\u001b[0;34m\u001b[0m\n\u001b[1;32m      1\u001b[0m \u001b[0mmysum\u001b[0m \u001b[0;34m=\u001b[0m \u001b[0;36m0.\u001b[0m\u001b[0;34m\u001b[0m\u001b[0;34m\u001b[0m\u001b[0m\n\u001b[1;32m      2\u001b[0m \u001b[0;32mfor\u001b[0m \u001b[0mi_episode\u001b[0m \u001b[0;32min\u001b[0m \u001b[0mrange\u001b[0m\u001b[0;34m(\u001b[0m\u001b[0miters\u001b[0m\u001b[0;34m)\u001b[0m\u001b[0;34m:\u001b[0m\u001b[0;34m\u001b[0m\u001b[0;34m\u001b[0m\u001b[0m\n\u001b[0;32m----> 3\u001b[0;31m     \u001b[0mGmax\u001b[0m \u001b[0;34m=\u001b[0m \u001b[0mag0\u001b[0m\u001b[0;34m.\u001b[0m\u001b[0morig_REINFORCE_baseline\u001b[0m\u001b[0;34m(\u001b[0m\u001b[0mT\u001b[0m\u001b[0;34m=\u001b[0m\u001b[0mT\u001b[0m\u001b[0;34m,\u001b[0m \u001b[0malpha\u001b[0m\u001b[0;34m=\u001b[0m\u001b[0;36m0.0001\u001b[0m\u001b[0;34m,\u001b[0m \u001b[0malpha_v\u001b[0m\u001b[0;34m=\u001b[0m\u001b[0;36m0.0001\u001b[0m\u001b[0;34m,\u001b[0m \u001b[0meps\u001b[0m\u001b[0;34m=\u001b[0m\u001b[0;34m(\u001b[0m\u001b[0;32mlambda\u001b[0m \u001b[0mx\u001b[0m\u001b[0;34m:\u001b[0m \u001b[0;36m0.8\u001b[0m\u001b[0;34m)\u001b[0m\u001b[0;34m)\u001b[0m\u001b[0;34m\u001b[0m\u001b[0;34m\u001b[0m\u001b[0m\n\u001b[0m\u001b[1;32m      4\u001b[0m     \u001b[0mcounter\u001b[0m \u001b[0;34m+=\u001b[0m \u001b[0;36m1\u001b[0m\u001b[0;34m\u001b[0m\u001b[0;34m\u001b[0m\u001b[0m\n\u001b[1;32m      5\u001b[0m     \u001b[0mmysum\u001b[0m \u001b[0;34m+=\u001b[0m \u001b[0mnp\u001b[0m\u001b[0;34m.\u001b[0m\u001b[0mmean\u001b[0m\u001b[0;34m(\u001b[0m\u001b[0mGmax\u001b[0m\u001b[0;34m)\u001b[0m\u001b[0;34m\u001b[0m\u001b[0;34m\u001b[0m\u001b[0m\n",
      "\u001b[0;32m<ipython-input-38-1120cdfa0ed1>\u001b[0m in \u001b[0;36morig_REINFORCE_baseline\u001b[0;34m(self, T, gamma, alpha, alpha_v, eps)\u001b[0m\n\u001b[1;32m    170\u001b[0m     \u001b[0;32mdef\u001b[0m \u001b[0morig_REINFORCE_baseline\u001b[0m\u001b[0;34m(\u001b[0m\u001b[0mself\u001b[0m\u001b[0;34m,\u001b[0m \u001b[0mT\u001b[0m\u001b[0;34m=\u001b[0m\u001b[0;36m200\u001b[0m\u001b[0;34m,\u001b[0m \u001b[0mgamma\u001b[0m\u001b[0;34m=\u001b[0m\u001b[0;36m1.0\u001b[0m\u001b[0;34m,\u001b[0m \u001b[0malpha\u001b[0m\u001b[0;34m=\u001b[0m\u001b[0;36m0.0001\u001b[0m\u001b[0;34m,\u001b[0m \u001b[0malpha_v\u001b[0m\u001b[0;34m=\u001b[0m\u001b[0;36m0.0001\u001b[0m\u001b[0;34m,\u001b[0m \u001b[0meps\u001b[0m\u001b[0;34m=\u001b[0m\u001b[0;36m0.1\u001b[0m\u001b[0;34m)\u001b[0m\u001b[0;34m:\u001b[0m\u001b[0;34m\u001b[0m\u001b[0;34m\u001b[0m\u001b[0m\n\u001b[1;32m    171\u001b[0m         \u001b[0;31m# Perform an episode and record the trajectory\u001b[0m\u001b[0;34m\u001b[0m\u001b[0;34m\u001b[0m\u001b[0;34m\u001b[0m\u001b[0m\n\u001b[0;32m--> 172\u001b[0;31m         \u001b[0mtraj\u001b[0m \u001b[0;34m=\u001b[0m \u001b[0mself\u001b[0m\u001b[0;34m.\u001b[0m\u001b[0mEpisode\u001b[0m\u001b[0;34m(\u001b[0m\u001b[0mT\u001b[0m\u001b[0;34m=\u001b[0m\u001b[0mT\u001b[0m\u001b[0;34m,\u001b[0m \u001b[0meps\u001b[0m\u001b[0;34m=\u001b[0m\u001b[0meps\u001b[0m\u001b[0;34m(\u001b[0m\u001b[0;36m0\u001b[0m\u001b[0;34m)\u001b[0m\u001b[0;34m)\u001b[0m\u001b[0;34m\u001b[0m\u001b[0;34m\u001b[0m\u001b[0m\n\u001b[0m\u001b[1;32m    173\u001b[0m         \u001b[0mbs\u001b[0m \u001b[0;34m=\u001b[0m \u001b[0mlen\u001b[0m\u001b[0;34m(\u001b[0m\u001b[0mtraj\u001b[0m\u001b[0;34m[\u001b[0m\u001b[0;36m0\u001b[0m\u001b[0;34m]\u001b[0m\u001b[0;34m[\u001b[0m\u001b[0;34m'action'\u001b[0m\u001b[0;34m]\u001b[0m\u001b[0;34m)\u001b[0m\u001b[0;34m\u001b[0m\u001b[0;34m\u001b[0m\u001b[0m\n\u001b[1;32m    174\u001b[0m \u001b[0;34m\u001b[0m\u001b[0m\n",
      "\u001b[0;32m<ipython-input-38-1120cdfa0ed1>\u001b[0m in \u001b[0;36mEpisode\u001b[0;34m(self, T, gamma, eps)\u001b[0m\n\u001b[1;32m    125\u001b[0m         \u001b[0mbs\u001b[0m \u001b[0;34m=\u001b[0m \u001b[0mlen\u001b[0m\u001b[0;34m(\u001b[0m\u001b[0mS\u001b[0m\u001b[0;34m)\u001b[0m  \u001b[0;31m# batchsize\u001b[0m\u001b[0;34m\u001b[0m\u001b[0;34m\u001b[0m\u001b[0m\n\u001b[1;32m    126\u001b[0m         \u001b[0;32mfor\u001b[0m \u001b[0mk\u001b[0m \u001b[0;32min\u001b[0m \u001b[0mrange\u001b[0m\u001b[0;34m(\u001b[0m\u001b[0mT\u001b[0m\u001b[0;34m)\u001b[0m\u001b[0;34m:\u001b[0m\u001b[0;34m\u001b[0m\u001b[0;34m\u001b[0m\u001b[0m\n\u001b[0;32m--> 127\u001b[0;31m             \u001b[0maction\u001b[0m \u001b[0;34m=\u001b[0m \u001b[0mself\u001b[0m\u001b[0;34m.\u001b[0m\u001b[0mChooseAction\u001b[0m\u001b[0;34m(\u001b[0m\u001b[0mstate\u001b[0m\u001b[0;34m=\u001b[0m\u001b[0mS\u001b[0m\u001b[0;34m,\u001b[0m \u001b[0meps\u001b[0m\u001b[0;34m=\u001b[0m\u001b[0meps\u001b[0m\u001b[0;34m)\u001b[0m\u001b[0;34m\u001b[0m\u001b[0;34m\u001b[0m\u001b[0m\n\u001b[0m\u001b[1;32m    128\u001b[0m             \u001b[0mSnext\u001b[0m\u001b[0;34m,\u001b[0m \u001b[0mr\u001b[0m\u001b[0;34m,\u001b[0m \u001b[0mdone\u001b[0m \u001b[0;34m=\u001b[0m \u001b[0mself\u001b[0m\u001b[0;34m.\u001b[0m\u001b[0menvs\u001b[0m\u001b[0;34m.\u001b[0m\u001b[0mstep\u001b[0m\u001b[0;34m(\u001b[0m\u001b[0maction\u001b[0m\u001b[0;34m)\u001b[0m\u001b[0;34m\u001b[0m\u001b[0;34m\u001b[0m\u001b[0m\n\u001b[1;32m    129\u001b[0m             \u001b[0mtraj\u001b[0m\u001b[0;34m.\u001b[0m\u001b[0mappend\u001b[0m\u001b[0;34m(\u001b[0m\u001b[0mdict\u001b[0m\u001b[0;34m(\u001b[0m\u001b[0maction\u001b[0m\u001b[0;34m=\u001b[0m\u001b[0maction\u001b[0m\u001b[0;34m,\u001b[0m \u001b[0mS\u001b[0m\u001b[0;34m=\u001b[0m\u001b[0mS\u001b[0m\u001b[0;34m,\u001b[0m \u001b[0mSnext\u001b[0m\u001b[0;34m=\u001b[0m\u001b[0mSnext\u001b[0m\u001b[0;34m,\u001b[0m \u001b[0mr\u001b[0m\u001b[0;34m=\u001b[0m\u001b[0mr\u001b[0m\u001b[0;34m,\u001b[0m \u001b[0mG\u001b[0m\u001b[0;34m=\u001b[0m\u001b[0mnp\u001b[0m\u001b[0;34m.\u001b[0m\u001b[0mzeros\u001b[0m\u001b[0;34m(\u001b[0m\u001b[0mbs\u001b[0m\u001b[0;34m)\u001b[0m\u001b[0;34m,\u001b[0m \u001b[0mdone\u001b[0m\u001b[0;34m=\u001b[0m\u001b[0mdone\u001b[0m\u001b[0;34m)\u001b[0m\u001b[0;34m)\u001b[0m\u001b[0;34m\u001b[0m\u001b[0;34m\u001b[0m\u001b[0m\n",
      "\u001b[0;32m<ipython-input-38-1120cdfa0ed1>\u001b[0m in \u001b[0;36mChooseAction\u001b[0;34m(self, state, eps)\u001b[0m\n\u001b[1;32m     87\u001b[0m         \u001b[0;32mwith\u001b[0m \u001b[0mtorch\u001b[0m\u001b[0;34m.\u001b[0m\u001b[0mno_grad\u001b[0m\u001b[0;34m(\u001b[0m\u001b[0;34m)\u001b[0m\u001b[0;34m:\u001b[0m\u001b[0;34m\u001b[0m\u001b[0;34m\u001b[0m\u001b[0m\n\u001b[1;32m     88\u001b[0m             \u001b[0mPa\u001b[0m \u001b[0;34m=\u001b[0m \u001b[0mself\u001b[0m\u001b[0;34m.\u001b[0m\u001b[0mPi\u001b[0m\u001b[0;34m(\u001b[0m\u001b[0mstate\u001b[0m\u001b[0;34m)\u001b[0m\u001b[0;34m\u001b[0m\u001b[0;34m\u001b[0m\u001b[0m\n\u001b[0;32m---> 89\u001b[0;31m         \u001b[0mA\u001b[0m \u001b[0;34m=\u001b[0m \u001b[0mPa\u001b[0m\u001b[0;34m.\u001b[0m\u001b[0msample\u001b[0m\u001b[0;34m(\u001b[0m\u001b[0;34m)\u001b[0m\u001b[0;34m.\u001b[0m\u001b[0mdetach\u001b[0m\u001b[0;34m(\u001b[0m\u001b[0;34m)\u001b[0m\u001b[0;34m.\u001b[0m\u001b[0mcpu\u001b[0m\u001b[0;34m(\u001b[0m\u001b[0;34m)\u001b[0m\u001b[0;34m.\u001b[0m\u001b[0mnumpy\u001b[0m\u001b[0;34m(\u001b[0m\u001b[0;34m)\u001b[0m\u001b[0;34m\u001b[0m\u001b[0;34m\u001b[0m\u001b[0m\n\u001b[0m\u001b[1;32m     90\u001b[0m \u001b[0;34m\u001b[0m\u001b[0m\n\u001b[1;32m     91\u001b[0m         \u001b[0;31m# With prob eps, choose random action\u001b[0m\u001b[0;34m\u001b[0m\u001b[0;34m\u001b[0m\u001b[0;34m\u001b[0m\u001b[0m\n",
      "\u001b[0;32m~/opt/anaconda3/lib/python3.8/site-packages/torch/distributions/categorical.py\u001b[0m in \u001b[0;36msample\u001b[0;34m(self, sample_shape)\u001b[0m\n\u001b[1;32m    104\u001b[0m             \u001b[0msample_shape\u001b[0m \u001b[0;34m=\u001b[0m \u001b[0mtorch\u001b[0m\u001b[0;34m.\u001b[0m\u001b[0mSize\u001b[0m\u001b[0;34m(\u001b[0m\u001b[0msample_shape\u001b[0m\u001b[0;34m)\u001b[0m\u001b[0;34m\u001b[0m\u001b[0;34m\u001b[0m\u001b[0m\n\u001b[1;32m    105\u001b[0m         \u001b[0mprobs_2d\u001b[0m \u001b[0;34m=\u001b[0m \u001b[0mself\u001b[0m\u001b[0;34m.\u001b[0m\u001b[0mprobs\u001b[0m\u001b[0;34m.\u001b[0m\u001b[0mreshape\u001b[0m\u001b[0;34m(\u001b[0m\u001b[0;34m-\u001b[0m\u001b[0;36m1\u001b[0m\u001b[0;34m,\u001b[0m \u001b[0mself\u001b[0m\u001b[0;34m.\u001b[0m\u001b[0m_num_events\u001b[0m\u001b[0;34m)\u001b[0m\u001b[0;34m\u001b[0m\u001b[0;34m\u001b[0m\u001b[0m\n\u001b[0;32m--> 106\u001b[0;31m         \u001b[0msamples_2d\u001b[0m \u001b[0;34m=\u001b[0m \u001b[0mtorch\u001b[0m\u001b[0;34m.\u001b[0m\u001b[0mmultinomial\u001b[0m\u001b[0;34m(\u001b[0m\u001b[0mprobs_2d\u001b[0m\u001b[0;34m,\u001b[0m \u001b[0msample_shape\u001b[0m\u001b[0;34m.\u001b[0m\u001b[0mnumel\u001b[0m\u001b[0;34m(\u001b[0m\u001b[0;34m)\u001b[0m\u001b[0;34m,\u001b[0m \u001b[0;32mTrue\u001b[0m\u001b[0;34m)\u001b[0m\u001b[0;34m.\u001b[0m\u001b[0mT\u001b[0m\u001b[0;34m\u001b[0m\u001b[0;34m\u001b[0m\u001b[0m\n\u001b[0m\u001b[1;32m    107\u001b[0m         \u001b[0;32mreturn\u001b[0m \u001b[0msamples_2d\u001b[0m\u001b[0;34m.\u001b[0m\u001b[0mreshape\u001b[0m\u001b[0;34m(\u001b[0m\u001b[0mself\u001b[0m\u001b[0;34m.\u001b[0m\u001b[0m_extended_shape\u001b[0m\u001b[0;34m(\u001b[0m\u001b[0msample_shape\u001b[0m\u001b[0;34m)\u001b[0m\u001b[0;34m)\u001b[0m\u001b[0;34m\u001b[0m\u001b[0;34m\u001b[0m\u001b[0m\n\u001b[1;32m    108\u001b[0m \u001b[0;34m\u001b[0m\u001b[0m\n",
      "\u001b[0;31mRuntimeError\u001b[0m: invalid multinomial distribution (encountering probability entry < 0)"
     ]
    }
   ],
   "source": [
    "mysum = 0.\n",
    "for i_episode in range(iters):\n",
    "    Gmax = ag0.orig_REINFORCE_baseline(T=T, alpha=0.0001, alpha_v=0.0001, eps=(lambda x: 0.8))\n",
    "    counter += 1\n",
    "    mysum += np.mean(Gmax)\n",
    "    if counter%interval==0:\n",
    "        print(f'{counter}: {mysum/interval}')\n",
    "        score.append(mysum/interval)\n",
    "        mysum = 0."
   ]
  },
  {
   "cell_type": "code",
   "execution_count": 51,
   "metadata": {},
   "outputs": [
    {
     "data": {
      "text/plain": [
       "tensor([[nan, nan, nan, nan],\n",
       "        [nan, nan, nan, nan],\n",
       "        [nan, nan, nan, nan]], grad_fn=<SoftmaxBackward>)"
      ]
     },
     "execution_count": 51,
     "metadata": {},
     "output_type": "execute_result"
    }
   ],
   "source": [
    "ag1.Pi(ag1.envs.S).probs"
   ]
  },
  {
   "cell_type": "code",
   "execution_count": 55,
   "metadata": {},
   "outputs": [
    {
     "name": "stdout",
     "output_type": "stream",
     "text": [
      "10: 19.937041495470694\n",
      "20: -1.793920024555416\n",
      "30: 4.777698169285445\n",
      "40: -1.4517200877777345\n",
      "50: 10.8184703146561\n",
      "60: 6.92187067614689\n",
      "70: 13.064988405838019\n",
      "80: 2.83519737862573\n",
      "90: 1.5560790810395033\n",
      "100: 1.7038004802752766\n",
      "110: 13.256252085173458\n",
      "120: 6.967212256269505\n",
      "130: 2.20253588887967\n",
      "140: 8.241658335705496\n",
      "150: 2.9594239539573794\n",
      "160: 3.6563231555244164\n",
      "170: 4.551822884156075\n",
      "180: 2.6024911899194194\n",
      "190: 7.164975241742072\n",
      "200: 5.230368025862698\n",
      "210: 9.086967447126721\n",
      "220: 2.903095008728094\n",
      "230: 4.468116120873721\n",
      "240: 3.1924732207753577\n",
      "250: 8.378963732693396\n",
      "260: 8.993958127096374\n",
      "270: 8.355304825887767\n",
      "280: 7.560153501457312\n",
      "290: 3.7947829735231444\n",
      "300: 11.618695417979925\n",
      "310: 12.266230449705457\n",
      "320: 3.2837364147899186\n",
      "330: 8.504972534935568\n",
      "340: 8.307828181508537\n",
      "350: 1.057617615543651\n",
      "360: 8.319692378226511\n",
      "370: 9.320517654640685\n",
      "380: 2.1321581266413703\n",
      "390: 7.41425385765236\n",
      "400: 11.000927722553172\n"
     ]
    }
   ],
   "source": [
    "mysum = 0.\n",
    "for i_episode in range(iters):\n",
    "    Gmax = ag1.REINFORCE_baseline(T=T, alpha=0.00001, alpha_v=0.00001, eps=(lambda x: 0.1))\n",
    "    counter += 1\n",
    "    mysum += np.mean(Gmax)\n",
    "    if counter%interval==0:\n",
    "        print(f'{counter}: {mysum/interval}')\n",
    "        score.append(mysum/interval)\n",
    "        mysum = 0."
   ]
  },
  {
   "cell_type": "code",
   "execution_count": null,
   "metadata": {},
   "outputs": [],
   "source": [
    "ag0.Pi(ag0.envs.S).probs"
   ]
  },
  {
   "cell_type": "code",
   "execution_count": null,
   "metadata": {},
   "outputs": [],
   "source": [
    "ag1.Pi(ag1.envs.S).probs"
   ]
  },
  {
   "cell_type": "code",
   "execution_count": 10,
   "metadata": {},
   "outputs": [
    {
     "data": {
      "image/png": "[encoded data removed]",
      "text/plain": [
       "<Figure size 432x288 with 1 Axes>"
      ]
     },
     "metadata": {
      "needs_background": "light"
     },
     "output_type": "display_data"
    }
   ],
   "source": [
    "plt.plot(score);"
   ]
  },
  {
   "cell_type": "code",
   "execution_count": 13,
   "metadata": {},
   "outputs": [
    {
     "name": "stdout",
     "output_type": "stream",
     "text": [
      "Done after 56\n",
      "Done after 67\n",
      "Done after 65\n",
      "Average reward: 62.666666666666664\n"
     ]
    }
   ],
   "source": [
    "ag1.Simulate(3, eps=0.5)"
   ]
  },
  {
   "cell_type": "code",
   "execution_count": 32,
   "metadata": {},
   "outputs": [],
   "source": [
    "ag_r.envs.envs[0].close()"
   ]
  },
  {
   "cell_type": "markdown",
   "metadata": {},
   "source": [
    "## REINFORCE with Baseline"
   ]
  },
  {
   "cell_type": "code",
   "execution_count": 61,
   "metadata": {
    "collapsed": true,
    "jupyter": {
     "outputs_hidden": true
    }
   },
   "outputs": [],
   "source": [
    "env = gym.make('CartPole-v0')\n",
    "\n",
    "S = env.reset()\n",
    "ag_rb = Agent(env)\n",
    "ag_rb.env._max_episode_steps = 500"
   ]
  },
  {
   "cell_type": "code",
   "execution_count": 62,
   "metadata": {
    "collapsed": true,
    "jupyter": {
     "outputs_hidden": true
    }
   },
   "outputs": [],
   "source": [
    "score2 = []\n",
    "counter = 0\n",
    "mysum = 0\n",
    "interval = 50"
   ]
  },
  {
   "cell_type": "code",
   "execution_count": 76,
   "metadata": {
    "collapsed": true,
    "jupyter": {
     "outputs_hidden": true
    }
   },
   "outputs": [],
   "source": [
    "for i_episode in range(200):\n",
    "    traj = traj = ag_rb.REINFORCE_baseline(alpha=0.0001, alpha_v=0.0001)\n",
    "    counter += 1\n",
    "    mysum += len(traj)\n",
    "    if counter%interval==0:\n",
    "        score2.append(mysum/interval)\n",
    "        mysum = 0"
   ]
  },
  {
   "cell_type": "code",
   "execution_count": 77,
   "metadata": {
    "collapsed": true,
    "jupyter": {
     "outputs_hidden": true
    }
   },
   "outputs": [
    {
     "data": {
      "image/png": "[encoded data removed]",
      "text/plain": [
       "<Figure size 432x288 with 1 Axes>"
      ]
     },
     "metadata": {
      "needs_background": "light"
     },
     "output_type": "display_data"
    }
   ],
   "source": [
    "plt.plot(score2);"
   ]
  },
  {
   "cell_type": "code",
   "execution_count": 75,
   "metadata": {
    "collapsed": true,
    "jupyter": {
     "outputs_hidden": true
    }
   },
   "outputs": [
    {
     "name": "stdout",
     "output_type": "stream",
     "text": [
      "[-0.0245504   0.0344018  -0.00279386  0.02541287]\n"
     ]
    },
    {
     "data": {
      "text/plain": [
       "tensor([1.8533], grad_fn=<AddBackward0>)"
      ]
     },
     "execution_count": 75,
     "metadata": {},
     "output_type": "execute_result"
    }
   ],
   "source": [
    "S = ag_rb.env.reset()\n",
    "print(S)\n",
    "ag_rb.V(torch.tensor(S, dtype=torch.float))"
   ]
  },
  {
   "cell_type": "code",
   "execution_count": 63,
   "metadata": {
    "collapsed": true,
    "jupyter": {
     "outputs_hidden": true
    }
   },
   "outputs": [
    {
     "data": {
      "text/plain": [
       "tensor([17.9258], grad_fn=<AddBackward0>)"
      ]
     },
     "execution_count": 63,
     "metadata": {},
     "output_type": "execute_result"
    }
   ],
   "source": [
    "ag_rb.V(torch.tensor([0, 0, 0, 0], dtype=torch.float))"
   ]
  },
  {
   "cell_type": "code",
   "execution_count": null,
   "metadata": {},
   "outputs": [],
   "source": []
  }
 ],
 "metadata": {
  "kernelspec": {
   "display_name": "Python 3",
   "language": "python",
   "name": "python3"
  },
  "language_info": {
   "codemirror_mode": {
    "name": "ipython",
    "version": 3
   },
   "file_extension": ".py",
   "mimetype": "text/x-python",
   "name": "python",
   "nbconvert_exporter": "python",
   "pygments_lexer": "ipython3",
   "version": "3.8.3"
  }
 },
 "nbformat": 4,
 "nbformat_minor": 4
}
