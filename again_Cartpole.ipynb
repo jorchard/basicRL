{
 "cells": [
  {
   "cell_type": "markdown",
   "metadata": {},
   "source": [
    "# Cartpole, again"
   ]
  },
  {
   "cell_type": "code",
   "execution_count": 1,
   "metadata": {},
   "outputs": [],
   "source": [
    "import numpy as np\n",
    "import torch\n",
    "import random\n",
    "import time\n",
    "from tqdm import tqdm\n",
    "from copy import deepcopy\n",
    "import gym\n",
    "from gym import spaces\n",
    "import matplotlib.pyplot as plt"
   ]
  },
  {
   "source": [
    "# Task"
   ],
   "cell_type": "markdown",
   "metadata": {
    "heading_collapsed": true
   }
  },
  {
   "cell_type": "code",
   "execution_count": 2,
   "metadata": {
    "hidden": true
   },
   "outputs": [],
   "source": [
    "env = gym.make('CartPole-v0')"
   ]
  },
  {
   "cell_type": "code",
   "execution_count": 3,
   "metadata": {
    "hidden": true
   },
   "outputs": [],
   "source": [
    "env = gym.make('LunarLander-v2')"
   ]
  },
  {
   "cell_type": "code",
   "execution_count": 4,
   "metadata": {
    "hidden": true
   },
   "outputs": [],
   "source": [
    "class GridWorld(gym.Env):\n",
    "    \n",
    "    def __init__(self, n, goal=None, holes=None):\n",
    "        '''\n",
    "         env = GridWorld(n, goal, holes=None)\n",
    "         \n",
    "         Creates a 2D GridWorld environment of size (n,n).\n",
    "         \n",
    "         Coors are (row,col).\n",
    "         Actions are indexed 0-3\n",
    "              2\n",
    "            3 + 1\n",
    "              0\n",
    "         goal is a list of tuples for the goal state ([row,col], r)\n",
    "        '''\n",
    "        super().__init__()\n",
    "        self.n = n\n",
    "        n_actions = 4\n",
    "        self.P = np.array([[1,0],[0,1],[-1,0],[0,-1]], dtype=int)\n",
    "        self.action_space = spaces.Discrete(n_actions)\n",
    "        self.observation_space = spaces.MultiDiscrete((self.n,self.n))\n",
    "        self.terminal = []\n",
    "        self.R = np.zeros((self.n, self.n))\n",
    "        if goal is not None:\n",
    "            for g in goal:\n",
    "                self.terminal.append(self.c2i(g[0]))\n",
    "                self.R[g[0][0], g[0][1]] = g[1]\n",
    "        else:\n",
    "            self.terminal.append(self.c2i([3,4]))\n",
    "            self.R[3, 4] = 10.\n",
    "        self.coords = self.sample_input()\n",
    "        \n",
    "    def sample_input(self):\n",
    "        return self.observation_space.sample()\n",
    "    \n",
    "    def seed(self, seed_val):\n",
    "        super().seed(seed_val)\n",
    "        \n",
    "    def reset(self):\n",
    "        self.coords = self.sample_input()\n",
    "        return self.coords\n",
    "    \n",
    "    def state(self):\n",
    "        return self.coords\n",
    "    \n",
    "    def step(self, action):\n",
    "        s = self.coords + self.P[action,:]  # Proposed next state\n",
    "        # Is it a valid state? What is the reward?\n",
    "        if s[0]<0 or s[0]>=self.n:\n",
    "            reward = -4.\n",
    "            s[0] = np.clip(s[0], 0, self.n-1)\n",
    "        elif s[1]<0 or s[1]>=self.n:\n",
    "            reward = -4.\n",
    "            s[1] = np.clip(s[1], 0, self.n-1)\n",
    "        else:\n",
    "            self.coords = s\n",
    "            reward = self.R[tuple(self.coords)]\n",
    "        done = self.c2i(self.coords) in self.terminal\n",
    "        return self.coords, reward, done, {}\n",
    "    \n",
    "    def c2i(self, coords):\n",
    "        return coords[0]*self.n + coords[1]\n",
    "    def i2c(self, idx):\n",
    "        row = idx//self.n\n",
    "        col = idx%self.n\n",
    "        return np.array([row,col])\n",
    "    \n",
    "    def flatten(self, x):\n",
    "        return np.reshape(x, (self.n**2, x.shape[-1]))\n",
    "    def unflatten(self, x):\n",
    "        return np.reshape(x, (self.n, self.n, x.shape[-1]))\n",
    "    \n",
    "    def __str__(self):\n",
    "        blah = f'Location: {self.coords}'\n",
    "        return blah\n",
    "    def __repr__(self):\n",
    "        return self.__str__()\n",
    "        \n",
    "    def showR(self):\n",
    "        print(np.flipud(self.R.T))\n",
    "        \n",
    "    def draw(self, traj=None, fig=None):\n",
    "        '''\n",
    "         fig = env.Draw(traj=None, fig=None)\n",
    "         \n",
    "         Draws the arena, along with a single trajectory(optional).\n",
    "         traj is a list of dictionaries, where each element is:\n",
    "           dict(a=<action>, s=<state>, sp=<next state>, r=<reward>)\n",
    "        '''\n",
    "        tcoords = []\n",
    "        if traj is not None:\n",
    "            #tcoords.append(traj[0]['s'])\n",
    "            for t in traj:\n",
    "                tcoords.append(t['s'])\n",
    "                if t['d']:\n",
    "                    break\n",
    "            tcoords.append(traj[-1]['sp'])\n",
    "            tcoords = np.array(tcoords)\n",
    "        if fig is None:\n",
    "            fig = plt.figure(figsize=(8,8))\n",
    "        for row in range(self.n):\n",
    "            for col in range(self.n):\n",
    "                r = self.R[row,col]\n",
    "                if r>0:\n",
    "                    plt.plot(col, row, 'yo', markersize=r)\n",
    "                elif r<0:\n",
    "                    plt.plot(col, row, 'ko', markersize=-r)\n",
    "        if traj is not None:\n",
    "            plt.plot(tcoords[:,1], tcoords[:,0], 'o--')\n",
    "        plt.grid(True)\n",
    "        #plt.plot(traj[0]['s'][0], traj[0]['s'][1], 'go')\n",
    "        plt.plot(tcoords[0,1], tcoords[0,0], 'go')\n",
    "        plt.plot(tcoords[-1,1], tcoords[-1,0], 'ro')\n",
    "        #plt.axis('image')\n",
    "        plt.axis([-1,self.n,self.n,-1])\n",
    "        return fig"
   ]
  },
  {
   "cell_type": "markdown",
   "metadata": {
    "hidden": true
   },
   "source": [
    "## Vector_env"
   ]
  },
  {
   "cell_type": "code",
   "execution_count": 5,
   "metadata": {
    "hidden": true
   },
   "outputs": [],
   "source": [
    "class Vector_env(gym.Wrapper):\n",
    "    '''\n",
    "     class Vector_env\n",
    "     \n",
    "     Acts as a wrapper for the OpenAI gym environments.\n",
    "    '''\n",
    "    def __init__(self, EnvConstructor, n=1):\n",
    "        '''\n",
    "         venv = Vector_env(env, n=1)\n",
    "         \n",
    "         Creates n copies of env.\n",
    "        '''\n",
    "        super().__init__(EnvConstructor())\n",
    "        self.envs = []\n",
    "        self.n_envs = n\n",
    "        for k in range(n):\n",
    "            env_r = EnvConstructor() #deepcopy(env)\n",
    "            r = np.random.randint(10000)\n",
    "            env_r.seed(r)\n",
    "            self.envs.append(env_r)\n",
    "        self.observation_space = self.envs[0].observation_space\n",
    "        self.action_space = self.envs[0].action_space\n",
    "    \n",
    "    def reset(self):\n",
    "        '''\n",
    "         states = venv.reset()\n",
    "         \n",
    "         Resets all the environments, and returns an array with the\n",
    "         reset states in each row.\n",
    "        '''\n",
    "        states = []\n",
    "        for e in self.envs:\n",
    "            state = e.reset()\n",
    "            states.append(state)\n",
    "        return np.array(states)\n",
    "    \n",
    "    def step(self, actions):\n",
    "        '''\n",
    "         S, R, done, info = venv.step(actions)\n",
    "         \n",
    "         Takes one step in each of the environments, and returns an array\n",
    "         for each of the resulting outputs.\n",
    "         \n",
    "         Inputs:\n",
    "           actions   an array of actions\n",
    "           \n",
    "         Outputs:\n",
    "           S    array of states after the step\n",
    "           R    array of rewards from the step\n",
    "           done array of Boolean flags:\n",
    "                  False means episode continues\n",
    "                  True means episode is done\n",
    "        '''\n",
    "        S, R, dones = [], [], []\n",
    "        for e,a in zip(self.envs, actions):\n",
    "            next_s, r, done, inf = e.step(a)\n",
    "            if done:\n",
    "                S.append(e.reset())\n",
    "            else:\n",
    "                S.append(next_s)\n",
    "            R.append(r)\n",
    "            dones.append(done)\n",
    "        return np.array(S), np.array(R), np.array(dones), {}\n",
    "    \n",
    "    def set_max_episode_steps(self, n):\n",
    "        for env in self.envs:\n",
    "            env._max_episode_steps = n\n",
    "            \n",
    "    def state(self):\n",
    "        S = []\n",
    "        for e in self.envs:\n",
    "            S.append(e.state())\n",
    "        return np.array(S)"
   ]
  },
  {
   "cell_type": "markdown",
   "metadata": {},
   "source": [
    "# Agent"
   ]
  },
  {
   "cell_type": "code",
   "execution_count": 6,
   "metadata": {},
   "outputs": [],
   "source": [
    "class ReplayBuffer():\n",
    "    def __init__(self, size=1000000):\n",
    "        self.memory = [] #deque(maxlen=size)\n",
    "        \n",
    "    def store(self, s, a, r, sp, d):\n",
    "        for trans in zip(s,a,r,sp,d):\n",
    "            self.memory.append(trans)\n",
    "            #self.memory.append((s, a, r, sp, d))\n",
    "    \n",
    "    def sample(self, num=32):\n",
    "        num = min(num, len(self.memory))\n",
    "        blah = random.sample(self.memory, num)\n",
    "        s,a,r,sp,d = zip(*blah)\n",
    "        return np.array(s), np.array(a), np.array(r), np.array(sp), np.array(d)"
   ]
  },
  {
   "cell_type": "code",
   "execution_count": 12,
   "metadata": {},
   "outputs": [
    {
     "ename": "NameError",
     "evalue": "name 'GridWorld' is not defined",
     "output_type": "error",
     "traceback": [
      "\u001b[0;31m---------------------------------------------------------------------------\u001b[0m",
      "\u001b[0;31mNameError\u001b[0m                                 Traceback (most recent call last)",
      "\u001b[0;32m<ipython-input-12-fa837c5dcf99>\u001b[0m in \u001b[0;36m<module>\u001b[0;34m\u001b[0m\n\u001b[0;32m----> 1\u001b[0;31m \u001b[0menv\u001b[0m \u001b[0;34m=\u001b[0m \u001b[0mGridWorld\u001b[0m\u001b[0;34m(\u001b[0m\u001b[0;36m5\u001b[0m\u001b[0;34m)\u001b[0m\u001b[0;34m\u001b[0m\u001b[0;34m\u001b[0m\u001b[0m\n\u001b[0m",
      "\u001b[0;31mNameError\u001b[0m: name 'GridWorld' is not defined"
     ]
    }
   ],
   "source": [
    "env = GridWorld(5)"
   ]
  },
  {
   "cell_type": "code",
   "execution_count": 92,
   "metadata": {},
   "outputs": [],
   "source": [
    "class Agent(object):\n",
    "    '''\n",
    "     class Agent(env)\n",
    "     \n",
    "     Represents an RL agent. Its Q function is represented by a neural network, so that\n",
    "       agent.Q(s) returns a vector of probabilities over action-space.\n",
    "       \n",
    "     The input env is a sample of the environment that the agent will act in.\n",
    "    '''\n",
    "    def __init__(self, venv):\n",
    "        '''\n",
    "         ag = Agent(venv)\n",
    "         \n",
    "         Instantiates an Agent object.\n",
    "         \n",
    "         Inputs:\n",
    "           venv  a Vector_env object, containing the environments for the task\n",
    "        '''\n",
    "        self.gamma = 0.99\n",
    "        \n",
    "        #***** USE THIS FOR GridWorld *****\n",
    "        #self.state_shape = np.prod(venv.observation_space.nvec)\n",
    "        \n",
    "        #***** USE THIS FOR CartPole *****\n",
    "        self.state_shape = venv.observation_space.shape[0]\n",
    "        \n",
    "        self.n_actions = venv.action_space.n  #n_actions\n",
    "        \n",
    "        self.venv = venv  # useful for accessing states, etc.\n",
    "        \n",
    "        # Q function: R^4 -> R^2 Q-value vector\n",
    "        self.Q = torch.nn.Sequential(\n",
    "                      torch.nn.Linear(self.state_shape, 128),\n",
    "                      torch.nn.Tanh(),\n",
    "                      torch.nn.Linear(128, 32),\n",
    "                      torch.nn.Tanh(),\n",
    "                      torch.nn.Linear(32, self.n_actions),\n",
    "                      #torch.nn.LogSoftmax(dim=1),\n",
    "                    )\n",
    "        self.optim = torch.optim.Adam(self.Q.parameters(), lr=0.001)\n",
    "\n",
    "    def process_inputs(self, s):\n",
    "        return s   #***** FOR CartPole *****\n",
    "        #***** BELOW FOR GridWorld one-hot *****\n",
    "        blah = np.zeros((len(s), np.prod(self.venv.observation_space.nvec)))\n",
    "        for k,ss in enumerate(s):\n",
    "            q = int(self.venv.envs[0].c2i(ss))\n",
    "            blah[k,q] = 1.\n",
    "        return blah\n",
    "    \n",
    "    def choose_action(self, s, eps=0.):\n",
    "        '''\n",
    "         A = ag.choose_action(s, eps=0.)\n",
    "         \n",
    "         Choose an action, given the state s.\n",
    "         With probability eps, it will choose an action randomly.\n",
    "         Otherwise, it will choose an action that yields the highest Q-value.\n",
    "        '''\n",
    "        with torch.no_grad():\n",
    "            Qvals = self.Q(torch.tensor(self.process_inputs(s), dtype=torch.float))\n",
    "            a = torch.argmax(Qvals, dim=1).numpy()\n",
    "        \n",
    "        # epsilon-greedy\n",
    "        bs = len(s)\n",
    "        if eps>=1.e-8:\n",
    "            a_random = np.random.choice(self.n_actions, size=(bs,))\n",
    "            r = np.random.rand(bs)\n",
    "            ridx = r<eps\n",
    "            a[ridx] = a_random[ridx]\n",
    "            \n",
    "        return a\n",
    "    \n",
    "    def update(self, s, a, r, sp, d, alpha=0.01):\n",
    "        '''\n",
    "         env.update(s, a, r, sp, d, alpha=0.01)\n",
    "         \n",
    "         Learn from a bunch of transitions.\n",
    "         This method updates the Q-function.\n",
    "        '''\n",
    "        loss_fcn = torch.nn.MSELoss()\n",
    "                \n",
    "        # Get estimate of current value\n",
    "        Qs = self.Q(torch.tensor(self.process_inputs(s), dtype=torch.float))\n",
    "        Qsa = Qs[range(len(Qs)),a]\n",
    "        \n",
    "        # Bellmann's equation to get a better estimate\n",
    "        with torch.no_grad():\n",
    "            Qsp = self.Q(torch.tensor(self.process_inputs(sp), dtype=torch.float))  # value for all actions\n",
    "            maxQs = torch.amax(Qsp, dim=1)\n",
    "            target = torch.tensor(r, dtype=torch.float) + self.gamma*(1-torch.as_tensor(d).float())*maxQs\n",
    "            \n",
    "        # Gradient descent of Q(S,A) -> r + gamma argmax_s Q(S',a)\n",
    "        loss = loss_fcn(Qsa, target)\n",
    "        self.optim.zero_grad()\n",
    "        loss.backward()\n",
    "        self.optim.step()\n",
    "        "
   ]
  },
  {
   "cell_type": "markdown",
   "metadata": {},
   "source": [
    "# Helper functions"
   ]
  },
  {
   "cell_type": "code",
   "execution_count": 160,
   "metadata": {},
   "outputs": [],
   "source": [
    "def train(agent, venv, buf, episodes=100, T=1000, batch_size=32, alpha=0.01, eps=0.):\n",
    "    '''\n",
    "     ag.train(agent, venv, buf, episodes=100, T=1000, batch_size=32, alpha=0.01, eps=0.)\n",
    "\n",
    "     Trains the agent on the environ\n",
    "    '''\n",
    "    # First, let's populate a replay buffer\n",
    "    #buf = ReplayBuffer(size=T*batch_size)\n",
    "    for e in tqdm(range(episodes)):\n",
    "        s = venv.reset()\n",
    "        for k in range(T):\n",
    "            a = agent.choose_action(s, eps=eps)\n",
    "            sp, r, done, _ = venv.step(a)\n",
    "            buf.store(s, a, r, sp, done)\n",
    "            s = sp\n",
    "\n",
    "            batch = buf.sample(batch_size)\n",
    "            agent.update(batch[0], batch[1], batch[2], batch[3], batch[4])\n",
    "            if all(done):\n",
    "                break"
   ]
  },
  {
   "cell_type": "code",
   "execution_count": 185,
   "metadata": {},
   "outputs": [],
   "source": [
    "def simulate(agent, trials=1, eps=0., eps_decay=0.995):\n",
    "    time.sleep(1)\n",
    "    avg_k = 0.\n",
    "    for trial in range(trials):\n",
    "        s = agent.venv.envs[0].reset()\n",
    "        for k in range(2000):\n",
    "            agent.venv.envs[0].render()\n",
    "            a = agent.choose_action([s], eps=eps*eps_decay**k)\n",
    "\n",
    "            sp, r, done, info = agent.venv.envs[0].step(a[0])\n",
    "            s = sp\n",
    "            if done:\n",
    "                print('Done after '+str(k))\n",
    "                avg_k += k\n",
    "                break\n",
    "                \n",
    "    print('Average reward: '+str(avg_k/trials))\n",
    "    time.sleep(1)\n",
    "    agent.venv.envs[0].close()"
   ]
  },
  {
   "cell_type": "code",
   "execution_count": 157,
   "metadata": {},
   "outputs": [],
   "source": [
    "def episode(agent, env, s=None, max_iters=100, eps=0.):\n",
    "    done = False\n",
    "    n_iters = 0\n",
    "    if s is None:\n",
    "        s = env.reset()\n",
    "    else:\n",
    "        env.coords = np.array(s)\n",
    "    traj = []\n",
    "    while not done and n_iters<max_iters:\n",
    "        a = agent.choose_action([s], eps=eps)\n",
    "        sp, r, done, _ = env.step(a[0])\n",
    "        #print(s, a, r, sp, done)\n",
    "        traj.append(dict(a=a[0], s=s, sp=sp, r=r, d=done))\n",
    "        s = sp\n",
    "        n_iters += 1\n",
    "    print(n_iters, done)\n",
    "    return traj"
   ]
  },
  {
   "cell_type": "markdown",
   "metadata": {},
   "source": [
    "# Train and Test"
   ]
  },
  {
   "cell_type": "markdown",
   "metadata": {
    "heading_collapsed": true
   },
   "source": [
    "## CartPole"
   ]
  },
  {
   "cell_type": "code",
   "execution_count": 480,
   "metadata": {
    "hidden": true
   },
   "outputs": [],
   "source": [
    "venv = Vector_env((lambda : gym.make('CartPole-v0')), n=32)\n",
    "ag = Agent(venv)"
   ]
  },
  {
   "cell_type": "code",
   "execution_count": 484,
   "metadata": {
    "hidden": true,
    "scrolled": true
   },
   "outputs": [
    {
     "name": "stderr",
     "output_type": "stream",
     "text": [
      "100%|██████████| 10000/10000 [00:16<00:00, 611.04it/s]\n"
     ]
    }
   ],
   "source": [
    "buf = train(ag, venv, T=10000, alpha=0.001, eps=0., batch_size=32)"
   ]
  },
  {
   "cell_type": "code",
   "execution_count": 485,
   "metadata": {
    "hidden": true,
    "scrolled": true
   },
   "outputs": [
    {
     "name": "stdout",
     "output_type": "stream",
     "text": [
      "Done after 199\n",
      "Done after 199\n",
      "Done after 199\n",
      "Average reward: 199.0\n"
     ]
    }
   ],
   "source": [
    "simulate(ag, trials=3)"
   ]
  },
  {
   "cell_type": "markdown",
   "metadata": {},
   "source": [
    "## MoonLander"
   ]
  },
  {
   "cell_type": "code",
   "execution_count": 259,
   "metadata": {},
   "outputs": [],
   "source": [
    "venv = Vector_env((lambda : gym.make('LunarLander-v2')), n=1)\n",
    "ag = Agent(venv)"
   ]
  },
  {
   "cell_type": "code",
   "execution_count": 260,
   "metadata": {},
   "outputs": [],
   "source": [
    "buf = ReplayBuffer()"
   ]
  },
  {
   "cell_type": "code",
   "execution_count": 263,
   "metadata": {
    "scrolled": false
   },
   "outputs": [
    {
     "name": "stderr",
     "output_type": "stream",
     "text": [
      "100%|██████████| 50/50 [00:08<00:00,  5.59it/s]\n",
      "100%|██████████| 50/50 [00:08<00:00,  5.84it/s]\n",
      "100%|██████████| 50/50 [00:11<00:00,  4.32it/s]\n",
      "100%|██████████| 50/50 [00:09<00:00,  5.43it/s]\n",
      "100%|██████████| 50/50 [00:08<00:00,  5.59it/s]\n",
      "100%|██████████| 50/50 [00:11<00:00,  4.21it/s]\n",
      "100%|██████████| 50/50 [00:11<00:00,  4.31it/s]\n",
      "100%|██████████| 50/50 [00:19<00:00,  2.61it/s]\n",
      "100%|██████████| 50/50 [00:21<00:00,  2.35it/s]\n",
      "100%|██████████| 50/50 [00:26<00:00,  1.92it/s]\n"
     ]
    }
   ],
   "source": [
    "venv.set_max_episode_steps(1000)\n",
    "epochs = 10\n",
    "for epoch in range(epochs):\n",
    "    eps = np.exp(-epoch/10)\n",
    "    train(ag, venv, buf, episodes=50, alpha=0.001, eps=eps, batch_size=64)"
   ]
  },
  {
   "cell_type": "code",
   "execution_count": 266,
   "metadata": {
    "scrolled": true
   },
   "outputs": [
    {
     "name": "stdout",
     "output_type": "stream",
     "text": [
      "Done after 506\n",
      "Done after 999\n",
      "Done after 999\n",
      "Average reward: 834.6666666666666\n"
     ]
    }
   ],
   "source": [
    "venv.set_max_episode_steps(1000)\n",
    "simulate(ag, trials=3, eps=0.2, eps_decay=0.995)"
   ]
  },
  {
   "cell_type": "code",
   "execution_count": 187,
   "metadata": {},
   "outputs": [
    {
     "data": {
      "text/plain": [
       "0.022688763303990733"
      ]
     },
     "execution_count": 187,
     "metadata": {},
     "output_type": "execute_result"
    }
   ],
   "source": [
    "0.5*0.995**617."
   ]
  },
  {
   "cell_type": "markdown",
   "metadata": {},
   "source": [
    "## GridWorld"
   ]
  },
  {
   "cell_type": "code",
   "execution_count": 443,
   "metadata": {},
   "outputs": [],
   "source": [
    "venv = Vector_env((lambda : GridWorld(8, goal=[([4,1],10.),([4,6],10.)])), n=32)\n",
    "ag = Agent(venv)"
   ]
  },
  {
   "cell_type": "code",
   "execution_count": 445,
   "metadata": {},
   "outputs": [
    {
     "name": "stderr",
     "output_type": "stream",
     "text": [
      "100%|██████████| 100/100 [00:00<00:00, 451.05it/s]\n"
     ]
    }
   ],
   "source": [
    "buf = train(ag, venv, T=100, alpha=0.001, eps=0.8)"
   ]
  },
  {
   "cell_type": "code",
   "execution_count": 446,
   "metadata": {},
   "outputs": [
    {
     "name": "stderr",
     "output_type": "stream",
     "text": [
      "100%|██████████| 1000/1000 [00:01<00:00, 533.22it/s]\n"
     ]
    }
   ],
   "source": [
    "buf = train(ag, venv, T=1000, alpha=0.001, eps=0.1)"
   ]
  },
  {
   "cell_type": "code",
   "execution_count": 464,
   "metadata": {
    "scrolled": false
   },
   "outputs": [
    {
     "name": "stdout",
     "output_type": "stream",
     "text": [
      "4 True\n"
     ]
    },
    {
     "data": {
      "image/png": "[encoded data removed]",
      "text/plain": [
       "<Figure size 576x576 with 1 Axes>"
      ]
     },
     "metadata": {
      "needs_background": "light"
     },
     "output_type": "display_data"
    }
   ],
   "source": [
    "#traj = episode(ag, env, s=[1,3], eps=0.)\n",
    "traj = episode(ag, ag.venv.envs[0], s=None, eps=0.)\n",
    "ag.venv.envs[0].draw(traj=traj);"
   ]
  },
  {
   "cell_type": "code",
   "execution_count": 219,
   "metadata": {},
   "outputs": [
    {
     "name": "stdout",
     "output_type": "stream",
     "text": [
      "[5 7]\n"
     ]
    }
   ],
   "source": [
    "s = ag.venv.envs[0].reset()\n",
    "print(s)\n",
    "#env.render()"
   ]
  },
  {
   "cell_type": "code",
   "execution_count": 220,
   "metadata": {},
   "outputs": [],
   "source": [
    "s = np.array([[5,6]])\n",
    "Qa = ag.Q(torch.as_tensor(s).float())"
   ]
  },
  {
   "cell_type": "code",
   "execution_count": 221,
   "metadata": {},
   "outputs": [
    {
     "data": {
      "text/plain": [
       "tensor([[6.3182, 5.3722, 6.7821, 7.1567]], grad_fn=<AddmmBackward>)"
      ]
     },
     "execution_count": 221,
     "metadata": {},
     "output_type": "execute_result"
    }
   ],
   "source": [
    "Qa"
   ]
  },
  {
   "cell_type": "code",
   "execution_count": null,
   "metadata": {},
   "outputs": [],
   "source": []
  }
 ],
 "metadata": {
  "kernelspec": {
   "display_name": "Python 3",
   "language": "python",
   "name": "python3"
  },
  "language_info": {
   "codemirror_mode": {
    "name": "ipython",
    "version": 3
   },
   "file_extension": ".py",
   "mimetype": "text/x-python",
   "name": "python",
   "nbconvert_exporter": "python",
   "pygments_lexer": "ipython3",
   "version": "3.8.3-final"
  }
 },
 "nbformat": 4,
 "nbformat_minor": 4
}