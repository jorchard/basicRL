{
 "cells": [
  {
   "cell_type": "markdown",
   "metadata": {
    "Collapsed": "false"
   },
   "source": [
    "# Temporal Difference Learning"
   ]
  },
  {
   "cell_type": "code",
   "execution_count": 2,
   "metadata": {
    "Collapsed": "false"
   },
   "outputs": [],
   "source": [
    "import numpy as np\n",
    "import matplotlib.pyplot as plt\n",
    "%matplotlib inline\n",
    "import copy"
   ]
  },
  {
   "cell_type": "markdown",
   "metadata": {
    "Collapsed": "false"
   },
   "source": [
    "## Bellman's Equation"
   ]
  },
  {
   "cell_type": "markdown",
   "metadata": {
    "Collapsed": "false"
   },
   "source": [
    "$$\n",
    "v_\\pi (s) = \\sum_a \\pi (a | s) \\left[ \\sum_{s'} p (s' | s,a) \\left[ r(s',s,a) + \\gamma v_\\pi (s') \\right]  \\right]\n",
    "$$\n",
    "$$\n",
    "\\vec{v} = T \\left( \\vec{\\pi} \\odot \\left[ (P \\odot R) \\vec{1} + \\gamma P \\vec{v} \\right] \\right)\n",
    "$$"
   ]
  },
  {
   "cell_type": "markdown",
   "metadata": {
    "Collapsed": "false"
   },
   "source": [
    "# MDP Class"
   ]
  },
  {
   "cell_type": "code",
   "execution_count": 3,
   "metadata": {
    "Collapsed": "false"
   },
   "outputs": [],
   "source": [
    "class MDP():\n",
    "    \n",
    "    def __init__(self, P, R, terminal=[], Pi=None, gamma=0.9):\n",
    "        '''\n",
    "         MDP(P, R, Pi=None, gamma=0.9)\n",
    "         \n",
    "         P  is an n_states x n_actions x n_states array\n",
    "         R  is an n_states x n_actions array\n",
    "         terminal is a list of terminal states\n",
    "         Pi is an n_states x n_actions array\n",
    "         gamma is the temporal discount factor\n",
    "        '''\n",
    "        self.n_states, self.n_actions, _ = np.shape(P)\n",
    "        self.P = P                      # State transition function\n",
    "        self.R = R                      # Reward function\n",
    "        self.terminal = terminal        # Terminal states\n",
    "        self.gamma = gamma              # Temporal discount factor\n",
    "        if Pi!=None:\n",
    "            self.Pi = Pi                # Policy function\n",
    "        else:\n",
    "            self.Pi = np.ones((self.n_states, self.n_actions)) / self.n_actions\n",
    "        \n",
    "        self.v = np.zeros(self.n_states)                    # Value function\n",
    "        self.Q = np.zeros((self.n_states, self.n_actions))  # Q function\n",
    "        self.E = np.zeros((self.n_states, self.n_actions))  # Elegibility function\n",
    "        \n",
    "        self.M = np.zeros((self.n_states, self.n_actions, 3)) # State transition model (for model-based RL)\n",
    "        # M[s,a,0] is the anticipated reward\n",
    "        # M[s,a,1] is the anticipated new state\n",
    "        # M[s,a,2] is 1 if (s,a) was experienced, otherwise 0\n",
    "        \n",
    "        self.b = []  # Used for full policy evaluation\n",
    "        self.B = []  # \"\n",
    "        self.state = 0       # Current state\n",
    "\n",
    "    def AddTerminalState(self, t):\n",
    "        self.terminal.append(t)\n",
    "        \n",
    "    def Step(self, action=None):\n",
    "        '''\n",
    "         mdp.Step(action=None)\n",
    "         \n",
    "         Take a step by choosing an action.\n",
    "         \n",
    "         Inputs:\n",
    "           action is the index of the action to choose.\n",
    "                  If None, then it chooses an action according to the policy.\n",
    "        '''\n",
    "        if action is None:\n",
    "            action = self.SampleAction()\n",
    "        \n",
    "        # New state\n",
    "        newstate_idx = self.sample(self.P[self.state, action, :])\n",
    "        reward = self.R[self.state, action]\n",
    "        \n",
    "        # Is this a terminal state?\n",
    "        done = 0\n",
    "        if newstate_idx in(self.terminal):\n",
    "            #if np.max(self.P[newstate_idx, :, newstate_idx]) == 1.:\n",
    "            done = 1\n",
    "        return self.state, action, reward, newstate_idx, done\n",
    "    \n",
    "    def sample(self, p):\n",
    "        '''\n",
    "         idx = mdp.sample(p)\n",
    "         \n",
    "         Randomly choose an index according to the probability vector p.\n",
    "         \n",
    "         Input:\n",
    "           p  is a probability vector\n",
    "           \n",
    "         Output:\n",
    "           idx is an index of the vector p\n",
    "        '''\n",
    "        c = copy.deepcopy(p)\n",
    "        for k in range(1,len(c)):\n",
    "            c[k] += c[k-1]\n",
    "        r = np.random.rand()\n",
    "        result = np.where(r>c)\n",
    "        return len(result[0])\n",
    "    \n",
    "    def SampleAction(self, state=None, Pi=None, eps=0.):\n",
    "        '''\n",
    "         a = mdp.SampleAction(state=None)\n",
    "         \n",
    "         Choose an action.\n",
    "         \n",
    "         Input:\n",
    "           state is the state to choose an action from.\n",
    "                 If None, then use mdp.state.\n",
    "           Pi is the policy. If None, then use mdp.Pi.\n",
    "           eps is the epsilon to use for epsilon-greedy action selection.\n",
    "        '''\n",
    "        if state is None:\n",
    "            state = self.state\n",
    "        if Pi is None:\n",
    "            Pi = self.Pi\n",
    "        Pi_eps = copy.deepcopy(Pi)\n",
    "        Pi_eps += eps\n",
    "        for pi_row in Pi_eps:\n",
    "            pi_row /= np.sum(pi_row)\n",
    "        return self.sample(Pi_eps[state,:])\n",
    "        \n",
    "    def LinearSystem(self, Pi=None, R=None, P=None, gamma=None):\n",
    "        list_like = (np.ndarray,)\n",
    "        if not isinstance(Pi, list_like):\n",
    "            Pi = self.Pi\n",
    "        if not isinstance(P, list_like):\n",
    "            P = self.P\n",
    "        if not isinstance(R, list_like):\n",
    "            R = self.R\n",
    "        if gamma==None:\n",
    "            gamma = self.gamma\n",
    "        self.b = np.sum( Pi * R, axis=1 )\n",
    "        self.B = gamma * np.sum(Pi[:,:,np.newaxis]*P, axis=1)\n",
    "\n",
    "    def EvaluatePolicy(self):\n",
    "        self.LinearSystem()\n",
    "        #B = self.gamma * np.einsum('ijk,ijk->ik', self.Pi[:,:,np.newaxis], self.P)\n",
    "        v = np.linalg.solve(np.eye(self.n_states)-self.B, self.b)\n",
    "        self.v = v\n",
    "        return v\n",
    "\n",
    "    def EvaluateStep(self, n_steps=100, tol=1.e-4):\n",
    "        '''\n",
    "         EvaluateStep(n_steps=100, tol=1.e-4)\n",
    "         \n",
    "         Iteratively maps the current value vector using the Bellman equation.\n",
    "         The iterations stop when\n",
    "           - it reaches n_steps, or\n",
    "           - if max(abs(v-vnew))<tol,\n",
    "         whichever comes first.\n",
    "        '''\n",
    "        self.LinearSystem()\n",
    "        delta_V = 1.e50\n",
    "        k = 0\n",
    "        while delta_V>=tol and k<n_steps:\n",
    "            v_copy = copy.deepcopy(self.v)\n",
    "            self.v = self.B @ v_copy + self.b\n",
    "            k += 1\n",
    "            delta_V = np.max(np.abs(self.v-v_copy))\n",
    "        #print(str(k)+' steps')\n",
    "        return self.v\n",
    "\n",
    "    def ValueIteration(self, n_steps=100, tol=1.e-4):\n",
    "        '''\n",
    "         Pi = mdp.ValueIteration(n_steps=100, tol=1.e-4)\n",
    "         \n",
    "         Performs value iteration, starting from the current value vector.\n",
    "         The iterations stop when\n",
    "           - it reaches n_steps, or\n",
    "           - if max(abs(v-vnew))<tol,\n",
    "         whichever comes first.\n",
    "        '''\n",
    "        delta_V = 1.e50\n",
    "        k = 0\n",
    "        while delta_V>=tol and k<n_steps:\n",
    "            v_copy = copy.deepcopy(self.v)\n",
    "            self.LinearSystem()\n",
    "            v_new = np.zeros_like(self.R)\n",
    "            for a in range(n_actions):\n",
    "                v_new[:,a] = self.B@self.v + self.b\n",
    "            self.v = np.max(v_new, axis=1)\n",
    "            delta_V = np.max(np.abs(self.v - v_copy))\n",
    "            k += 1\n",
    "        \n",
    "        return self.OptimalPolicy()\n",
    "        \n",
    "    def PolicyIteration(self):\n",
    "        '''\n",
    "         Pi = mdp.PolicyIteration()\n",
    "         \n",
    "         Performs policy iteration, starting from the current value vector.\n",
    "         The iteration stops when the policy does not change in an iteration.\n",
    "        '''\n",
    "        delta_Pi = 1.\n",
    "        Pi_copy = copy.deepcopy(self.Pi)\n",
    "        while delta_Pi!=0:\n",
    "            self.EvaluateStep(n_steps=1)\n",
    "            Pi_new = self.OptimalPolicy()\n",
    "            delta_Pi = np.max(np.abs(Pi_copy - Pi_new))\n",
    "            Pi_copy = copy.deepcopy(Pi_new)\n",
    "            \n",
    "        return Pi_new\n",
    "        \n",
    "    def OptimalPolicyFromQ(self):\n",
    "        '''\n",
    "         Pi = mdp.OptimalPolicyFromQ()\n",
    "         \n",
    "         Returns the optimal policy from the current Q function.\n",
    "        '''\n",
    "        Pi_opt = np.zeros_like(self.Pi)\n",
    "        for s in range(self.n_states):\n",
    "            q_star = np.max(self.Q[s,:])\n",
    "            blah = self.Q[s,:]==q_star\n",
    "            Pi_opt[s,:] = blah / np.sum(blah)\n",
    "            \n",
    "        return Pi_opt\n",
    "        \n",
    "    def OptimalPolicy(self):\n",
    "        '''\n",
    "         Pi = mdp.OptimalPolicy()\n",
    "\n",
    "         Returns the optimal policy for the current value function.\n",
    "        '''\n",
    "        if len(self.v)==0:\n",
    "            self.v = np.zeros(self.n_states)\n",
    "\n",
    "        v_new = np.zeros((self.n_states,self.n_actions), dtype=float)\n",
    "        for a in range(self.n_actions):\n",
    "            Pi_a = np.zeros_like(self.Pi)\n",
    "            Pi_a[:,a] = 1.\n",
    "\n",
    "            self.LinearSystem(Pi=Pi_a)\n",
    "            v_new[:,a] = self.B@self.v + self.b\n",
    "\n",
    "        Pi_opt = np.zeros_like(self.Pi)\n",
    "        for s in range(self.n_states):\n",
    "            a_star = np.max(v_new[s,:])\n",
    "            blah = v_new[s,:]==a_star\n",
    "            Pi_opt[s,:] = blah / np.sum(blah)\n",
    "            \n",
    "        return Pi_opt\n",
    "\n",
    "            \n",
    "    def Episode(self):\n",
    "        '''\n",
    "         trajectory = mdp.Episode()\n",
    "         \n",
    "         Creates a trajectory that starts at the current state and follows the optimal policy.\n",
    "         \n",
    "         Output:\n",
    "           trajectory is a list of states\n",
    "        '''\n",
    "        max_iters = 100\n",
    "        done = 0\n",
    "        n_iters = 0\n",
    "        s = self.state\n",
    "        traj = [s]\n",
    "        while not done and n_iters<max_iters:\n",
    "            oldstate, action, reward, newstate, done = self.Step()\n",
    "            traj.append(newstate)\n",
    "            self.state = newstate\n",
    "            n_iters += 1\n",
    "            \n",
    "        return traj\n",
    "    \n",
    "    \n",
    "    def SARSA_lambda(self, alpha=0.1, eps=0.1, lam=0.9, trace='dutch'):\n",
    "        '''\n",
    "         mdp.SARSA_lambda(alpha=0.1, eps=0.1, lam=0.9, trace='dutch')\n",
    "         \n",
    "         Performs an episode using SARSA(lambda).\n",
    "         The method uses eligibility traces with decay lam.\n",
    "         It uses the current state, and updates mdp.Q and mdp.E.\n",
    "         \n",
    "         Inputs:\n",
    "           alpha  TD learning rate\n",
    "           eps    epsilon used for epsilon-greedy action selection\n",
    "           lam    trace decay\n",
    "           trace  type of eligibility increment, one of:\n",
    "                   'dutch', 'accumulating', or 'replacing'\n",
    "        '''\n",
    "        iters_max = 100\n",
    "        # Current state is in self.state\n",
    "        # Choose an action using policy\n",
    "        A = self.SampleAction(Pi=self.OptimalPolicyFromQ(), eps=eps)\n",
    "        # for each step of an episode\n",
    "        done = 0\n",
    "        n_iters = 0\n",
    "        traj = [self.state]\n",
    "        self.E[:,:] = 0.\n",
    "        while not done and n_iters<iters_max:\n",
    "            # Take action, get reward and newstate\n",
    "            oldstate, action, reward, newstate, done = self.Step(action=A)\n",
    "            # Choose newaction from newstate\n",
    "            newaction = self.SampleAction(state=newstate, Pi=self.OptimalPolicyFromQ(), eps=eps)\n",
    "            \n",
    "            # Compute the return delta\n",
    "            delta = reward + self.gamma*self.Q[newstate,newaction] - self.Q[self.state,A]\n",
    "            \n",
    "            # Increment self.E for current state/action\n",
    "            if trace=='dutch':\n",
    "                self.E[self.state,A] += 1. - alpha*self.E[self.state,A]   # Dutch trace\n",
    "            elif trace=='accumulating':\n",
    "                self.E[self.state,A] += 1.                                # Accumulating trace\n",
    "            else:\n",
    "                self.E[self.state,A] = 1.                                 # Replacing trace\n",
    "            \n",
    "            for s in range(self.n_states):\n",
    "                for a in range(self.n_actions):\n",
    "                    # Update self.Q\n",
    "                    self.Q[s,a] += alpha*delta*self.E[s,a]\n",
    "                    \n",
    "                    # Update self.E\n",
    "                    self.E[s,a] *= self.gamma*lam\n",
    "                    \n",
    "            # Switch state to newstate, and action to newaction\n",
    "            self.state = newstate\n",
    "            traj.append(newstate)\n",
    "            A = newaction\n",
    "            n_iters += 1\n",
    "        \n",
    "        return traj\n",
    "        \n",
    "        \n",
    "    def SARSA(self, alpha=0.1, eps=0.1):\n",
    "        '''\n",
    "         mdp.SARSA(alpha=0.1, eps=0.1)\n",
    "         \n",
    "         Performs an episode using SARSA, updating mdp.Q as it goes.\n",
    "         It uses the current state.\n",
    "        '''\n",
    "        iters_max = 100\n",
    "        # Current state is in self.state\n",
    "        # Choose an action using policy\n",
    "        a = self.SampleAction(Pi=self.OptimalPolicyFromQ(), eps=eps)\n",
    "        # for each step of an episode\n",
    "        done = 0\n",
    "        n_iters = 0\n",
    "        while not done and n_iters<iters_max:\n",
    "            # Take action, get reward and newstate\n",
    "            oldstate, action, reward, newstate, done = self.Step(action=a)\n",
    "            # Choose newaction from newstate\n",
    "            newaction = self.SampleAction(state=newstate, Pi=self.OptimalPolicyFromQ(), eps=eps)\n",
    "            \n",
    "            # Update self.Q\n",
    "            self.Q[self.state, a] = (1-alpha)*self.Q[self.state,a] + alpha*( reward + self.gamma*self.Q[newstate,newaction] )\n",
    "            # Switch state to newstate, and action to newaction\n",
    "            self.state = newstate\n",
    "            a = newaction\n",
    "            n_iters += 1\n",
    "\n",
    "            \n",
    "    def DynaQ(self, alpha=0.1, eps=0.1, n=5):\n",
    "        '''\n",
    "         traj = mdp.DynaQ(alpha=0.1, eps=0.1, n=5)\n",
    "         \n",
    "         Performs an episode of Dyna-Q model-based Q-learning.\n",
    "         Starting from the current state, it takes n planning steps for each\n",
    "         actual step. It updates mdp.Q and mdp.M, and returns the trajectory.\n",
    "        '''\n",
    "        done = 0\n",
    "        iters_max = 100\n",
    "        n_iters = 0\n",
    "        traj = [self.state]\n",
    "        while not done and n_iters<iters_max:\n",
    "            # Choose an action using policy\n",
    "            A = self.SampleAction(Pi=self.OptimalPolicyFromQ(), eps=eps)\n",
    "            \n",
    "            # Take action, get reward and newstate\n",
    "            oldstate, action, reward, newstate, done = self.Step(action=A)\n",
    "            \n",
    "            # Update self.Q\n",
    "            maxQ = np.max(self.Q[newstate,:])\n",
    "            self.Q[self.state,A] = (1-alpha)*self.Q[self.state,A] + alpha*( reward + self.gamma*maxQ )\n",
    "            \n",
    "            traj.append(newstate)\n",
    "            \n",
    "            # n planning steps\n",
    "            for nn in range(n):\n",
    "                s,a = self.ChoosePreviousExperience()\n",
    "                if s is not None:\n",
    "                    R = self.M[s,a,0]\n",
    "                    planningstate = self.M[s,a,1]\n",
    "                    maxQ = np.max(self.Q[planningstate,:])\n",
    "                    self.Q[s,a] += alpha * ( R + self.gamma*maxQ - self.Q[s,a] )\n",
    "            \n",
    "            # Switch state to newstate\n",
    "            self.state = newstate\n",
    "            n_iters += 1\n",
    "            \n",
    "    def ChoosePreviousExperience(self):\n",
    "        '''\n",
    "         s,a = mdp.ChoosePreviousExperience()\n",
    "         \n",
    "         Returns a state/action pair that has been done before, based on the\n",
    "         model stored in mdp.M.\n",
    "        '''\n",
    "        r,c = np.nonzero(self.M[:,:,2])\n",
    "        coords = list(zip(r,c))\n",
    "        if len(coords)>0:\n",
    "            idx = np.random.randint(0,len(coords))\n",
    "            return coords[idx]\n",
    "        else:\n",
    "            return None, None\n",
    "            \n",
    "    def QLearning(self, alpha=0.1, eps=0.1):\n",
    "        iters_max = 100\n",
    "        # Current state is in self.state\n",
    "        # for each step of an episode\n",
    "        done = 0\n",
    "        n_iters = 0\n",
    "        while not done and n_iters<iters_max:\n",
    "            \n",
    "            # Choose an action using policy\n",
    "            a = self.SampleAction(Pi=self.OptimalPolicyFromQ(), eps=eps)\n",
    "            \n",
    "            # Take action, get reward and newstate\n",
    "            oldstate, action, reward, newstate, done = self.Step(action=a)\n",
    "            \n",
    "            # Update self.Q\n",
    "            maxQ = np.max(self.Q[newstate,:])\n",
    "            self.Q[self.state, a] = (1-alpha)*self.Q[self.state,a] + alpha*( reward + self.gamma*maxQ )\n",
    "            \n",
    "            # Switch state to newstate, and action to newaction\n",
    "            self.state = newstate\n",
    "            n_iters += 1"
   ]
  },
  {
   "cell_type": "code",
   "execution_count": 4,
   "metadata": {
    "Collapsed": "false"
   },
   "outputs": [],
   "source": [
    "M = np.zeros((5,5,2), dtype=np.float32)"
   ]
  },
  {
   "cell_type": "code",
   "execution_count": 5,
   "metadata": {
    "Collapsed": "false"
   },
   "outputs": [],
   "source": [
    "M[2,2,1] = 1.\n",
    "M[1,2,1] = 1.\n",
    "M[3,1,1] = 1."
   ]
  },
  {
   "cell_type": "code",
   "execution_count": 6,
   "metadata": {
    "Collapsed": "false"
   },
   "outputs": [
    {
     "name": "stdout",
     "output_type": "stream",
     "text": [
      "[(1, 2), (2, 2), (3, 1)]\n",
      "(2, 2)\n"
     ]
    }
   ],
   "source": [
    "r,c = np.nonzero(M[:,:,1])\n",
    "coords = list(zip(r,c))\n",
    "print(coords)\n",
    "idx = np.random.randint(len(coords))\n",
    "print(coords[idx])"
   ]
  },
  {
   "cell_type": "code",
   "execution_count": 7,
   "metadata": {
    "Collapsed": "false"
   },
   "outputs": [
    {
     "name": "stdout",
     "output_type": "stream",
     "text": [
      "(1, 2)\n",
      "(2, 2)\n",
      "(3, 1)\n"
     ]
    }
   ],
   "source": [
    "for coord in zip(r,c):\n",
    "    print(coord)"
   ]
  },
  {
   "cell_type": "markdown",
   "metadata": {
    "Collapsed": "true"
   },
   "source": [
    "## 1D GridWorld"
   ]
  },
  {
   "cell_type": "markdown",
   "metadata": {
    "Collapsed": "false"
   },
   "source": [
    "### Create arrays"
   ]
  },
  {
   "cell_type": "code",
   "execution_count": 8,
   "metadata": {
    "Collapsed": "false"
   },
   "outputs": [],
   "source": [
    "gs = 8  # grid length\n",
    "n_actions = 2  # number of actions\n",
    "golden_square_idx = 4\n",
    "golden_square_reward = 4.\n",
    "terminal = [golden_square_idx]\n",
    "movement_cost = -0.5"
   ]
  },
  {
   "cell_type": "code",
   "execution_count": 9,
   "metadata": {
    "Collapsed": "false"
   },
   "outputs": [
    {
     "name": "stdout",
     "output_type": "stream",
     "text": [
      "[[0.5 0.5]\n",
      " [0.5 0.5]\n",
      " [0.5 0.5]\n",
      " [0.5 0.5]\n",
      " [0.5 0.5]\n",
      " [0.5 0.5]\n",
      " [0.5 0.5]\n",
      " [0.5 0.5]]\n"
     ]
    }
   ],
   "source": [
    "Pi = np.ones((gs,n_actions)) / n_actions\n",
    "print(Pi)"
   ]
  },
  {
   "cell_type": "code",
   "execution_count": 10,
   "metadata": {
    "Collapsed": "false"
   },
   "outputs": [
    {
     "name": "stdout",
     "output_type": "stream",
     "text": [
      "[[[1. 0. 0. 0. 0. 0. 0. 0.]\n",
      "  [0. 1. 0. 0. 0. 0. 0. 0.]]\n",
      "\n",
      " [[1. 0. 0. 0. 0. 0. 0. 0.]\n",
      "  [0. 0. 1. 0. 0. 0. 0. 0.]]\n",
      "\n",
      " [[0. 1. 0. 0. 0. 0. 0. 0.]\n",
      "  [0. 0. 0. 1. 0. 0. 0. 0.]]\n",
      "\n",
      " [[0. 0. 1. 0. 0. 0. 0. 0.]\n",
      "  [0. 0. 0. 0. 1. 0. 0. 0.]]\n",
      "\n",
      " [[1. 0. 0. 0. 0. 0. 0. 0.]\n",
      "  [0. 0. 0. 0. 0. 0. 0. 1.]]\n",
      "\n",
      " [[0. 0. 0. 0. 1. 0. 0. 0.]\n",
      "  [0. 0. 0. 0. 0. 0. 1. 0.]]\n",
      "\n",
      " [[0. 0. 0. 0. 0. 1. 0. 0.]\n",
      "  [0. 0. 0. 0. 0. 0. 0. 1.]]\n",
      "\n",
      " [[0. 0. 0. 0. 0. 0. 1. 0.]\n",
      "  [0. 0. 0. 0. 0. 0. 0. 1.]]]\n"
     ]
    }
   ],
   "source": [
    "# State Transition Probabilities: 1D Grid\n",
    "# P[s,a,t] is the probability of action a taking you from state s to state t\n",
    "# P[s,a,t] = p(t|a,s)\n",
    "P = np.zeros((gs,n_actions,gs))\n",
    "P[0,0,0] = 1.  # Given: action 'decrease' and state 0, prob of ending in state 0\n",
    "P[0,1,1] = 1.\n",
    "for l in range(1,gs-1):\n",
    "    if l==golden_square_idx:\n",
    "        # 'decrease' takes you to 0, 'increase' takes you to last\n",
    "        P[l,0,0] = 1.\n",
    "        P[l,1,-1] = 1.\n",
    "    else:\n",
    "        P[l,0,l-1] = 1.\n",
    "        P[l,1,l+1] = 1.\n",
    "P[-1,1,-1] = 1.\n",
    "P[-1,0,-2] = 1.\n",
    "\n",
    "print(P)"
   ]
  },
  {
   "cell_type": "code",
   "execution_count": 11,
   "metadata": {
    "Collapsed": "false"
   },
   "outputs": [
    {
     "name": "stdout",
     "output_type": "stream",
     "text": [
      "[[-2.  -0.5]\n",
      " [-0.5 -0.5]\n",
      " [-0.5 -0.5]\n",
      " [-0.5  4. ]\n",
      " [ 0.   0. ]\n",
      " [ 4.  -0.5]\n",
      " [-0.5 -0.5]\n",
      " [-0.5 -2. ]]\n"
     ]
    }
   ],
   "source": [
    "# Reward Function: 1D Grid\n",
    "# R[s,a] is the reward of taking action a from state s to state t\n",
    "# R[s,a] = r(s,a)\n",
    "R = np.zeros((gs,n_actions))\n",
    "R[0,0] = -2.   # Penalty for trying to go off the grid\n",
    "R[0,1] = movement_cost\n",
    "R[-1,1] = -2.  # Penalty for trying to go off the grid\n",
    "R[-1,0] = movement_cost\n",
    "for l in range(1,gs-1):\n",
    "    # Reward (cost) of a normal movement\n",
    "    R[l,0] = movement_cost\n",
    "    R[l,1] = movement_cost\n",
    "R[golden_square_idx-1,1] = golden_square_reward\n",
    "R[golden_square_idx+1,0] = golden_square_reward\n",
    "R[golden_square_idx,:] = 0.\n",
    "\n",
    "print(R)"
   ]
  },
  {
   "cell_type": "markdown",
   "metadata": {
    "Collapsed": "false"
   },
   "source": [
    "### Create Markov Decision Process object"
   ]
  },
  {
   "cell_type": "code",
   "execution_count": 12,
   "metadata": {
    "Collapsed": "false"
   },
   "outputs": [],
   "source": [
    "gw = MDP(P, R, terminal=terminal)"
   ]
  },
  {
   "cell_type": "markdown",
   "metadata": {
    "Collapsed": "true"
   },
   "source": [
    "### Find optimal policy"
   ]
  },
  {
   "cell_type": "code",
   "execution_count": 13,
   "metadata": {
    "Collapsed": "false"
   },
   "outputs": [
    {
     "name": "stdout",
     "output_type": "stream",
     "text": [
      "old state: 0\n",
      "   action: 0\n",
      "   reward: -2.0\n",
      "new state: 0\n",
      "     done: 0\n"
     ]
    }
   ],
   "source": [
    "oldstate, action, reward, newstate, done = gw.Step()\n",
    "print('old state: '+str(oldstate))\n",
    "print('   action: '+str(action))\n",
    "print('   reward: '+str(reward))\n",
    "print('new state: '+str(newstate))\n",
    "print('     done: '+str(done))\n",
    "gw.state = newstate"
   ]
  },
  {
   "cell_type": "code",
   "execution_count": 14,
   "metadata": {
    "Collapsed": "false"
   },
   "outputs": [
    {
     "data": {
      "text/plain": [
       "array([[0., 1.],\n",
       "       [0., 1.],\n",
       "       [0., 1.],\n",
       "       [0., 1.],\n",
       "       [0., 1.],\n",
       "       [1., 0.],\n",
       "       [1., 0.],\n",
       "       [1., 0.]])"
      ]
     },
     "execution_count": 14,
     "metadata": {},
     "output_type": "execute_result"
    }
   ],
   "source": [
    "gw.ValueIteration()"
   ]
  },
  {
   "cell_type": "code",
   "execution_count": 15,
   "metadata": {
    "Collapsed": "false"
   },
   "outputs": [
    {
     "data": {
      "text/plain": [
       "array([-6.60280705, -5.29231973, -4.04679234, -2.58944104, -5.59640996,\n",
       "       -2.72689723, -4.35225054, -5.83365954])"
      ]
     },
     "execution_count": 15,
     "metadata": {},
     "output_type": "execute_result"
    }
   ],
   "source": [
    "gw.EvaluatePolicy()"
   ]
  },
  {
   "cell_type": "code",
   "execution_count": 16,
   "metadata": {
    "Collapsed": "false"
   },
   "outputs": [],
   "source": [
    "gw.Pi = gw.PolicyIteration()"
   ]
  },
  {
   "cell_type": "code",
   "execution_count": 17,
   "metadata": {
    "Collapsed": "false"
   },
   "outputs": [
    {
     "data": {
      "text/plain": [
       "array([5.49302123, 6.65891247, 7.95434719, 9.3937191 , 5.99302123,\n",
       "       9.3937191 , 7.95434719, 6.65891247])"
      ]
     },
     "execution_count": 17,
     "metadata": {},
     "output_type": "execute_result"
    }
   ],
   "source": [
    "gw.EvaluatePolicy()"
   ]
  },
  {
   "cell_type": "markdown",
   "metadata": {
    "Collapsed": "true"
   },
   "source": [
    "### SARSA"
   ]
  },
  {
   "cell_type": "code",
   "execution_count": 18,
   "metadata": {
    "Collapsed": "false"
   },
   "outputs": [],
   "source": [
    "for n_episodes in range(500):\n",
    "    gw.state = np.random.randint(0,gw.n_states)\n",
    "    #gw.state = np.random.choice([0,gw.n_states-1])\n",
    "    gw.SARSA(alpha=0.1, eps=0.25)"
   ]
  },
  {
   "cell_type": "code",
   "execution_count": 19,
   "metadata": {
    "Collapsed": "false"
   },
   "outputs": [
    {
     "name": "stdout",
     "output_type": "stream",
     "text": [
      "[[-1.37361181  1.26902046]\n",
      " [-0.01096624  2.81836005]\n",
      " [ 1.26559583  3.50690555]\n",
      " [ 2.2033877   5.01520762]\n",
      " [ 0.23777703  1.52556548]\n",
      " [ 5.09877781  2.027761  ]\n",
      " [ 3.61268523  1.30850712]\n",
      " [ 2.65205939 -0.51865569]]\n"
     ]
    }
   ],
   "source": [
    "print(gw.Q)"
   ]
  },
  {
   "cell_type": "code",
   "execution_count": 20,
   "metadata": {
    "Collapsed": "false"
   },
   "outputs": [
    {
     "name": "stdout",
     "output_type": "stream",
     "text": [
      "[[0. 1.]\n",
      " [0. 1.]\n",
      " [0. 1.]\n",
      " [0. 1.]\n",
      " [0. 1.]\n",
      " [1. 0.]\n",
      " [1. 0.]\n",
      " [1. 0.]]\n"
     ]
    }
   ],
   "source": [
    "gw.Pi = gw.OptimalPolicyFromQ()\n",
    "print(gw.Pi)"
   ]
  },
  {
   "cell_type": "markdown",
   "metadata": {
    "Collapsed": "true"
   },
   "source": [
    "### Q-Learning"
   ]
  },
  {
   "cell_type": "code",
   "execution_count": 21,
   "metadata": {
    "Collapsed": "false"
   },
   "outputs": [],
   "source": [
    "for n_episodes in range(50):\n",
    "    gw.state = np.random.randint(0,gw.n_states)\n",
    "    #gw.state = np.random.choice([0,gw.n_states-1])\n",
    "    gw.QLearning(alpha=0.1, eps=0.25)"
   ]
  },
  {
   "cell_type": "code",
   "execution_count": 22,
   "metadata": {
    "Collapsed": "false"
   },
   "outputs": [
    {
     "name": "stdout",
     "output_type": "stream",
     "text": [
      "[[0. 1.]\n",
      " [0. 1.]\n",
      " [0. 1.]\n",
      " [0. 1.]\n",
      " [0. 1.]\n",
      " [1. 0.]\n",
      " [1. 0.]\n",
      " [1. 0.]]\n"
     ]
    }
   ],
   "source": [
    "gw.Pi = gw.OptimalPolicyFromQ()\n",
    "print(gw.Pi)"
   ]
  },
  {
   "cell_type": "markdown",
   "metadata": {
    "Collapsed": "false"
   },
   "source": [
    "## 2D Gridworld"
   ]
  },
  {
   "cell_type": "markdown",
   "metadata": {
    "Collapsed": "false"
   },
   "source": [
    "### Define the 2D MDP class"
   ]
  },
  {
   "cell_type": "code",
   "execution_count": 513,
   "metadata": {
    "Collapsed": "false"
   },
   "outputs": [],
   "source": [
    "class MDP_2d(MDP):\n",
    "    def __init__(self, P, R, side=5, terminal=[], Pi=None, gamma=0.9):\n",
    "        '''\n",
    "         MDP(P, R, terminal=[], Pi=None, gamma=0.9)\n",
    "         \n",
    "         P  is an n_states x n_actions x n_states array\n",
    "         R  is an n_states x n_actions array\n",
    "         side is the length of the side of the arena\n",
    "         terminal is a list of coords for terminal states\n",
    "         Pi is an n_states x n_actions array\n",
    "        '''\n",
    "        terminal_idx = []\n",
    "        for t in terminal:\n",
    "            terminal_idx.append(coord2idx(t, side))\n",
    "        MDP.__init__(self, P,R,terminal=terminal_idx,Pi=Pi,gamma=gamma)\n",
    "        self.side = side\n",
    "        \n",
    "    def ShowValue(self):\n",
    "        print( np.round( np.reshape(self.v, (self.side,self.side)), 1) )\n",
    "    \n",
    "    def ShowPolicy(self):\n",
    "        for a in range(self.n_actions):\n",
    "            print('Action '+str(a))\n",
    "            print(np.reshape(self.Pi[:,a], (self.side,self.side)))\n",
    "\n",
    "    def ShowFunction(self, M):\n",
    "        '''\n",
    "         mdp2.ShowFunction(M)\n",
    "         \n",
    "         Displays the (state,action) function M, showing the spatial 2D M for\n",
    "         for one action at a time.\n",
    "        '''\n",
    "        for a in range(self.n_actions):\n",
    "            print('Action '+str(a))\n",
    "            print(np.round(np.reshape(M[:,a], (self.side,self.side)), 3))\n",
    "        \n",
    "    def ShowQ(self):\n",
    "        for a in range(self.n_actions):\n",
    "            print('Action '+str(a))\n",
    "            print(np.round(np.reshape(self.Q[:,a], (self.side,self.side)), 3))\n",
    "            \n",
    "    def ShowR(self):\n",
    "        for a in range(self.n_actions):\n",
    "            print('Action '+str(a))\n",
    "            print(np.round(np.reshape(self.R[:,a], (self.side,self.side)), 3))\n",
    "        \n",
    "    def PlotTrajectory(self, traj, fig=None):\n",
    "        tcoords = []\n",
    "        for t in traj:\n",
    "            tcoords.append(idx2coord(t, self.side))\n",
    "        tcoords = np.array(tcoords)\n",
    "        if fig is None:\n",
    "            fig = plt.figure(figsize=(8,8))\n",
    "        plt.axis([-1,self.side,-1,self.side])\n",
    "        plt.plot(tcoords[:,1], tcoords[:,0], 'o--')\n",
    "        plt.grid(True)\n",
    "        return fig"
   ]
  },
  {
   "cell_type": "markdown",
   "metadata": {
    "Collapsed": "true"
   },
   "source": [
    "### Set up the matrices"
   ]
  },
  {
   "cell_type": "code",
   "execution_count": 99,
   "metadata": {
    "Collapsed": "false"
   },
   "outputs": [],
   "source": [
    "gl = 5  # grid length\n",
    "gs = gl*gl\n",
    "n_actions = 4  # number of actions\n",
    "A_coords = (0,1)\n",
    "A_reward = 10.\n",
    "Ap_coords = (4,1)\n",
    "B_coords = (0,3)\n",
    "B_reward = 5\n",
    "Bp_coords = (2,3)\n",
    "C_coords = (2,2)\n",
    "C_reward = 2\n",
    "terminal = [A_coords, B_coords]\n",
    "movement_cost = 0."
   ]
  },
  {
   "cell_type": "code",
   "execution_count": 100,
   "metadata": {
    "Collapsed": "false"
   },
   "outputs": [],
   "source": [
    "def coord2idx(coords, row_length):\n",
    "    return coords[0]*row_length + coords[1]\n",
    "def idx2coord(idx, row_length):\n",
    "    row = idx//row_length\n",
    "    col = idx%row_length\n",
    "    return (row,col)"
   ]
  },
  {
   "cell_type": "code",
   "execution_count": 101,
   "metadata": {
    "Collapsed": "false"
   },
   "outputs": [],
   "source": [
    "# State Transition Probabilities: 2D Grid\n",
    "# P[s,a,t] is the probability of action a taking you from state s to state t\n",
    "# P[s,a,t] = p(t|a,s)\n",
    "# 0==up, 1==right, 2==down, 3==left\n",
    "P = np.zeros((gs,n_actions,gs))\n",
    "for sr in range(gl):\n",
    "    sr_offset = sr*gl\n",
    "    for sc in range(gl):\n",
    "        #idx = sr_offset + sc\n",
    "        idx = coord2idx([sr,sc], gl)\n",
    "        for a in range(4):\n",
    "            img = np.zeros((gl,gl))\n",
    "            if sr==A_coords[0] and sc==A_coords[1]:   # A, any action\n",
    "                img[Ap_coords[0],Ap_coords[1]] = 1.\n",
    "            elif sr==B_coords[0] and sc==B_coords[1]: # B, any action\n",
    "                img[Bp_coords[0],Bp_coords[1]] = 1.\n",
    "            elif sr==0 and a==0:    # top row, up\n",
    "                img[sr,sc] = 1.\n",
    "            elif sr==gl-1 and a==2: # bottom row, down\n",
    "                img[sr,sc] = 1.\n",
    "            elif sc==0 and a==3:    # left col, left\n",
    "                img[sr,sc] = 1.\n",
    "            elif sc==gl-1 and a==1: # right col, right\n",
    "                img[sr,sc] = 1.\n",
    "            elif a==0:              # up\n",
    "                img[sr-1,sc] = 1.\n",
    "            elif a==1:              # right\n",
    "                img[sr,sc+1] = 1.\n",
    "            elif a==2:              # down\n",
    "                img[sr+1,sc] = 1.\n",
    "            elif a==3:              # left\n",
    "                img[sr,sc-1] = 1.\n",
    "            P[idx,a,:] = img.flatten()"
   ]
  },
  {
   "cell_type": "code",
   "execution_count": 102,
   "metadata": {
    "Collapsed": "false"
   },
   "outputs": [],
   "source": [
    "# Reward Function: 2D Grid\n",
    "# R[s,a] is the reward of taking action a from state s to state t\n",
    "# R[s,a] = r(s,a)\n",
    "R = np.zeros((gs,n_actions))\n",
    "for sr in range(gl):\n",
    "    sr_offset = sr*gl\n",
    "    for sc in range(gl):\n",
    "        #idx = sr_offset + sc\n",
    "        idx = coord2idx([sr,sc], gl)\n",
    "        #svec = np.zeros(gs)\n",
    "        #svec[idx] = 1.\n",
    "        for a in range(4):\n",
    "            reward = 0.\n",
    "            tvec = P[idx,a,:]\n",
    "            tidx = np.argmax(tvec)\n",
    "            tcoords = idx2coord(tidx, gl)\n",
    "            if tcoords==A_coords:\n",
    "                reward += A_reward\n",
    "            elif tcoords==B_coords:\n",
    "                reward += B_reward\n",
    "            elif tcoords==C_coords:\n",
    "                reward += C_reward\n",
    "            elif sr==0 and a==0:    # top row, up\n",
    "                reward += -1.\n",
    "            elif sr==gl-1 and a==2: # bottom row, down\n",
    "                reward += -1.\n",
    "            elif sc==0 and a==3:    # left col, left\n",
    "                reward += -1.\n",
    "            elif sc==gl-1 and a==1: # right col, right\n",
    "                reward += -1.\n",
    "            R[idx,a] = reward"
   ]
  },
  {
   "cell_type": "markdown",
   "metadata": {
    "Collapsed": "true"
   },
   "source": [
    "### Create MDP"
   ]
  },
  {
   "cell_type": "code",
   "execution_count": 122,
   "metadata": {
    "Collapsed": "false"
   },
   "outputs": [],
   "source": [
    "grid2d = MDP_2d(P, R, side=5, terminal=terminal)"
   ]
  },
  {
   "cell_type": "code",
   "execution_count": 111,
   "metadata": {
    "Collapsed": "false"
   },
   "outputs": [
    {
     "name": "stdout",
     "output_type": "stream",
     "text": [
      "Action 0\n",
      "[[-1. -1. -1. -1. -1.]\n",
      " [ 0. 10.  0.  5.  0.]\n",
      " [ 0.  0.  0.  0.  0.]\n",
      " [ 0.  0.  2.  0.  0.]\n",
      " [ 0.  0.  0.  0.  0.]]\n",
      "Action 1\n",
      "[[10.  0.  5.  0. -1.]\n",
      " [ 0.  0.  0.  0. -1.]\n",
      " [ 0.  2.  0.  0. -1.]\n",
      " [ 0.  0.  0.  0. -1.]\n",
      " [ 0.  0.  0.  0. -1.]]\n",
      "Action 2\n",
      "[[ 0.  0.  0.  0.  0.]\n",
      " [ 0.  0.  2.  0.  0.]\n",
      " [ 0.  0.  0.  0.  0.]\n",
      " [ 0.  0.  0.  0.  0.]\n",
      " [-1. -1. -1. -1. -1.]]\n",
      "Action 3\n",
      "[[-1.  0. 10.  0.  5.]\n",
      " [-1.  0.  0.  0.  0.]\n",
      " [-1.  0.  0.  2.  0.]\n",
      " [-1.  0.  0.  0.  0.]\n",
      " [-1.  0.  0.  0.  0.]]\n"
     ]
    }
   ],
   "source": [
    "grid2d.ShowR()"
   ]
  },
  {
   "cell_type": "markdown",
   "metadata": {
    "Collapsed": "true"
   },
   "source": [
    "### Find optimal policy"
   ]
  },
  {
   "cell_type": "code",
   "execution_count": 24,
   "metadata": {
    "Collapsed": "false"
   },
   "outputs": [
    {
     "name": "stdout",
     "output_type": "stream",
     "text": [
      "[[0. 0. 0. 0. 0.]\n",
      " [0. 0. 0. 0. 0.]\n",
      " [0. 0. 0. 0. 0.]\n",
      " [0. 0. 0. 0. 0.]\n",
      " [0. 0. 0. 0. 0.]]\n"
     ]
    }
   ],
   "source": [
    "grid2d.ShowValue()"
   ]
  },
  {
   "cell_type": "code",
   "execution_count": 25,
   "metadata": {
    "Collapsed": "false"
   },
   "outputs": [
    {
     "data": {
      "text/plain": [
       "array([ 3.80734393, -1.40504816,  4.89235522,  0.18039256,  1.72683283,\n",
       "        1.82299998,  3.36666558,  2.52054581,  2.124479  ,  0.70742102,\n",
       "        0.21632375,  0.9133494 ,  0.818926  ,  0.47821396, -0.30352832,\n",
       "       -0.88012313, -0.34258469, -0.27243803, -0.51448131, -1.12001031,\n",
       "       -1.79416317, -1.28338684, -1.17269571, -1.37234922, -1.92869254])"
      ]
     },
     "execution_count": 25,
     "metadata": {},
     "output_type": "execute_result"
    }
   ],
   "source": [
    "grid2d.EvaluatePolicy()"
   ]
  },
  {
   "cell_type": "code",
   "execution_count": 26,
   "metadata": {
    "Collapsed": "false"
   },
   "outputs": [
    {
     "name": "stdout",
     "output_type": "stream",
     "text": [
      "[[ 3.8 -1.4  4.9  0.2  1.7]\n",
      " [ 1.8  3.4  2.5  2.1  0.7]\n",
      " [ 0.2  0.9  0.8  0.5 -0.3]\n",
      " [-0.9 -0.3 -0.3 -0.5 -1.1]\n",
      " [-1.8 -1.3 -1.2 -1.4 -1.9]]\n"
     ]
    }
   ],
   "source": [
    "grid2d.ShowValue()"
   ]
  },
  {
   "cell_type": "code",
   "execution_count": 27,
   "metadata": {
    "Collapsed": "false"
   },
   "outputs": [
    {
     "name": "stdout",
     "output_type": "stream",
     "text": [
      "Action 0\n",
      "[[0. 0. 0. 0. 0.]\n",
      " [1. 1. 1. 1. 0.]\n",
      " [1. 1. 1. 1. 1.]\n",
      " [1. 1. 1. 1. 1.]\n",
      " [1. 1. 1. 1. 1.]]\n",
      "Action 1\n",
      "[[1.         0.33333333 0.         0.33333333 0.        ]\n",
      " [0.         0.         0.         0.         0.        ]\n",
      " [0.         0.         0.         0.         0.        ]\n",
      " [0.         0.         0.         0.         0.        ]\n",
      " [0.         0.         0.         0.         0.        ]]\n",
      "Action 2\n",
      "[[0.         0.33333333 0.         0.33333333 0.        ]\n",
      " [0.         0.         0.         0.         0.        ]\n",
      " [0.         0.         0.         0.         0.        ]\n",
      " [0.         0.         0.         0.         0.        ]\n",
      " [0.         0.         0.         0.         0.        ]]\n",
      "Action 3\n",
      "[[0.         0.33333333 1.         0.33333333 1.        ]\n",
      " [0.         0.         0.         0.         1.        ]\n",
      " [0.         0.         0.         0.         0.        ]\n",
      " [0.         0.         0.         0.         0.        ]\n",
      " [0.         0.         0.         0.         0.        ]]\n"
     ]
    }
   ],
   "source": [
    "Pi_opt = grid2d.OptimalPolicy()\n",
    "grid2d.Pi = Pi_opt\n",
    "grid2d.ShowPolicy()"
   ]
  },
  {
   "cell_type": "code",
   "execution_count": 28,
   "metadata": {
    "Collapsed": "false"
   },
   "outputs": [
    {
     "name": "stdout",
     "output_type": "stream",
     "text": [
      "Action 0\n",
      "[[0.  0.  0.  0.  0. ]\n",
      " [0.5 1.  0.5 0.  0.5]\n",
      " [0.5 1.  0.5 0.  0.5]\n",
      " [0.5 1.  0.5 0.  0.5]\n",
      " [0.5 1.  0.5 0.  0.5]]\n",
      "Action 1\n",
      "[[1.         0.33333333 0.         0.33333333 0.        ]\n",
      " [0.5        0.         0.         0.         0.        ]\n",
      " [0.5        0.         0.         0.         0.        ]\n",
      " [0.5        0.         0.         0.         0.        ]\n",
      " [0.5        0.         0.         0.         0.        ]]\n",
      "Action 2\n",
      "[[0.         0.33333333 0.         0.33333333 0.        ]\n",
      " [0.         0.         0.         0.         0.        ]\n",
      " [0.         0.         0.         0.         0.        ]\n",
      " [0.         0.         0.         0.         0.        ]\n",
      " [0.         0.         0.         0.         0.        ]]\n",
      "Action 3\n",
      "[[0.         0.33333333 1.         0.33333333 1.        ]\n",
      " [0.         0.         0.5        1.         0.5       ]\n",
      " [0.         0.         0.5        1.         0.5       ]\n",
      " [0.         0.         0.5        1.         0.5       ]\n",
      " [0.         0.         0.5        1.         0.5       ]]\n"
     ]
    }
   ],
   "source": [
    "Pi_opt = grid2d.PolicyIteration()\n",
    "grid2d.Pi = Pi_opt\n",
    "grid2d.ShowPolicy()"
   ]
  },
  {
   "cell_type": "markdown",
   "metadata": {
    "Collapsed": "false"
   },
   "source": [
    "### SARSA"
   ]
  },
  {
   "cell_type": "code",
   "execution_count": 105,
   "metadata": {
    "Collapsed": "false"
   },
   "outputs": [],
   "source": [
    "for n_episodes in range(500):\n",
    "    grid2d.state = np.random.randint(0,grid2d.n_states)\n",
    "    grid2d.SARSA(alpha=0.1, eps=0.1)"
   ]
  },
  {
   "cell_type": "code",
   "execution_count": 133,
   "metadata": {
    "Collapsed": "false"
   },
   "outputs": [],
   "source": [
    "for n_episodes in range(500):\n",
    "    grid2d.state = np.random.randint(0,grid2d.n_states)\n",
    "    grid2d.QLearning(alpha=0.1, eps=0.1)"
   ]
  },
  {
   "cell_type": "code",
   "execution_count": 134,
   "metadata": {
    "Collapsed": "false"
   },
   "outputs": [
    {
     "name": "stdout",
     "output_type": "stream",
     "text": [
      "Action 0\n",
      "[[ 9.795  8.923 11.019  4.535  5.327]\n",
      " [15.634 17.99  14.116 16.118  4.552]\n",
      " [ 5.831 11.303 14.497 12.951  4.44 ]\n",
      " [ 7.223 10.887 15.009 11.889  6.125]\n",
      " [10.582  9.017 13.44  11.8    6.132]]\n",
      "Action 1\n",
      "[[17.796  4.269 16.023  4.506  4.294]\n",
      " [ 7.675 14.074 14.005  9.946  5.052]\n",
      " [ 6.544 14.924 13.116  7.179  2.918]\n",
      " [12.042 13.457 11.667  9.602  6.502]\n",
      " [ 5.98  11.941  8.227  5.286  4.557]]\n",
      "Action 2\n",
      "[[ 8.155  3.371  9.988  3.67   1.577]\n",
      " [ 8.001 13.163 14.788  8.955  3.894]\n",
      " [10.677 10.29  13.27  10.474 10.438]\n",
      " [ 6.961  9.309 11.77   9.275  6.472]\n",
      " [ 4.152  5.18   9.314  4.328  2.487]]\n",
      "Action 3\n",
      "[[ 9.133  4.894 13.873 12.448 15.373]\n",
      " [ 9.555 13.635 16.145 11.835 14.1  ]\n",
      " [ 4.068  8.024 13.162 14.863  3.984]\n",
      " [ 7.768  9.699 11.665 13.431 11.927]\n",
      " [ 3.464  5.494  8.468  9.758 10.106]]\n"
     ]
    }
   ],
   "source": [
    "grid2d.ShowQ()"
   ]
  },
  {
   "cell_type": "code",
   "execution_count": 135,
   "metadata": {
    "Collapsed": "false"
   },
   "outputs": [
    {
     "name": "stdout",
     "output_type": "stream",
     "text": [
      "Action 0\n",
      "[[0. 1. 0. 0. 0.]\n",
      " [1. 1. 0. 1. 0.]\n",
      " [0. 0. 1. 0. 0.]\n",
      " [0. 0. 1. 0. 0.]\n",
      " [1. 0. 1. 1. 0.]]\n",
      "Action 1\n",
      "[[1. 0. 1. 0. 0.]\n",
      " [0. 0. 0. 0. 0.]\n",
      " [0. 1. 0. 0. 0.]\n",
      " [1. 1. 0. 0. 0.]\n",
      " [0. 1. 0. 0. 0.]]\n",
      "Action 2\n",
      "[[0. 0. 0. 0. 0.]\n",
      " [0. 0. 0. 0. 0.]\n",
      " [1. 0. 0. 0. 1.]\n",
      " [0. 0. 0. 0. 0.]\n",
      " [0. 0. 0. 0. 0.]]\n",
      "Action 3\n",
      "[[0. 0. 0. 1. 1.]\n",
      " [0. 0. 1. 0. 1.]\n",
      " [0. 0. 0. 1. 0.]\n",
      " [0. 0. 0. 1. 1.]\n",
      " [0. 0. 0. 0. 1.]]\n"
     ]
    }
   ],
   "source": [
    "grid2d.Pi = grid2d.OptimalPolicyFromQ()\n",
    "grid2d.ShowPolicy()"
   ]
  },
  {
   "cell_type": "code",
   "execution_count": 140,
   "metadata": {
    "Collapsed": "false"
   },
   "outputs": [
    {
     "name": "stdout",
     "output_type": "stream",
     "text": [
      "[10, 15, 16, 17, 12, 7, 6, 1]\n"
     ]
    },
    {
     "data": {
      "image/png": "[encoded data removed]",
      "text/plain": [
       "<Figure size 576x576 with 1 Axes>"
      ]
     },
     "metadata": {
      "needs_background": "light"
     },
     "output_type": "display_data"
    }
   ],
   "source": [
    "grid2d.state = coord2idx([2,0], 5)\n",
    "traj = grid2d.Episode()\n",
    "print(traj)\n",
    "\n",
    "grid2d.PlotTrajectory(traj)\n",
    "plt.gca().invert_yaxis()"
   ]
  },
  {
   "cell_type": "code",
   "execution_count": 142,
   "metadata": {
    "Collapsed": "false"
   },
   "outputs": [
    {
     "data": {
      "text/plain": [
       "True"
      ]
     },
     "execution_count": 142,
     "metadata": {},
     "output_type": "execute_result"
    }
   ],
   "source": [
    "A_coords in [(1,1), (2,3), (0,1)]"
   ]
  },
  {
   "cell_type": "markdown",
   "metadata": {
    "Collapsed": "false"
   },
   "source": [
    "## 2D GridWorld with Holes"
   ]
  },
  {
   "cell_type": "markdown",
   "metadata": {
    "Collapsed": "true"
   },
   "source": [
    "### Set up the matrices"
   ]
  },
  {
   "cell_type": "code",
   "execution_count": 348,
   "metadata": {
    "Collapsed": "false"
   },
   "outputs": [],
   "source": [
    "gl = 5  # grid length\n",
    "gs = gl*gl\n",
    "n_actions = 4  # number of actions\n",
    "A_coords = (0,1)\n",
    "A_reward = 10.\n",
    "Ap_coords = (4,1)\n",
    "B_coords = (0,3)\n",
    "B_reward = 5\n",
    "Bp_coords = (3,3)\n",
    "#C_coords = (2,2)\n",
    "#C_reward = 2\n",
    "holes = [(2,2),(2,3),(1,2)]\n",
    "hole_reward = -7.\n",
    "terminal = copy.deepcopy(holes)\n",
    "terminal.append(A_coords)\n",
    "terminal.append(B_coords)\n",
    "movement_cost = 0."
   ]
  },
  {
   "cell_type": "code",
   "execution_count": 349,
   "metadata": {
    "Collapsed": "false"
   },
   "outputs": [],
   "source": [
    "def coord2idx(coords, row_length):\n",
    "    return coords[0]*row_length + coords[1]\n",
    "def idx2coord(idx, row_length):\n",
    "    row = idx//row_length\n",
    "    col = idx%row_length\n",
    "    return (row,col)"
   ]
  },
  {
   "cell_type": "code",
   "execution_count": 350,
   "metadata": {
    "Collapsed": "false"
   },
   "outputs": [],
   "source": [
    "# State Transition Probabilities: 2D Grid\n",
    "# P[s,a,t] is the probability of action a taking you from state s to state t\n",
    "# P[s,a,t] = p(t|a,s)\n",
    "# 0==up, 1==right, 2==down, 3==left\n",
    "P = np.zeros((gs,n_actions,gs))\n",
    "for sr in range(gl):\n",
    "    sr_offset = sr*gl\n",
    "    for sc in range(gl):\n",
    "        #idx = sr_offset + sc\n",
    "        idx = coord2idx([sr,sc], gl)\n",
    "        for a in range(4):\n",
    "            img = np.zeros((gl,gl))\n",
    "            if (sr,sc)==A_coords:   # A, any action\n",
    "                img[Ap_coords[0],Ap_coords[1]] = 1.\n",
    "            elif (sr,sc)==B_coords: # B, any action\n",
    "                img[Bp_coords[0],Bp_coords[1]] = 1.\n",
    "            elif (sr,sc) in holes:\n",
    "                img[sr,sc] = 1.\n",
    "            elif sr==0 and a==0:    # top row, up\n",
    "                img[sr,sc] = 1.\n",
    "            elif sr==gl-1 and a==2: # bottom row, down\n",
    "                img[sr,sc] = 1.\n",
    "            elif sc==0 and a==3:    # left col, left\n",
    "                img[sr,sc] = 1.\n",
    "            elif sc==gl-1 and a==1: # right col, right\n",
    "                img[sr,sc] = 1.\n",
    "            elif a==0:              # up\n",
    "                img[sr-1,sc] = 1.\n",
    "            elif a==1:              # right\n",
    "                img[sr,sc+1] = 1.\n",
    "            elif a==2:              # down\n",
    "                img[sr+1,sc] = 1.\n",
    "            elif a==3:              # left\n",
    "                img[sr,sc-1] = 1.\n",
    "            P[idx,a,:] = img.flatten()"
   ]
  },
  {
   "cell_type": "code",
   "execution_count": 351,
   "metadata": {
    "Collapsed": "false"
   },
   "outputs": [],
   "source": [
    "# Reward Function: 2D Grid\n",
    "# R[s,a] is the reward of taking action a from state s to state t\n",
    "# R[s,a] = r(s,a)\n",
    "R = np.zeros((gs,n_actions))\n",
    "for sr in range(gl):\n",
    "    sr_offset = sr*gl\n",
    "    for sc in range(gl):\n",
    "        #idx = sr_offset + sc\n",
    "        idx = coord2idx([sr,sc], gl)\n",
    "        #svec = np.zeros(gs)\n",
    "        #svec[idx] = 1.\n",
    "        for a in range(4):\n",
    "            reward = 0.\n",
    "            tvec = P[idx,a,:]\n",
    "            tidx = np.argmax(tvec)\n",
    "            tcoords = idx2coord(tidx, gl)\n",
    "            if tcoords==A_coords:\n",
    "                reward += A_reward\n",
    "            elif tcoords==B_coords:\n",
    "                reward += B_reward\n",
    "            #elif tcoords==C_coords:\n",
    "            #    reward += C_reward\n",
    "            elif tcoords in holes:\n",
    "                reward += hole_reward\n",
    "            elif sr==0 and a==0:    # top row, up\n",
    "                reward += -1.\n",
    "            elif sr==gl-1 and a==2: # bottom row, down\n",
    "                reward += -1.\n",
    "            elif sc==0 and a==3:    # left col, left\n",
    "                reward += -1.\n",
    "            elif sc==gl-1 and a==1: # right col, right\n",
    "                reward += -1.\n",
    "            R[idx,a] = reward"
   ]
  },
  {
   "cell_type": "markdown",
   "metadata": {
    "Collapsed": "false"
   },
   "source": [
    "### Create the MDP object"
   ]
  },
  {
   "cell_type": "code",
   "execution_count": 527,
   "metadata": {
    "Collapsed": "false"
   },
   "outputs": [],
   "source": [
    "grid2d = MDP_2d(P, R, terminal=terminal)"
   ]
  },
  {
   "cell_type": "code",
   "execution_count": 369,
   "metadata": {
    "Collapsed": "false"
   },
   "outputs": [],
   "source": [
    "# SARSA\n",
    "for n_episodes in range(50):\n",
    "    grid2d.state = np.random.randint(0,grid2d.n_states)\n",
    "    grid2d.SARSA(alpha=0.1, eps=0.25)"
   ]
  },
  {
   "cell_type": "code",
   "execution_count": 457,
   "metadata": {
    "Collapsed": "false"
   },
   "outputs": [],
   "source": [
    "# SARSA(lambda)\n",
    "for n_episodes in range(50):\n",
    "    grid2d.state = np.random.randint(0,grid2d.n_states)\n",
    "    grid2d.SARSA_lambda(alpha=0.1, eps=0.2)"
   ]
  },
  {
   "cell_type": "code",
   "execution_count": 540,
   "metadata": {
    "Collapsed": "false"
   },
   "outputs": [],
   "source": [
    "# Dyna-Q\n",
    "for n_episodes in range(50):\n",
    "    grid2d.state = np.random.randint(0,grid2d.n_states)\n",
    "    grid2d.DynaQ(alpha=0.1, eps=0.2)"
   ]
  },
  {
   "cell_type": "code",
   "execution_count": 313,
   "metadata": {
    "Collapsed": "false"
   },
   "outputs": [],
   "source": [
    "# Q-Learning\n",
    "for n_episodes in range(500):\n",
    "    grid2d.state = np.random.randint(0,grid2d.n_states)\n",
    "    grid2d.QLearning(alpha=0.1, eps=0.1)"
   ]
  },
  {
   "cell_type": "code",
   "execution_count": 541,
   "metadata": {
    "Collapsed": "false"
   },
   "outputs": [
    {
     "name": "stdout",
     "output_type": "stream",
     "text": [
      "Action 0\n",
      "[[-1.000e-01  0.000e+00 -1.000e-01 -9.000e-02  4.100e-02]\n",
      " [ 1.400e-02  9.657e+00 -7.000e-01  0.000e+00  7.680e-01]\n",
      " [ 0.000e+00  7.682e+00 -1.330e+00  0.000e+00  8.800e-02]\n",
      " [ 0.000e+00  4.558e+00 -3.652e+00 -2.407e+00  3.000e-03]\n",
      " [ 3.000e-03  2.092e+00  1.470e-01  3.000e-02  0.000e+00]]\n",
      "Action 1\n",
      "[[ 0.     0.     0.     0.     0.   ]\n",
      " [ 2.946 -1.897 -1.33   0.034 -0.26 ]\n",
      " [ 2.821 -3.987  0.    -0.7   -0.19 ]\n",
      " [ 0.     0.324  0.029  0.    -0.1  ]\n",
      " [ 0.879  0.021  0.     0.    -0.344]]\n",
      "Action 2\n",
      "[[ 0.481  0.     0.     0.019  0.   ]\n",
      " [ 0.418  2.233  0.    -0.7    0.   ]\n",
      " [ 0.     0.388 -1.33   0.     0.   ]\n",
      " [ 0.169  0.294  0.008  0.     0.   ]\n",
      " [-0.163  0.064 -0.1   -0.19  -0.1  ]]\n",
      "Action 3\n",
      "[[-0.158  0.     1.9    0.     2.855]\n",
      " [ 0.266  0.908 -0.7   -1.897  0.   ]\n",
      " [ 0.     0.078  0.    -0.7   -1.33 ]\n",
      " [-0.271  0.01   1.734  0.304  0.014]\n",
      " [-0.308  0.141  0.324  0.003  0.   ]]\n"
     ]
    }
   ],
   "source": [
    "grid2d.ShowQ()"
   ]
  },
  {
   "cell_type": "code",
   "execution_count": 542,
   "metadata": {
    "Collapsed": "false"
   },
   "outputs": [
    {
     "name": "stdout",
     "output_type": "stream",
     "text": [
      "Action 0\n",
      "[[0.   0.25 0.   0.   0.  ]\n",
      " [0.   1.   0.   0.   1.  ]\n",
      " [0.   1.   0.   0.5  1.  ]\n",
      " [0.   1.   0.   0.   0.  ]\n",
      " [0.   1.   0.   1.   0.5 ]]\n",
      "Action 1\n",
      "[[0.   0.25 0.   0.   0.  ]\n",
      " [1.   0.   0.   1.   0.  ]\n",
      " [1.   0.   0.5  0.   0.  ]\n",
      " [0.   0.   0.   0.   0.  ]\n",
      " [1.   0.   0.   0.   0.  ]]\n",
      "Action 2\n",
      "[[1.   0.25 0.   1.   0.  ]\n",
      " [0.   0.   1.   0.   0.  ]\n",
      " [0.   0.   0.   0.5  0.  ]\n",
      " [1.   0.   0.   0.   0.  ]\n",
      " [0.   0.   0.   0.   0.  ]]\n",
      "Action 3\n",
      "[[0.   0.25 1.   0.   1.  ]\n",
      " [0.   0.   0.   0.   0.  ]\n",
      " [0.   0.   0.5  0.   0.  ]\n",
      " [0.   0.   1.   1.   1.  ]\n",
      " [0.   0.   1.   0.   0.5 ]]\n"
     ]
    }
   ],
   "source": [
    "grid2d.Pi = grid2d.OptimalPolicyFromQ()\n",
    "grid2d.ShowPolicy()"
   ]
  },
  {
   "cell_type": "code",
   "execution_count": 543,
   "metadata": {
    "Collapsed": "false"
   },
   "outputs": [
    {
     "name": "stdout",
     "output_type": "stream",
     "text": [
      "[18, 17, 16, 11, 6, 1]\n"
     ]
    },
    {
     "data": {
      "image/png": "[encoded data removed]",
      "text/plain": [
       "<Figure size 576x576 with 1 Axes>"
      ]
     },
     "metadata": {
      "needs_background": "light"
     },
     "output_type": "display_data"
    }
   ],
   "source": [
    "grid2d.state = coord2idx([3,3], 5)\n",
    "traj = grid2d.Episode()\n",
    "print(traj)\n",
    "\n",
    "grid2d.PlotTrajectory(traj)\n",
    "plt.gca().invert_yaxis()"
   ]
  },
  {
   "cell_type": "code",
   "execution_count": 544,
   "metadata": {
    "Collapsed": "false"
   },
   "outputs": [
    {
     "name": "stdout",
     "output_type": "stream",
     "text": [
      "Action 0\n",
      "[[-1.000e-01  0.000e+00 -1.000e-01 -9.000e-02  4.100e-02]\n",
      " [ 1.400e-02  9.657e+00 -7.000e-01  0.000e+00  7.680e-01]\n",
      " [ 0.000e+00  7.682e+00 -1.330e+00  0.000e+00  8.800e-02]\n",
      " [ 0.000e+00  4.558e+00 -3.652e+00 -2.407e+00  3.000e-03]\n",
      " [ 3.000e-03  2.092e+00  1.470e-01  3.000e-02  0.000e+00]]\n",
      "Action 1\n",
      "[[ 0.     0.     0.     0.     0.   ]\n",
      " [ 2.946 -1.897 -1.33   0.034 -0.26 ]\n",
      " [ 2.821 -3.987  0.    -0.7   -0.19 ]\n",
      " [ 0.     0.324  0.029  0.    -0.1  ]\n",
      " [ 0.879  0.021  0.     0.    -0.344]]\n",
      "Action 2\n",
      "[[ 0.481  0.     0.     0.019  0.   ]\n",
      " [ 0.418  2.233  0.    -0.7    0.   ]\n",
      " [ 0.     0.388 -1.33   0.     0.   ]\n",
      " [ 0.169  0.294  0.008  0.     0.   ]\n",
      " [-0.163  0.064 -0.1   -0.19  -0.1  ]]\n",
      "Action 3\n",
      "[[-0.158  0.     1.9    0.     2.855]\n",
      " [ 0.266  0.908 -0.7   -1.897  0.   ]\n",
      " [ 0.     0.078  0.    -0.7   -1.33 ]\n",
      " [-0.271  0.01   1.734  0.304  0.014]\n",
      " [-0.308  0.141  0.324  0.003  0.   ]]\n"
     ]
    }
   ],
   "source": [
    "grid2d.ShowFunction(grid2d.Q)"
   ]
  },
  {
   "cell_type": "code",
   "execution_count": 545,
   "metadata": {
    "Collapsed": "false"
   },
   "outputs": [
    {
     "name": "stdout",
     "output_type": "stream",
     "text": [
      "[24, 19, 18, 17, 16, 11, 6, 1]\n",
      "[[0.         0.         0.         0.         0.        ]\n",
      " [0.         0.81       0.         0.         0.        ]\n",
      " [0.         0.6561     0.         0.         0.        ]\n",
      " [0.         0.531441   0.43046721 0.34867844 0.28242954]\n",
      " [0.         0.         0.         0.         0.22876792]]\n"
     ]
    },
    {
     "data": {
      "image/png": "[encoded data removed]",
      "text/plain": [
       "<Figure size 576x576 with 1 Axes>"
      ]
     },
     "metadata": {
      "needs_background": "light"
     },
     "output_type": "display_data"
    }
   ],
   "source": [
    "grid2d.state = coord2idx([4,4], 5)\n",
    "traj = grid2d.SARSA_lambda(eps=0., alpha=0., trace='accumulating')\n",
    "print(traj)\n",
    "\n",
    "grid2d.PlotTrajectory(traj)\n",
    "plt.gca().invert_yaxis()\n",
    "\n",
    "print(np.reshape(np.sum(grid2d.E,axis=1),(5,5)))"
   ]
  },
  {
   "cell_type": "code",
   "execution_count": 546,
   "metadata": {
    "Collapsed": "false"
   },
   "outputs": [
    {
     "data": {
      "image/png": "[encoded data removed]",
      "text/plain": [
       "<Figure size 576x576 with 1 Axes>"
      ]
     },
     "metadata": {
      "needs_background": "light"
     },
     "output_type": "display_data"
    }
   ],
   "source": [
    "grid2d.state = 20\n",
    "traj = grid2d.Episode()\n",
    "fig = grid2d.PlotTrajectory(traj)\n",
    "\n",
    "for s in [21,22,23,24]:\n",
    "    grid2d.state = s\n",
    "    traj = grid2d.Episode()\n",
    "    #print(traj)\n",
    "\n",
    "    grid2d.PlotTrajectory(traj, fig=fig)\n",
    "\n",
    "for h in holes:\n",
    "    plt.plot(h[1],h[0],'kx')\n",
    "plt.gca().invert_yaxis()"
   ]
  },
  {
   "cell_type": "code",
   "execution_count": null,
   "metadata": {
    "Collapsed": "false"
   },
   "outputs": [],
   "source": []
  }
 ],
 "metadata": {
  "kernelspec": {
   "display_name": "Python 3",
   "language": "python",
   "name": "python3"
  },
  "language_info": {
   "codemirror_mode": {
    "name": "ipython",
    "version": 3
   },
   "file_extension": ".py",
   "mimetype": "text/x-python",
   "name": "python",
   "nbconvert_exporter": "python",
   "pygments_lexer": "ipython3",
   "version": "3.8.3"
  }
 },
 "nbformat": 4,
 "nbformat_minor": 4
}
