{
 "cells": [
  {
   "cell_type": "markdown",
   "metadata": {
    "Collapsed": "false"
   },
   "source": [
    "# Basic Reinforcement Learning\n",
    "Purpose: To learn about RL from its most basic instantiation."
   ]
  },
  {
   "cell_type": "code",
   "execution_count": 2,
   "metadata": {
    "Collapsed": "false"
   },
   "outputs": [],
   "source": [
    "import numpy as np\n",
    "import matplotlib.pyplot as plt\n",
    "import torch\n",
    "import time\n",
    "import copy"
   ]
  },
  {
   "cell_type": "code",
   "execution_count": 3,
   "metadata": {
    "Collapsed": "false"
   },
   "outputs": [],
   "source": [
    "import gym"
   ]
  },
  {
   "cell_type": "code",
   "execution_count": 4,
   "metadata": {
    "Collapsed": "false"
   },
   "outputs": [],
   "source": [
    "#env = gym.make('FrozenLake-v0')"
   ]
  },
  {
   "cell_type": "code",
   "execution_count": 5,
   "metadata": {
    "Collapsed": "false"
   },
   "outputs": [],
   "source": [
    "#env = gym.make('LunarLander-v2')"
   ]
  },
  {
   "cell_type": "markdown",
   "metadata": {
    "Collapsed": "false"
   },
   "source": [
    "# Agent"
   ]
  },
  {
   "cell_type": "code",
   "execution_count": 196,
   "metadata": {
    "Collapsed": "false"
   },
   "outputs": [],
   "source": [
    "class Agent():\n",
    "    '''\n",
    "     class Agent\n",
    "     \n",
    "     Represents an RL agent. Its Q function is represented by a neural network, so that\n",
    "       agent.Q(s) returns a vector of probabilities over action-space.\n",
    "    '''\n",
    "    def __init__(self, env):\n",
    "        '''\n",
    "         ag = Agent(env)\n",
    "         \n",
    "         Instantiates an Agent object.\n",
    "         \n",
    "         Inputs:\n",
    "           env  the environment for the task\n",
    "        '''\n",
    "        self.env = env\n",
    "        self.state_dim = self.env.observation_space.shape[0]  #state_dim\n",
    "        self.n_actions = self.env.action_space.n  #n_actions\n",
    "        self.state = torch.zeros(self.state_dim)\n",
    "        \n",
    "        # Policy\n",
    "        self.hidden = 20\n",
    "        self.Q = torch.nn.Sequential(\n",
    "                    torch.nn.Linear(self.state_dim, self.hidden),\n",
    "                    torch.nn.Sigmoid(),\n",
    "                    torch.nn.Linear(self.hidden, self.n_actions),\n",
    "                    torch.nn.Softmax(dim=0))\n",
    "        \n",
    "        # Value function\n",
    "        self.V_hidden = 30\n",
    "        self.V = torch.nn.Sequential(\n",
    "                    torch.nn.Linear(self.state_dim, self.V_hidden),\n",
    "                    torch.nn.Sigmoid(),\n",
    "                    torch.nn.Linear(self.V_hidden, 1))\n",
    "        \n",
    "        # Eligibility-trace buffer for Q\n",
    "        self.Qz = []\n",
    "        for p in self.Q.parameters():\n",
    "            self.Qz.append(torch.zeros_like(p))\n",
    "            \n",
    "        # Eligibility-trace buffer for V\n",
    "        self.Vz = []\n",
    "        for p in self.V.parameters():\n",
    "            self.Vz.append(torch.zeros_like(p))\n",
    "        \n",
    "    def sample(self, p):\n",
    "        '''\n",
    "         idx = ag.sample(p)\n",
    "         \n",
    "         Randomly choose an index according to the probability vector p.\n",
    "         \n",
    "         Input:\n",
    "           p  is a probability vector\n",
    "           \n",
    "         Output:\n",
    "           idx is an index of the vector p\n",
    "        '''\n",
    "        c = torch.zeros_like(p)\n",
    "        c[0] = p[0]\n",
    "        for k in range(1,len(c)):\n",
    "            c[k] += p[k] + c[k-1]\n",
    "        r = np.random.rand()\n",
    "        result = np.where(r>c)\n",
    "        return len(result[0])\n",
    "\n",
    "    def SetState(self, state):\n",
    "        if isinstance(state, (np.ndarray, list,)):\n",
    "            self.state = torch.tensor(state, dtype=torch.float)\n",
    "        elif isinstance(state, (torch.FloatTensor, )):\n",
    "            self.state = state.detach().clone()\n",
    "            \n",
    "    def ChooseAction(self, state=None, eps=0.):\n",
    "        '''\n",
    "         A = ag.ChooseAction(state, eps=0.)\n",
    "         \n",
    "         Choose an action, given the state.\n",
    "         With probability eps, it will choose an action randomly.\n",
    "         Otherwise, it will choose an action that yields the highest Q-value.\n",
    "        '''\n",
    "        if isinstance(state, (list, np.ndarray, torch.FloatTensor)):\n",
    "            self.SetState(state)\n",
    "            \n",
    "        if np.random.rand()>=eps:\n",
    "            Pa = self.Q(self.state)\n",
    "            A = self.sample(Pa)\n",
    "        else:\n",
    "            A = np.random.randint(0, self.n_actions)\n",
    "        return A\n",
    "    \n",
    "    def Episode(self, gamma=1.):\n",
    "        '''\n",
    "         traj, G = ag.Episode(gamma=1.)\n",
    "         \n",
    "         Runs one episode, and returns the trajectory. The environment is\n",
    "         automatically reset at the beginning of the episode.\n",
    "                 \n",
    "         Inputs:\n",
    "           gamma  reward discount\n",
    "         \n",
    "         Outputs:\n",
    "           traj trajectory, as a list of lists of the form\n",
    "                [A, S, Snext, R, G, done, info]\n",
    "                A     action taken at state S\n",
    "                S     state\n",
    "                Snext state after taking action A\n",
    "                R     reward\n",
    "                G     future return (discounted)\n",
    "                done  flag to indicate episode is done\n",
    "                info  not sure ?\n",
    "        '''\n",
    "        S = self.env.reset()\n",
    "        traj = []\n",
    "        G0 = 0.\n",
    "        gamma_k = gamma\n",
    "        for k in range(self.env._max_episode_steps):\n",
    "            action = self.ChooseAction(state=S)\n",
    "            Snext, r, done, info = self.env.step(action)\n",
    "            traj.append([action, S, Snext, r, 0., done, info])\n",
    "            G0 += gamma_k * r\n",
    "            gamma_k *= gamma\n",
    "            S = Snext\n",
    "            if done:\n",
    "                break\n",
    "        # Use that trajectory (and rewards) to update the policy parameters\n",
    "        # Process the return for all visited states\n",
    "        traj[-1][4] = 0.\n",
    "        for k in range(len(traj)-2, -1, -1):\n",
    "            traj[k][4] = traj[k][3] + gamma*traj[k+1][4]\n",
    "        return traj\n",
    "    \n",
    "    def REINFORCE(self, gamma=1.0, alpha=0.0001):\n",
    "        '''\n",
    "         ag.REINFORCE(env, gamma=1.0, alpha=0.0001)\n",
    "         \n",
    "         Performs an episode of the REINFORCE algorithm, following a reset\n",
    "         of the environment.\n",
    "         \n",
    "         Inputs:\n",
    "           gamma  discount rate for rewards (default 1.0)\n",
    "           alpha  step size for gradient ascent (the policy gradient)\n",
    "           \n",
    "         Output:\n",
    "           traj   trajectory, a list of lists of the form:\n",
    "                [A, S, Snext, R, G, done, info]\n",
    "                A     action taken at state S\n",
    "                S     state\n",
    "                Snext state after taking action A\n",
    "                R     reward\n",
    "                G     future return (discounted)\n",
    "                done  flag to indicate episode is done\n",
    "                info  not sure ?\n",
    "        '''\n",
    "        # Perform an episode and record the trajectory\n",
    "        traj = self.Episode()\n",
    "                \n",
    "        # Update policy parameters\n",
    "        for k,blah in enumerate(traj):\n",
    "            G = blah[4]  # future return\n",
    "            # Set up network state\n",
    "            A = blah[0]\n",
    "            S = torch.tensor(blah[1], dtype=torch.float)\n",
    "            Pa = self.Q(S)\n",
    "            #err = Pa[A]\n",
    "            # Backproject gradient\n",
    "            self.Q.zero_grad()\n",
    "            Pa[A].backward()\n",
    "            with torch.no_grad():\n",
    "                for p in self.Q.parameters():\n",
    "                    p += alpha * gamma**k * G * p.grad / Pa[A]\n",
    "        return traj\n",
    "    \n",
    "    def REINFORCE_baseline(self, gamma=1.0, alpha=0.0001, alpha_v=0.0001):\n",
    "        '''\n",
    "         ag.REINFORCE_baseline(env, gamma=1.0, alpha=0.0001, alpha_v=0.0001)\n",
    "         \n",
    "         Performs an episode of the REINFORCE algorithm with baseline, following\n",
    "         a reset of the environment. This method computes a model of the value\n",
    "         function, in addition to a policy.\n",
    "         \n",
    "         Inputs:\n",
    "           gamma  discount rate for rewards (default 1.0)\n",
    "           alpha  step size for gradient ascent (the policy gradient)\n",
    "           alpha_v step size for gradient ascent of the value function\n",
    "           \n",
    "         Output:\n",
    "           traj   trajectory, a list of lists of the form:\n",
    "                  [A, S, Snext, R, G, done, info]\n",
    "                  A     action taken at state S\n",
    "                  S     state\n",
    "                  Snext state after taking action A\n",
    "                  R     reward\n",
    "                  G     future return (discounted)\n",
    "                  done  flag to indicate episode is done\n",
    "                  info  not sure ?\n",
    "        '''\n",
    "        v_mult = 10.\n",
    "        \n",
    "        # Perform an episode and record the trajectory\n",
    "        traj = self.Episode()\n",
    "                \n",
    "        # Update policy parameters\n",
    "        gamma_t = gamma\n",
    "        for k,blah in enumerate(traj):\n",
    "            G = blah[4]  # future return\n",
    "            \n",
    "            # Policy network\n",
    "            A = blah[0]\n",
    "            S = torch.tensor(blah[1], dtype=torch.float)\n",
    "            Pa = self.Q(S)\n",
    "            \n",
    "            # Value network\n",
    "            V = self.V(S)*v_mult\n",
    "            \n",
    "            # Error\n",
    "            err = G - V\n",
    "            \n",
    "            \n",
    "            # Backproject gradient\n",
    "            self.Q.zero_grad()\n",
    "            self.V.zero_grad()\n",
    "            V.backward()\n",
    "            Pa[A].backward()\n",
    "            with torch.no_grad():\n",
    "                for p in self.Q.parameters():\n",
    "                    p += alpha * gamma_t * err * p.grad / Pa[A]\n",
    "                for p in self.V.parameters():\n",
    "                    p += alpha_v * gamma_t * err * p.grad / v_mult\n",
    "            \n",
    "            gamma_t *= gamma\n",
    "        return traj\n",
    "\n",
    "    def ActorCritic_ET(self, gamma=1.0, alpha=0.001, alpha_v=0.001, lam=0.9, lam_v=0.9):\n",
    "        '''\n",
    "         ag.ActorCritic_ET(gamma=1.0, alpha=0.0001, alpha_v=0.0001, lam=0.9, lam_v=0.9)\n",
    "         \n",
    "         Actor-Critic with Eligibility Trace\n",
    "        '''\n",
    "        v_mult = 1.\n",
    "\n",
    "        S = torch.tensor(self.env.reset(), dtype=torch.float)\n",
    "        traj = []\n",
    "        \n",
    "        # Zero the eligibility-trace buffers\n",
    "        for p in self.Qz:\n",
    "            p.zero_()\n",
    "        for p in self.Vz:\n",
    "            p.zero_()\n",
    "        \n",
    "        I = 1.\n",
    "        traj = []\n",
    "        \n",
    "        for k in range(self.env._max_episode_steps):\n",
    "            Pa = self.Q(S)\n",
    "            A = self.ChooseAction(S)\n",
    "            #A = torch.argmax(Pa).item()\n",
    "            Snext, r, done, info = self.env.step(A)\n",
    "            Snext = torch.tensor(Snext, dtype=torch.float)\n",
    "\n",
    "            traj.append([A, S, Snext, r, 0., done, info])\n",
    " \n",
    "            V = self.V(S)*v_mult\n",
    "            Vnext = self.V(Snext)*v_mult\n",
    "            \n",
    "            delta = r + gamma*Vnext - V\n",
    "            delta2 = torch.pow(delta, 2)\n",
    "            \n",
    "            self.Q.zero_grad()\n",
    "            self.V.zero_grad()\n",
    "            \n",
    "            #Pa[A].backward()\n",
    "            #V.backward()\n",
    "            logPi = torch.log(Pa[A])\n",
    "            logPi.backward()\n",
    "            delta2.backward()\n",
    "            \n",
    "            with torch.no_grad():\n",
    "                for p,z in zip(self.V.parameters(), self.Vz):\n",
    "                    z *= gamma*lam_v\n",
    "                    z += I*p.grad/v_mult\n",
    "                    #p -= alpha_v*delta*z\n",
    "                    p -= alpha_v*z\n",
    "                for p,z in zip(self.Q.parameters(), self.Qz):\n",
    "                    z *= gamma*lam\n",
    "                    #z += I*p.grad/Pa[A]\n",
    "                    z += I*p.grad\n",
    "                    p += alpha*delta*z\n",
    "            \n",
    "            I *= gamma\n",
    "            S = Snext\n",
    "            \n",
    "            if done:\n",
    "                break\n",
    "        \n",
    "        return traj\n",
    "\n",
    "        \n",
    "    def Simulate(self, trials=1):\n",
    "        time.sleep(1)\n",
    "        avg_k = 0.\n",
    "        for trial in range(trials):\n",
    "            observation = self.env.reset()\n",
    "            for k in range(self.env._max_episode_steps):\n",
    "                self.env.render()\n",
    "                action = self.ChooseAction(torch.tensor(observation, dtype=torch.float))\n",
    "\n",
    "                observation, reward, done, info = self.env.step(action)\n",
    "\n",
    "                if done:\n",
    "                    print('Done after '+str(k))\n",
    "                    avg_k += k\n",
    "                    break\n",
    "        print('Average reward: '+str(avg_k/trials))\n",
    "        time.sleep(1)\n",
    "        self.env.close()"
   ]
  },
  {
   "cell_type": "markdown",
   "metadata": {
    "Collapsed": "false"
   },
   "source": [
    "# Try it"
   ]
  },
  {
   "cell_type": "code",
   "execution_count": 219,
   "metadata": {
    "Collapsed": "false"
   },
   "outputs": [],
   "source": [
    "env = gym.make('CartPole-v0')\n",
    "\n",
    "S = env.reset()\n",
    "ag = Agent(env)\n",
    "ag.env._max_episode_steps = 500"
   ]
  },
  {
   "cell_type": "markdown",
   "metadata": {
    "Collapsed": "false"
   },
   "source": [
    "## Performance before training"
   ]
  },
  {
   "cell_type": "code",
   "execution_count": 224,
   "metadata": {
    "Collapsed": "false"
   },
   "outputs": [
    {
     "name": "stdout",
     "output_type": "stream",
     "text": [
      "Done after 40\n",
      "Done after 164\n",
      "Done after 35\n",
      "Done after 77\n",
      "Done after 30\n",
      "Done after 63\n",
      "Done after 42\n",
      "Done after 45\n",
      "Done after 79\n",
      "Done after 41\n",
      "Average reward: 61.6\n"
     ]
    }
   ],
   "source": [
    "ag.Simulate(10)"
   ]
  },
  {
   "cell_type": "markdown",
   "metadata": {
    "Collapsed": "false"
   },
   "source": [
    "# Train model"
   ]
  },
  {
   "cell_type": "code",
   "execution_count": 220,
   "metadata": {
    "Collapsed": "false"
   },
   "outputs": [],
   "source": [
    "score = []\n",
    "counter = 0\n",
    "mysum = 0\n",
    "interval = 50"
   ]
  },
  {
   "cell_type": "code",
   "execution_count": 225,
   "metadata": {
    "Collapsed": "false"
   },
   "outputs": [
    {
     "data": {
      "image/png": "[encoded data removed]",
      "text/plain": [
       "<Figure size 432x288 with 1 Axes>"
      ]
     },
     "metadata": {
      "needs_background": "light"
     },
     "output_type": "display_data"
    }
   ],
   "source": [
    "for i_episode in range(1500):\n",
    "    traj = ag.ActorCritic_ET(gamma=1., alpha=0.001, alpha_v=0.002, lam=0., lam_v=0.)\n",
    "    counter += 1\n",
    "    mysum += len(traj)\n",
    "    if counter%interval==0:\n",
    "        score.append(mysum/interval)\n",
    "        mysum = 0\n",
    "\n",
    "plt.plot(score);"
   ]
  },
  {
   "cell_type": "code",
   "execution_count": 152,
   "metadata": {
    "Collapsed": "false"
   },
   "outputs": [
    {
     "name": "stdout",
     "output_type": "stream",
     "text": [
      "[ 0.02893416  0.00757476  0.00730369 -0.01265915]\n"
     ]
    },
    {
     "data": {
      "text/plain": [
       "tensor([13.8239], grad_fn=<AddBackward0>)"
      ]
     },
     "execution_count": 152,
     "metadata": {},
     "output_type": "execute_result"
    }
   ],
   "source": [
    "S = ag.env.reset()\n",
    "print(S)\n",
    "ag.V(torch.tensor(S, dtype=torch.float))"
   ]
  },
  {
   "cell_type": "markdown",
   "metadata": {
    "Collapsed": "false"
   },
   "source": [
    "## REINFORCE"
   ]
  },
  {
   "cell_type": "code",
   "execution_count": 6,
   "metadata": {
    "Collapsed": "false"
   },
   "outputs": [],
   "source": [
    "score = []\n",
    "counter = 0\n",
    "mysum = 0\n",
    "interval = 50"
   ]
  },
  {
   "cell_type": "code",
   "execution_count": 13,
   "metadata": {
    "Collapsed": "false"
   },
   "outputs": [],
   "source": [
    "for i_episode in range(1000):\n",
    "    traj = ag.REINFORCE(alpha=0.0001)\n",
    "    counter += 1\n",
    "    mysum += len(traj)\n",
    "    if counter%interval==0:\n",
    "        score.append(mysum/interval)\n",
    "        mysum = 0"
   ]
  },
  {
   "cell_type": "code",
   "execution_count": 14,
   "metadata": {
    "Collapsed": "false"
   },
   "outputs": [
    {
     "data": {
      "image/png": "[encoded data removed]",
      "text/plain": [
       "<Figure size 432x288 with 1 Axes>"
      ]
     },
     "metadata": {
      "needs_background": "light"
     },
     "output_type": "display_data"
    }
   ],
   "source": [
    "plt.plot(score);"
   ]
  },
  {
   "cell_type": "markdown",
   "metadata": {
    "Collapsed": "false"
   },
   "source": [
    "## REINFORCE Baseline"
   ]
  },
  {
   "cell_type": "code",
   "execution_count": 42,
   "metadata": {
    "Collapsed": "false"
   },
   "outputs": [],
   "source": [
    "score2 = []\n",
    "counter = 0\n",
    "mysum = 0\n",
    "interval = 50"
   ]
  },
  {
   "cell_type": "code",
   "execution_count": 62,
   "metadata": {
    "Collapsed": "false"
   },
   "outputs": [],
   "source": [
    "for i_episode in range(500):\n",
    "    traj = traj = ag.REINFORCE_baseline(alpha=0.00001, alpha_v=0.0001)\n",
    "    counter += 1\n",
    "    mysum += len(traj)\n",
    "    if counter%interval==0:\n",
    "        score2.append(mysum/interval)\n",
    "        mysum = 0"
   ]
  },
  {
   "cell_type": "code",
   "execution_count": 63,
   "metadata": {
    "Collapsed": "false"
   },
   "outputs": [
    {
     "data": {
      "image/png": "[encoded data removed]",
      "text/plain": [
       "<Figure size 432x288 with 1 Axes>"
      ]
     },
     "metadata": {
      "needs_background": "light"
     },
     "output_type": "display_data"
    }
   ],
   "source": [
    "plt.plot(score2);"
   ]
  },
  {
   "cell_type": "code",
   "execution_count": 22,
   "metadata": {
    "Collapsed": "false"
   },
   "outputs": [
    {
     "name": "stdout",
     "output_type": "stream",
     "text": [
      "Done after 15\n",
      "Done after 8\n",
      "Done after 8\n",
      "Average reward: 10.333333333333334\n"
     ]
    }
   ],
   "source": [
    "ag.Simulate(3)"
   ]
  },
  {
   "cell_type": "code",
   "execution_count": 19,
   "metadata": {
    "Collapsed": "false"
   },
   "outputs": [
    {
     "name": "stdout",
     "output_type": "stream",
     "text": [
      "[-0.01820983  0.01047394  0.02722696  0.04937856]\n"
     ]
    },
    {
     "data": {
      "text/plain": [
       "tensor([-0.3154], grad_fn=<AddBackward0>)"
      ]
     },
     "execution_count": 19,
     "metadata": {},
     "output_type": "execute_result"
    }
   ],
   "source": [
    "S = ag.env.reset()\n",
    "print(S)\n",
    "ag.V(torch.tensor(S, dtype=torch.float))"
   ]
  },
  {
   "cell_type": "code",
   "execution_count": 63,
   "metadata": {
    "Collapsed": "false"
   },
   "outputs": [
    {
     "data": {
      "text/plain": [
       "tensor([17.9258], grad_fn=<AddBackward0>)"
      ]
     },
     "execution_count": 63,
     "metadata": {},
     "output_type": "execute_result"
    }
   ],
   "source": [
    "ag.V(torch.tensor([0, 0, 0, 0], dtype=torch.float))"
   ]
  },
  {
   "cell_type": "code",
   "execution_count": null,
   "metadata": {
    "Collapsed": "false"
   },
   "outputs": [],
   "source": []
  }
 ],
 "metadata": {
  "kernelspec": {
   "display_name": "Python 3",
   "language": "python",
   "name": "python3"
  },
  "language_info": {
   "codemirror_mode": {
    "name": "ipython",
    "version": 3
   },
   "file_extension": ".py",
   "mimetype": "text/x-python",
   "name": "python",
   "nbconvert_exporter": "python",
   "pygments_lexer": "ipython3",
   "version": "3.7.4"
  }
 },
 "nbformat": 4,
 "nbformat_minor": 4
}
