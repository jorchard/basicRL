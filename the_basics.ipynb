{
 "cells": [
  {
   "cell_type": "markdown",
   "metadata": {},
   "source": [
    "# Basic Reinforcement Learning\n",
    "Purpose: To learn about RL from its most basic instantiation."
   ]
  },
  {
   "cell_type": "code",
   "execution_count": 1,
   "metadata": {},
   "outputs": [],
   "source": [
    "import numpy as np\n",
    "import matplotlib.pyplot as plt\n",
    "import torch\n",
    "import time\n",
    "import copy"
   ]
  },
  {
   "cell_type": "code",
   "execution_count": 2,
   "metadata": {},
   "outputs": [],
   "source": [
    "import gym"
   ]
  },
  {
   "cell_type": "code",
   "execution_count": 18,
   "metadata": {},
   "outputs": [],
   "source": [
    "env = gym.make('LunarLander-v2')"
   ]
  },
  {
   "cell_type": "code",
   "execution_count": 14,
   "metadata": {},
   "outputs": [],
   "source": [
    "env = gym.make('CartPole-v0')"
   ]
  },
  {
   "cell_type": "code",
   "execution_count": null,
   "metadata": {},
   "outputs": [],
   "source": [
    "gym.Env()"
   ]
  },
  {
   "cell_type": "code",
   "execution_count": 20,
   "metadata": {},
   "outputs": [
    {
     "ename": "AttributeError",
     "evalue": "'LunarLander' object has no attribute 'state'",
     "output_type": "error",
     "traceback": [
      "\u001b[0;31m---------------------------------------------------------------------------\u001b[0m",
      "\u001b[0;31mAttributeError\u001b[0m                            Traceback (most recent call last)",
      "\u001b[0;32m<ipython-input-20-515d1a152f82>\u001b[0m in \u001b[0;36m<module>\u001b[0;34m\u001b[0m\n\u001b[1;32m      1\u001b[0m \u001b[0menv\u001b[0m\u001b[0;34m.\u001b[0m\u001b[0mreset\u001b[0m\u001b[0;34m(\u001b[0m\u001b[0;34m)\u001b[0m\u001b[0;34m\u001b[0m\u001b[0;34m\u001b[0m\u001b[0m\n\u001b[0;32m----> 2\u001b[0;31m \u001b[0menv\u001b[0m\u001b[0;34m.\u001b[0m\u001b[0mstate\u001b[0m\u001b[0;34m(\u001b[0m\u001b[0;34m)\u001b[0m\u001b[0;34m\u001b[0m\u001b[0;34m\u001b[0m\u001b[0m\n\u001b[0m",
      "\u001b[0;32m~/opt/anaconda3/lib/python3.8/site-packages/gym/core.py\u001b[0m in \u001b[0;36m__getattr__\u001b[0;34m(self, name)\u001b[0m\n\u001b[1;32m    221\u001b[0m         \u001b[0;32mif\u001b[0m \u001b[0mname\u001b[0m\u001b[0;34m.\u001b[0m\u001b[0mstartswith\u001b[0m\u001b[0;34m(\u001b[0m\u001b[0;34m'_'\u001b[0m\u001b[0;34m)\u001b[0m\u001b[0;34m:\u001b[0m\u001b[0;34m\u001b[0m\u001b[0;34m\u001b[0m\u001b[0m\n\u001b[1;32m    222\u001b[0m             \u001b[0;32mraise\u001b[0m \u001b[0mAttributeError\u001b[0m\u001b[0;34m(\u001b[0m\u001b[0;34m\"attempted to get missing private attribute '{}'\"\u001b[0m\u001b[0;34m.\u001b[0m\u001b[0mformat\u001b[0m\u001b[0;34m(\u001b[0m\u001b[0mname\u001b[0m\u001b[0;34m)\u001b[0m\u001b[0;34m)\u001b[0m\u001b[0;34m\u001b[0m\u001b[0;34m\u001b[0m\u001b[0m\n\u001b[0;32m--> 223\u001b[0;31m         \u001b[0;32mreturn\u001b[0m \u001b[0mgetattr\u001b[0m\u001b[0;34m(\u001b[0m\u001b[0mself\u001b[0m\u001b[0;34m.\u001b[0m\u001b[0menv\u001b[0m\u001b[0;34m,\u001b[0m \u001b[0mname\u001b[0m\u001b[0;34m)\u001b[0m\u001b[0;34m\u001b[0m\u001b[0;34m\u001b[0m\u001b[0m\n\u001b[0m\u001b[1;32m    224\u001b[0m \u001b[0;34m\u001b[0m\u001b[0m\n\u001b[1;32m    225\u001b[0m     \u001b[0;34m@\u001b[0m\u001b[0mproperty\u001b[0m\u001b[0;34m\u001b[0m\u001b[0;34m\u001b[0m\u001b[0m\n",
      "\u001b[0;31mAttributeError\u001b[0m: 'LunarLander' object has no attribute 'state'"
     ]
    }
   ],
   "source": [
    "env.reset()\n",
    "env.state"
   ]
  },
  {
   "cell_type": "markdown",
   "metadata": {},
   "source": [
    "# Agent"
   ]
  },
  {
   "cell_type": "code",
   "execution_count": 21,
   "metadata": {},
   "outputs": [],
   "source": [
    "class Vector_env(gym.Wrapper):\n",
    "    '''\n",
    "     class Vector_env\n",
    "     \n",
    "     Acts as a wrapper for the OpenAI gym environments.\n",
    "    '''\n",
    "    def __init__(self, env, n=1):\n",
    "        '''\n",
    "         venv = Vector_env(env, n=1)\n",
    "         \n",
    "         Creates n copies of env.\n",
    "        '''\n",
    "        super().__init__(env)\n",
    "        self.envs = []\n",
    "        for k in range(n):\n",
    "            env_r = copy.deepcopy(env)\n",
    "            env_r.seed(np.random.randint(10000))\n",
    "            self.envs.append(env_r)\n",
    "    \n",
    "    def reset(self):\n",
    "        '''\n",
    "         states = venv.reset()\n",
    "         \n",
    "         Resets all the environments, and returns an array with the\n",
    "         reset states in each row.\n",
    "        '''\n",
    "        states = []\n",
    "        for e in self.envs:\n",
    "            state = e.reset()\n",
    "            states.append(state)\n",
    "        return np.array(states)\n",
    "    \n",
    "    def step(self, actions):\n",
    "        '''\n",
    "         S, R, done, info = venv.step(actions)\n",
    "         \n",
    "         Takes one step in each of the environments, and returns an array\n",
    "         for each of the resulting outputs.\n",
    "         \n",
    "         Inputs:\n",
    "           actions   an array of actions\n",
    "           \n",
    "         Outputs:\n",
    "           S    array of states after the step\n",
    "           R    array of rewards from the step\n",
    "           done array of Boolean flags:\n",
    "                  False means episode continues\n",
    "                  True means episode is done\n",
    "        '''\n",
    "        S, R, done = [], [], []\n",
    "        for e,a in zip(self.envs, actions):\n",
    "            s, r, d, inf = e.step(a)\n",
    "            S.append(s)\n",
    "            R.append(r)\n",
    "            done.append(d)\n",
    "        return np.array(S), np.array(R), np.array(done)\n",
    "    \n",
    "    def state(self):\n",
    "        S = []\n",
    "        for e in self.envs:\n",
    "            S.append(e.state)\n",
    "        return np.array(S)"
   ]
  },
  {
   "cell_type": "code",
   "execution_count": 36,
   "metadata": {},
   "outputs": [],
   "source": [
    "obs = ag_r.envs.envs[0].reset()"
   ]
  },
  {
   "cell_type": "code",
   "execution_count": 37,
   "metadata": {},
   "outputs": [
    {
     "data": {
      "text/plain": [
       "array([-0.00507193,  1.4151597 , -0.5137544 ,  0.18841419,  0.00588396,\n",
       "        0.11637297,  0.        ,  0.        ], dtype=float32)"
      ]
     },
     "execution_count": 37,
     "metadata": {},
     "output_type": "execute_result"
    }
   ],
   "source": [
    "obs"
   ]
  },
  {
   "cell_type": "code",
   "execution_count": 38,
   "metadata": {},
   "outputs": [],
   "source": [
    "class Agent():\n",
    "    '''\n",
    "     class Agent\n",
    "     \n",
    "     Represents an RL agent. Its Q function is represented by a neural network, so that\n",
    "       agent.Q(s) returns a vector of probabilities over action-space.\n",
    "    '''\n",
    "    def __init__(self, envs):\n",
    "        '''\n",
    "         ag = Agent(envs)\n",
    "         \n",
    "         Instantiates an Agent object.\n",
    "         \n",
    "         Inputs:\n",
    "           envs  a Vector_env object, containing the environments for the task\n",
    "        '''\n",
    "        self.envs = envs\n",
    "        self.state_dim = self.envs.observation_space.shape[0]  #state_dim\n",
    "        self.n_actions = self.envs.action_space.n  #n_actions\n",
    "        #self.state = torch.zeros(self.state_dim)\n",
    "        self._max_episode_steps = 100\n",
    "        \n",
    "        # Policy\n",
    "        self.hidden = 100\n",
    "        self.Pi_net = torch.nn.Sequential(\n",
    "                    torch.nn.Linear(self.state_dim, self.hidden),\n",
    "                    torch.nn.Sigmoid(),\n",
    "                    torch.nn.Linear(self.hidden, self.n_actions))\n",
    "        \n",
    "        # Value function\n",
    "        self.V_hidden = 80\n",
    "        self.V_net = torch.nn.Sequential(\n",
    "                    torch.nn.Linear(self.state_dim, self.V_hidden),\n",
    "                    torch.nn.Sigmoid(),\n",
    "                    torch.nn.Linear(self.V_hidden, 1))\n",
    "        \n",
    "        # Eligibility-trace buffer for Pi_net\n",
    "        self.Piz = []\n",
    "        for p in self.Pi_net.parameters():\n",
    "            self.Piz.append(torch.zeros_like(p))\n",
    "            \n",
    "        # Eligibility-trace buffer for V_net\n",
    "        self.Vz = []\n",
    "        for p in self.V_net.parameters():\n",
    "            self.Vz.append(torch.zeros_like(p))\n",
    "        \n",
    "    def Pi(self, states=None):\n",
    "        if states is None:\n",
    "            S = torch.tensor(self.envs.state(), dtype=torch.float)\n",
    "        else:\n",
    "            S = torch.tensor(states, dtype=torch.float)\n",
    "        return torch.distributions.Categorical(logits=self.Pi_net(S))\n",
    "    \n",
    "    def V(self, states=None):\n",
    "        if states is None:\n",
    "            S = torch.from_numpy(self.envs.state())\n",
    "        else:\n",
    "            S = torch.tensor(states, dtype=torch.float)\n",
    "        return self.V_net(S)\n",
    "    \n",
    "    \n",
    "    def ChooseAction(self, state=None, eps=0.):\n",
    "        '''\n",
    "         A = ag.ChooseAction(state, eps=0.)\n",
    "         \n",
    "         Choose an action, given the state.\n",
    "         With probability eps, it will choose an action randomly.\n",
    "         Otherwise, it will choose an action that yields the highest Q-value.\n",
    "        '''\n",
    "        if state is None:\n",
    "            state = self.envs.state()\n",
    "            \n",
    "        batchsize = len(state)\n",
    "        \n",
    "        with torch.no_grad():\n",
    "            Pa = self.Pi(state)\n",
    "        A = Pa.sample().detach().numpy()\n",
    "        \n",
    "        # With prob eps, choose random action\n",
    "        A_random = np.array(np.random.randint(0, high=self.n_actions, size=batchsize), dtype=np.float)\n",
    "        r = np.random.rand(batchsize)\n",
    "        ridx = r<eps\n",
    "        A[ridx] = A_random[ridx]\n",
    "        \n",
    "        return A\n",
    "    \n",
    "    def Episode(self, gamma=1., eps=0.):\n",
    "        '''\n",
    "         traj = ag.Episode(gamma=1.)\n",
    "         \n",
    "         Runs one episode, and returns the trajectory. The environment is\n",
    "         automatically reset at the beginning of the episode.\n",
    "                 \n",
    "         Inputs:\n",
    "           gamma  reward discount\n",
    "         \n",
    "         Outputs:\n",
    "           traj trajectory, as a list of lists of the form\n",
    "                [A, S, Snext, R, G, done, info]\n",
    "                A     action taken at state S\n",
    "                S     state\n",
    "                Snext state after taking action A\n",
    "                R     reward\n",
    "                G     future return (discounted)\n",
    "                done  flag to indicate episode is done\n",
    "                info  not sure ?\n",
    "        '''\n",
    "        S = self.envs.reset()\n",
    "        traj = []\n",
    "        bs = len(S)  # batchsize\n",
    "        for k in range(self._max_episode_steps):\n",
    "            action = self.ChooseAction(state=S, eps=eps)\n",
    "            Snext, r, done = self.envs.step(action)\n",
    "            traj.append(dict(action=action, S=S, Snext=Snext, r=r, G=np.zeros(bs), done=done))\n",
    "            S = Snext\n",
    "            if done.all():\n",
    "                break\n",
    "        # Use that trajectory (and rewards) to update the policy parameters\n",
    "        # Process the return for all visited states\n",
    "        #traj[-1][4] = np.zeros(bs)\n",
    "        for k in range(len(traj)-2, -1, -1):\n",
    "            traj[k]['G'] = traj[k]['r'] + (1.-traj[k]['done'])*gamma*traj[k+1]['G']\n",
    "        return traj\n",
    "    \n",
    "    \n",
    "\n",
    "    def Simulate(self, trials=1, eps=0.):\n",
    "        time.sleep(1)\n",
    "        avg_k = 0.\n",
    "        for trial in range(trials):\n",
    "            observation = self.envs.envs[0].reset()\n",
    "            for k in range(self._max_episode_steps):\n",
    "                self.envs.envs[0].render()\n",
    "                action = self.ChooseAction(state=[observation], eps=eps)\n",
    "\n",
    "                observation, reward, done, info = self.envs.envs[0].step(action[0])\n",
    "\n",
    "                if done:\n",
    "                    print('Done after '+str(k))\n",
    "                    avg_k += k\n",
    "                    break\n",
    "        print('Average reward: '+str(avg_k/trials))\n",
    "        time.sleep(1)\n",
    "        self.envs.envs[0].close()\n",
    "        \n",
    "        \n",
    "    def REINFORCE(self, gamma=1.0, alpha=0.0001, eps=0.):\n",
    "        '''\n",
    "         ag.REINFORCE(env, gamma=1.0, alpha=0.0001, eps=0.)\n",
    "         \n",
    "         Performs an episode of the REINFORCE algorithm, following a reset\n",
    "         of the environment.\n",
    "         \n",
    "         Inputs:\n",
    "           gamma  discount rate for rewards (default 1.0)\n",
    "           alpha  step size for gradient ascent (the policy gradient)\n",
    "           eps    probability of choosing a random action\n",
    "           \n",
    "         Output:\n",
    "           traj   trajectory, a list of lists of the form:\n",
    "                [A, S, Snext, R, G, done, info]\n",
    "                A     action taken at state S\n",
    "                S     state\n",
    "                Snext state after taking action A\n",
    "                R     reward\n",
    "                G     future return (discounted)\n",
    "                done  flag to indicate episode is done\n",
    "                info  not sure ?\n",
    "        '''\n",
    "        # Perform an episode and record the trajectory\n",
    "        traj = self.Episode(eps=eps)\n",
    "        bs = len(traj[0]['action'])\n",
    "                \n",
    "        # Update policy parameters\n",
    "        loss = 0.\n",
    "        for k,blah in enumerate(traj):\n",
    "            A = blah['action']  # actions\n",
    "            G = torch.tensor(blah['G'], dtype=torch.float)  # future return\n",
    "            S = blah['S']  # before states\n",
    "            dones = blah['done']\n",
    "            Pa = self.Pi(S)  # get action probabilities\n",
    "            logPa_x_G = Pa.log_prob(torch.tensor(A)) * (G)\n",
    "            loss += torch.mean(logPa_x_G)\n",
    "            #print(loss)\n",
    "        \n",
    "        self.Pi_net.zero_grad()\n",
    "        loss.backward()\n",
    "            \n",
    "        with torch.no_grad():\n",
    "            for p in self.Pi_net.parameters():\n",
    "                p += alpha * p.grad\n",
    "        return traj\n",
    "\n",
    "    \n",
    "    def REINFORCE_baseline(self, gamma=1.0, alpha=0.0001, alpha_v=0.0001, eps=0.1):\n",
    "        '''\n",
    "         ag.REINFORCE_baseline(env, gamma=1.0, alpha=0.0001, alpha_v=0.0001)\n",
    "         \n",
    "         Performs an episode of the REINFORCE algorithm with baseline, following\n",
    "         a reset of the environment. This method computes a model of the value\n",
    "         function, in addition to a policy.\n",
    "         \n",
    "         Inputs:\n",
    "           gamma  discount rate for rewards (default 1.0)\n",
    "           alpha  step size for gradient ascent (the policy gradient)\n",
    "           alpha_v step size for gradient ascent of the value function\n",
    "           \n",
    "         Output:\n",
    "           traj   trajectory, a list of lists of the form:\n",
    "                  [A, S, Snext, R, G, done, info]\n",
    "                  A     action taken at state S\n",
    "                  S     state\n",
    "                  Snext state after taking action A\n",
    "                  R     reward\n",
    "                  G     future return (discounted)\n",
    "                  done  flag to indicate episode is done\n",
    "                  info  not sure ?\n",
    "        '''\n",
    "        v_mult = 1.\n",
    "        \n",
    "        # Perform an episode and record the trajectory\n",
    "        traj = self.Episode(eps=eps(0))\n",
    "        bs = len(traj[0]['action'])\n",
    "                \n",
    "        # Update policy parameters\n",
    "        gamma_t = gamma\n",
    "        Pa_loss = 0.\n",
    "        V_loss = 0.\n",
    "        for k,blah in enumerate(traj):\n",
    "            A = blah['action']\n",
    "            S = blah['S']\n",
    "            G = torch.from_numpy(blah['G'])  # future return\n",
    "            G.requires_grad = False\n",
    "            dones = blah['done']\n",
    "            \n",
    "            # Policy network\n",
    "            Pa = self.Pi(S)  # returns a distribution object\n",
    "            \n",
    "            # Value network\n",
    "            V = self.V(S)*v_mult\n",
    "            \n",
    "            # Error\n",
    "            with torch.no_grad():\n",
    "                err = G - V\n",
    "            \n",
    "            # Recall that d(log(Pi)) = dPi / Pi\n",
    "            logPa_x_err = Pa.log_prob(torch.from_numpy(A)) * err * gamma_t\n",
    "            \n",
    "            Pa_loss += torch.mean(logPa_x_err)\n",
    "            V_loss += torch.mean( V*err ) * gamma_t\n",
    "            \n",
    "            gamma_t *= gamma\n",
    "        \n",
    "        # Backproject gradient\n",
    "        self.Pi_net.zero_grad()\n",
    "        self.V_net.zero_grad()\n",
    "        Pa_loss.backward()\n",
    "        V_loss.backward()\n",
    "        with torch.no_grad():\n",
    "            for p in self.Pi_net.parameters():\n",
    "                p += alpha * p.grad\n",
    "            for p in self.V_net.parameters():\n",
    "                p += alpha_v * p.grad\n",
    "            \n",
    "        return traj\n"
   ]
  },
  {
   "cell_type": "markdown",
   "metadata": {
    "collapsed": "false"
   },
   "source": [
    "### Cart-Pole"
   ]
  },
  {
   "cell_type": "code",
   "execution_count": 62,
   "metadata": {},
   "outputs": [],
   "source": [
    "#env = gym.make('CartPole-v0')\n",
    "env = gym.make('LunarLander-v2')\n",
    "S = env.reset()\n",
    "envs = Vector_env(env, n=32)\n",
    "ag_r = Agent(envs)\n",
    "ag_r._max_episode_steps = 200"
   ]
  },
  {
   "cell_type": "code",
   "execution_count": 63,
   "metadata": {},
   "outputs": [],
   "source": [
    "score = []\n",
    "counter = 0\n",
    "mysum = 0"
   ]
  },
  {
   "cell_type": "code",
   "execution_count": 64,
   "metadata": {},
   "outputs": [],
   "source": [
    "interval = 50"
   ]
  },
  {
   "cell_type": "code",
   "execution_count": 72,
   "metadata": {},
   "outputs": [
    {
     "name": "stdout",
     "output_type": "stream",
     "text": [
      "850\n",
      "900\n",
      "950\n",
      "1000\n",
      "1050\n",
      "1100\n",
      "1150\n",
      "1200\n"
     ]
    }
   ],
   "source": [
    "for i_episode in range(400):\n",
    "    traj = ag_r.REINFORCE_baseline(alpha=0.0001, alpha_v=0.0001, eps=(lambda x: 0.1))\n",
    "    #traj = ag_r.REINFORCE(alpha=0.0001, eps=0.)\n",
    "    counter += 1\n",
    "    mysum += np.mean(traj[0]['G'])\n",
    "    if counter%interval==0:\n",
    "        print(counter)\n",
    "        score.append(mysum/interval)\n",
    "        mysum = 0"
   ]
  },
  {
   "cell_type": "code",
   "execution_count": 73,
   "metadata": {},
   "outputs": [
    {
     "data": {
      "image/png": "[encoded data removed]",
      "text/plain": [
       "<Figure size 432x288 with 1 Axes>"
      ]
     },
     "metadata": {
      "needs_background": "light"
     },
     "output_type": "display_data"
    }
   ],
   "source": [
    "plt.plot(score);"
   ]
  },
  {
   "cell_type": "code",
   "execution_count": 96,
   "metadata": {},
   "outputs": [
    {
     "name": "stdout",
     "output_type": "stream",
     "text": [
      "Done after 55\n",
      "Done after 128\n",
      "Done after 110\n",
      "Average reward: 97.66666666666667\n"
     ]
    }
   ],
   "source": [
    "ag_r.Simulate(3, eps=0.1)"
   ]
  },
  {
   "cell_type": "code",
   "execution_count": 32,
   "metadata": {},
   "outputs": [],
   "source": [
    "ag_r.envs.envs[0].close()"
   ]
  },
  {
   "cell_type": "markdown",
   "metadata": {},
   "source": [
    "## REINFORCE with Baseline"
   ]
  },
  {
   "cell_type": "code",
   "execution_count": 61,
   "metadata": {
    "collapsed": true,
    "jupyter": {
     "outputs_hidden": true
    }
   },
   "outputs": [],
   "source": [
    "env = gym.make('CartPole-v0')\n",
    "\n",
    "S = env.reset()\n",
    "ag_rb = Agent(env)\n",
    "ag_rb.env._max_episode_steps = 500"
   ]
  },
  {
   "cell_type": "code",
   "execution_count": 62,
   "metadata": {
    "collapsed": true,
    "jupyter": {
     "outputs_hidden": true
    }
   },
   "outputs": [],
   "source": [
    "score2 = []\n",
    "counter = 0\n",
    "mysum = 0\n",
    "interval = 50"
   ]
  },
  {
   "cell_type": "code",
   "execution_count": 76,
   "metadata": {
    "collapsed": true,
    "jupyter": {
     "outputs_hidden": true
    }
   },
   "outputs": [],
   "source": [
    "for i_episode in range(200):\n",
    "    traj = traj = ag_rb.REINFORCE_baseline(alpha=0.0001, alpha_v=0.0001)\n",
    "    counter += 1\n",
    "    mysum += len(traj)\n",
    "    if counter%interval==0:\n",
    "        score2.append(mysum/interval)\n",
    "        mysum = 0"
   ]
  },
  {
   "cell_type": "code",
   "execution_count": 77,
   "metadata": {
    "collapsed": true,
    "jupyter": {
     "outputs_hidden": true
    }
   },
   "outputs": [
    {
     "data": {
      "image/png": "[encoded data removed]",
      "text/plain": [
       "<Figure size 432x288 with 1 Axes>"
      ]
     },
     "metadata": {
      "needs_background": "light"
     },
     "output_type": "display_data"
    }
   ],
   "source": [
    "plt.plot(score2);"
   ]
  },
  {
   "cell_type": "code",
   "execution_count": 75,
   "metadata": {
    "collapsed": true,
    "jupyter": {
     "outputs_hidden": true
    }
   },
   "outputs": [
    {
     "name": "stdout",
     "output_type": "stream",
     "text": [
      "[-0.0245504   0.0344018  -0.00279386  0.02541287]\n"
     ]
    },
    {
     "data": {
      "text/plain": [
       "tensor([1.8533], grad_fn=<AddBackward0>)"
      ]
     },
     "execution_count": 75,
     "metadata": {},
     "output_type": "execute_result"
    }
   ],
   "source": [
    "S = ag_rb.env.reset()\n",
    "print(S)\n",
    "ag_rb.V(torch.tensor(S, dtype=torch.float))"
   ]
  },
  {
   "cell_type": "code",
   "execution_count": 63,
   "metadata": {
    "collapsed": true,
    "jupyter": {
     "outputs_hidden": true
    }
   },
   "outputs": [
    {
     "data": {
      "text/plain": [
       "tensor([17.9258], grad_fn=<AddBackward0>)"
      ]
     },
     "execution_count": 63,
     "metadata": {},
     "output_type": "execute_result"
    }
   ],
   "source": [
    "ag_rb.V(torch.tensor([0, 0, 0, 0], dtype=torch.float))"
   ]
  },
  {
   "cell_type": "code",
   "execution_count": null,
   "metadata": {},
   "outputs": [],
   "source": []
  }
 ],
 "metadata": {
  "kernelspec": {
   "display_name": "Python 3",
   "language": "python",
   "name": "python3"
  },
  "language_info": {
   "codemirror_mode": {
    "name": "ipython",
    "version": 3
   },
   "file_extension": ".py",
   "mimetype": "text/x-python",
   "name": "python",
   "nbconvert_exporter": "python",
   "pygments_lexer": "ipython3",
   "version": "3.8.3"
  }
 },
 "nbformat": 4,
 "nbformat_minor": 4
}
